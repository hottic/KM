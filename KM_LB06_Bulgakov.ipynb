{
 "cells": [
  {
   "cell_type": "markdown",
   "id": "378a41c9-feeb-4c6e-a36a-915e8b79e3e1",
   "metadata": {},
   "source": [
    "# Лабораторная работа №6"
   ]
  },
  {
   "cell_type": "markdown",
   "id": "ff50eb4a-7330-40e5-8f1d-ad9c93af7cf0",
   "metadata": {},
   "source": [
    "Булгаков А.Е. 20.05.2025"
   ]
  },
  {
   "cell_type": "code",
   "execution_count": 1,
   "id": "a138aaec-f6b1-4928-b1ce-277bffaa8f39",
   "metadata": {},
   "outputs": [
    {
     "data": {
      "text/html": [
       "<style>h1 {\n",
       "  background-color: #e5f4ff;\n",
       "  padding: 10px;\n",
       "  font-family: 'Times New Roman', Times, serif;\n",
       "  font-weight: bold !important;\n",
       "  text-align: center;\n",
       "  margin-bottom: 20px;\n",
       "  line-height: 1.5;\n",
       "  font-size: 28px !important;\n",
       "  color: #007AC0\n",
       "}\n",
       "\n",
       "h2, h3, h4, h5, h6 {\n",
       "  color: #EC7600;\n",
       "  background-color: #FFECD9;\n",
       "  padding: 10px;\n",
       "  font-family: 'Times New Roman', Times, serif;\n",
       "  font-weight: bold !important;\n",
       "  text-align: center;\n",
       "  margin-bottom: 24px;\n",
       "  line-height: 1.5;\n",
       "  font-size: 24px !important;\n",
       "}\n",
       "\n",
       "p, ol {\n",
       "  font-family: 'Times New Roman', Times, serif;\n",
       "  font-size: 20px;\n",
       "  text-align: justify;\n",
       "  line-height: 1.5;\n",
       "}\n",
       "\n",
       "code {\n",
       "  font-family: \"JetBrains Mono\", monospace !important;\n",
       "  font-size: 16px;\n",
       "}\n",
       "</style>"
      ],
      "text/plain": [
       "<IPython.core.display.HTML object>"
      ]
     },
     "metadata": {},
     "output_type": "display_data"
    }
   ],
   "source": [
    "from IPython.display import display, HTML\n",
    "display(HTML(\"<style>\" + open(\"customs.css\").read() + \"</style>\"))\n",
    "\n",
    "%config IPCompleter.greedy = True"
   ]
  },
  {
   "cell_type": "code",
   "execution_count": 2,
   "id": "ba74db15-6c5b-4e86-a140-49e2bf689ea1",
   "metadata": {},
   "outputs": [
    {
     "ename": "RecursionError",
     "evalue": "maximum recursion depth exceeded",
     "output_type": "error",
     "traceback": [
      "\u001b[1;31m---------------------------------------------------------------------------\u001b[0m",
      "\u001b[1;31mRecursionError\u001b[0m                            Traceback (most recent call last)",
      "Cell \u001b[1;32mIn[2], line 4\u001b[0m\n\u001b[0;32m      2\u001b[0m \u001b[38;5;28;01mdef\u001b[39;00m\u001b[38;5;250m \u001b[39m\u001b[38;5;21mrecursive\u001b[39m():\n\u001b[0;32m      3\u001b[0m     recursive()\n\u001b[1;32m----> 4\u001b[0m \u001b[43mrecursive\u001b[49m\u001b[43m(\u001b[49m\u001b[43m)\u001b[49m\n",
      "Cell \u001b[1;32mIn[2], line 3\u001b[0m, in \u001b[0;36mrecursive\u001b[1;34m()\u001b[0m\n\u001b[0;32m      2\u001b[0m \u001b[38;5;28;01mdef\u001b[39;00m\u001b[38;5;250m \u001b[39m\u001b[38;5;21mrecursive\u001b[39m():\n\u001b[1;32m----> 3\u001b[0m     \u001b[43mrecursive\u001b[49m\u001b[43m(\u001b[49m\u001b[43m)\u001b[49m\n",
      "Cell \u001b[1;32mIn[2], line 3\u001b[0m, in \u001b[0;36mrecursive\u001b[1;34m()\u001b[0m\n\u001b[0;32m      2\u001b[0m \u001b[38;5;28;01mdef\u001b[39;00m\u001b[38;5;250m \u001b[39m\u001b[38;5;21mrecursive\u001b[39m():\n\u001b[1;32m----> 3\u001b[0m     \u001b[43mrecursive\u001b[49m\u001b[43m(\u001b[49m\u001b[43m)\u001b[49m\n",
      "    \u001b[1;31m[... skipping similar frames: recursive at line 3 (2974 times)]\u001b[0m\n",
      "Cell \u001b[1;32mIn[2], line 3\u001b[0m, in \u001b[0;36mrecursive\u001b[1;34m()\u001b[0m\n\u001b[0;32m      2\u001b[0m \u001b[38;5;28;01mdef\u001b[39;00m\u001b[38;5;250m \u001b[39m\u001b[38;5;21mrecursive\u001b[39m():\n\u001b[1;32m----> 3\u001b[0m     \u001b[43mrecursive\u001b[49m\u001b[43m(\u001b[49m\u001b[43m)\u001b[49m\n",
      "\u001b[1;31mRecursionError\u001b[0m: maximum recursion depth exceeded"
     ]
    }
   ],
   "source": [
    "# Пример ситуации, в которой будет выведена ошибка RecursionError;\n",
    "def recursive():\n",
    "    recursive()\n",
    "recursive()"
   ]
  },
  {
   "cell_type": "markdown",
   "id": "7984bc84-2565-4494-a5c7-6350979c0d86",
   "metadata": {},
   "source": [
    "Функции `getrecursionlimit` и `setrecursionlimit` из модуля **sys** позволяют получить глубину рекурсии и изменить ее:"
   ]
  },
  {
   "cell_type": "code",
   "execution_count": 3,
   "id": "065de0c0-47a5-4d92-ae54-7bcca4195691",
   "metadata": {},
   "outputs": [
    {
     "data": {
      "text/plain": [
       "3000"
      ]
     },
     "execution_count": 3,
     "metadata": {},
     "output_type": "execute_result"
    }
   ],
   "source": [
    "import sys\n",
    "sys.getrecursionlimit()"
   ]
  },
  {
   "cell_type": "markdown",
   "id": "dfa61ed5-2709-451d-bd74-da7db1fa33bc",
   "metadata": {},
   "source": [
    "**Пример рекурсивной функции:**"
   ]
  },
  {
   "cell_type": "code",
   "execution_count": 4,
   "id": "4768feec-c01d-4975-97d1-d8cad12ad452",
   "metadata": {},
   "outputs": [
    {
     "data": {
      "text/plain": [
       "(0, 3, 55)"
      ]
     },
     "execution_count": 4,
     "metadata": {},
     "output_type": "execute_result"
    }
   ],
   "source": [
    "# Пример рекурсивной функции используя синтаксис def;\n",
    "def dRecSum(number):\n",
    "    \"\"\" Сумма числа 0 до n >= 0 \"\"\"\n",
    "    match number:\n",
    "        case 0: return number\n",
    "        case _: return number + dRecSum(number - 1)\n",
    "dRecSum(0), dRecSum(2), dRecSum(10)"
   ]
  },
  {
   "cell_type": "code",
   "execution_count": 5,
   "id": "f572ecc2-b6fc-4b72-8cf8-2d77ba181cbf",
   "metadata": {},
   "outputs": [
    {
     "data": {
      "text/plain": [
       "(0, 3, 55)"
      ]
     },
     "execution_count": 5,
     "metadata": {},
     "output_type": "execute_result"
    }
   ],
   "source": [
    "# Пример рекурсивной функции используя синтаксис lambda-функции;\n",
    "lRecSum = lambda number: number + lRecSum(number - 1) if number else number\n",
    "lRecSum(0), lRecSum(2), lRecSum(10)"
   ]
  },
  {
   "cell_type": "markdown",
   "id": "542c5079-3435-4062-9c43-0c627f123ac7",
   "metadata": {},
   "source": [
    "### Постановка задачи"
   ]
  },
  {
   "cell_type": "markdown",
   "id": "5676f386-5181-439e-82b5-c33498186dbc",
   "metadata": {},
   "source": [
    "Напишите пользовательскую функцию **flattenIt(nestedObj, gen)** выравнивания списка на основе *рекурсии*, которая для списка **nestedObj**, содержащего различные итерируемые объекты (строка, список, кортеж, множество, словарь), возвращает либо список из всех элементов итерируемых объектов без сохранения структуры итерируемых объектов, если **gen = False**, либо функция возвращает генераторный объект, если **gen = True** , который генерирует по запросу элементы итерируемых объектов при итерационном проходе по исходному списку."
   ]
  },
  {
   "cell_type": "markdown",
   "id": "822193ab-0843-4233-9c19-f2c30c09b474",
   "metadata": {},
   "source": [
    "## Задание №1. Выравнивание вложенных циклов"
   ]
  },
  {
   "cell_type": "markdown",
   "id": "dddfcd9e-d308-44a7-997a-9c2bd98bd758",
   "metadata": {},
   "source": [
    "### Подзадание №1.1. Рекурсивная функция flattenListV1"
   ]
  },
  {
   "cell_type": "markdown",
   "id": "5b4e9e68-bd5e-4493-a19a-c22344b95a3b",
   "metadata": {},
   "source": [
    "Предположим, что нам нужно выровнять следующий вложенный список:"
   ]
  },
  {
   "cell_type": "code",
   "execution_count": 6,
   "id": "b55cf8d8-9faf-4b98-80ef-161b799795ce",
   "metadata": {},
   "outputs": [],
   "source": [
    "itList = [[1],[2,[3]],[[[[[4]]]]],5,6,7]"
   ]
  },
  {
   "cell_type": "markdown",
   "id": "7beb857d-84ab-44ab-a863-55ce6680202b",
   "metadata": {},
   "source": [
    "Напишем рекурсивную функцию `flattenListV1(nestedObj)`, которая выравнивает вложенный список `nestedObj` и возвращает список, содержащий только элементы исходного списка без сохранения его структуры.\n",
    "\n",
    "Для решения данной задачи будем использовать встроенную функцию **isinstance(item, type)** и синтаксис `+=`."
   ]
  },
  {
   "cell_type": "code",
   "execution_count": 7,
   "id": "1b107aa6-cd15-496e-b950-d002722bb870",
   "metadata": {},
   "outputs": [
    {
     "data": {
      "text/plain": [
       "\u001b[1;31mSignature:\u001b[0m \u001b[0misinstance\u001b[0m\u001b[1;33m(\u001b[0m\u001b[0mobj\u001b[0m\u001b[1;33m,\u001b[0m \u001b[0mclass_or_tuple\u001b[0m\u001b[1;33m,\u001b[0m \u001b[1;33m/\u001b[0m\u001b[1;33m)\u001b[0m\u001b[1;33m\u001b[0m\u001b[1;33m\u001b[0m\u001b[0m\n",
       "\u001b[1;31mDocstring:\u001b[0m\n",
       "Return whether an object is an instance of a class or of a subclass thereof.\n",
       "\n",
       "A tuple, as in ``isinstance(x, (A, B, ...))``, may be given as the target to\n",
       "check against. This is equivalent to ``isinstance(x, A) or isinstance(x, B)\n",
       "or ...`` etc.\n",
       "\u001b[1;31mType:\u001b[0m      builtin_function_or_method"
      ]
     },
     "metadata": {},
     "output_type": "display_data"
    }
   ],
   "source": [
    "?isinstance"
   ]
  },
  {
   "cell_type": "markdown",
   "id": "155c1984-a0ee-4c5b-bced-b7bd4fe13f9f",
   "metadata": {},
   "source": [
    "**Реализация:**"
   ]
  },
  {
   "cell_type": "code",
   "execution_count": 8,
   "id": "bf4e5238-a4df-4b7c-b01e-e2f92b110d3f",
   "metadata": {},
   "outputs": [
    {
     "data": {
      "text/plain": [
       "[1, 2, 3, 4, 5, 6, 7]"
      ]
     },
     "execution_count": 8,
     "metadata": {},
     "output_type": "execute_result"
    }
   ],
   "source": [
    "def flattenListV1(nestedObj: list) -> list:\n",
    "    # Создаем список в который будет добавлять элементы \n",
    "    # исходного списка, без сохранения структуры;\n",
    "    result = []\n",
    "\n",
    "    # Проверяем объект: является ли он списком ?;\n",
    "    if isinstance(nestedObj, list):\n",
    "        # Если да, то проходим по каждому элементу списка;\n",
    "        for item in nestedObj:\n",
    "            # Рекурсивно обрабатываем каждый item списка и добавляем в result;\n",
    "            result += flattenListV1(item)\n",
    "    else:\n",
    "        # В ином случае добавляем в result, nestedObj;\n",
    "        result += [nestedObj]\n",
    "\n",
    "    # Возвращаем список с результатом выполнения функции;\n",
    "    return result\n",
    "\n",
    "flattenListV1(itList)"
   ]
  },
  {
   "cell_type": "markdown",
   "id": "6652d362-837e-4693-a037-26e32ba5634f",
   "metadata": {},
   "source": [
    "### Подзадание №1.2. Генераторная функция на основе рекурсии flattenListV2\n"
   ]
  },
  {
   "cell_type": "markdown",
   "id": "f2364e9b-6d07-45a4-89bf-dab594cbbb4d",
   "metadata": {},
   "source": [
    "На основе функции **flattenListV1(nestedObj)** генераторную функцию **flattenListV2(nestedObj)**, которая выравнивает вложенный список и возвращает генератнорый объект для элементов вложенного списка.\n",
    "\n",
    "Предложим два варианта реализации: только с использованием **yield *(вариант 1)*** и с использованием **yield from *(вариант 2)***."
   ]
  },
  {
   "cell_type": "code",
   "execution_count": 9,
   "id": "4d8ff234-9b27-4db9-ac25-929042bdf805",
   "metadata": {},
   "outputs": [
    {
     "data": {
      "text/plain": [
       "[1, 2, 3, 4, 5, 6, 7]"
      ]
     },
     "execution_count": 9,
     "metadata": {},
     "output_type": "execute_result"
    }
   ],
   "source": [
    "# Вариант №1 выполнения задания 1.2;\n",
    "def flattenListV2(nestedObj: list):\n",
    "    # Проверяем, является nestedObj списком;\n",
    "    if isinstance(nestedObj, list):\n",
    "        # Итерируемся по каждому элементу списка nestedObj;\n",
    "        for iItem in nestedObj:\n",
    "            # Рекурсивно обрабатываем каждый элемент;\n",
    "            for jItem in flattenListV2(iItem):\n",
    "                yield jItem\n",
    "    else:\n",
    "        # Если элемент не список, возвращаем его;\n",
    "        yield nestedObj\n",
    "\n",
    "[elem for elem in flattenListV2(itList)]"
   ]
  },
  {
   "cell_type": "code",
   "execution_count": 10,
   "id": "155131da-02a3-45d2-a9ea-c2079f910481",
   "metadata": {},
   "outputs": [
    {
     "data": {
      "text/plain": [
       "[1, 2, 3, 4, 5, 6, 7]"
      ]
     },
     "execution_count": 10,
     "metadata": {},
     "output_type": "execute_result"
    }
   ],
   "source": [
    "# Вариант №2 выполнения задания 1.2;\n",
    "def flattenListV2(nestedObj: list):\n",
    "    # Проверяем, является nestedObj списком;\n",
    "    if isinstance(nestedObj, list):\n",
    "        # Итерируемся по каждому элементу списка nestedObj;\n",
    "        for item in nestedObj:\n",
    "            # Рекурсивно раскрываем вложенные структуры;\n",
    "            yield from flattenListV2(item)\n",
    "    else:\n",
    "        # Возвращаем конечный элемент;\n",
    "        yield nestedObj\n",
    "\n",
    "[elem for elem in flattenListV2(itList)]"
   ]
  },
  {
   "cell_type": "markdown",
   "id": "ab366c46-d0c5-4c72-b59c-ba4a24e71ae2",
   "metadata": {},
   "source": [
    "### Подзадание №1.3. Функция flattenList: создание, документирование, тестирование"
   ]
  },
  {
   "cell_type": "markdown",
   "id": "0aabf8e9-f2c9-4489-95d6-3e33789b5f3e",
   "metadata": {},
   "source": [
    "Объедините две пользовательские функции `flattenListV1` и `flattenListV2` в одну пользовательскую функцию `flattenList(nestedObj, gen)`, которая возвращает либо список из элементов вложенных списков без сохранения структуры, если `gen = False`, либо возвращает генераторный объект, если `gen = True`. Стандартным значением для аргумента **gen** является объект **False**.\n"
   ]
  },
  {
   "cell_type": "code",
   "execution_count": 11,
   "id": "29572f5a-02fa-4869-b5af-2fe0e8135c65",
   "metadata": {},
   "outputs": [],
   "source": [
    "def flattenList(nestedObj: list, gen: bool = False):\n",
    "    \"\"\"\n",
    "    Рекурсивно преобразует вложенный список в одномерную структуру.\n",
    "    \n",
    "    Возвращает все элементы исходного списка в виде одномерного списка или генератора,\n",
    "    сохраняя порядок элементов. Обрабатывает списки любой глубины вложения.\n",
    "\n",
    "    Параметры:\n",
    "        nestedObj: list\n",
    "            Вложенный список произвольной глубины для преобразования.\n",
    "        gen: bool, optional (по умолчанию False)\n",
    "            Определяет тип возвращаемого значения (указано в пункте \"Возвращает\").\n",
    "\n",
    "    Возвращает:\n",
    "        list или generator:\n",
    "            1) Если gen = False: плоский список всех элементов;\n",
    "            2) Если gen = True: генератор, последовательно возвращающий элементы.\n",
    "    \"\"\"\n",
    "\n",
    "\n",
    "    # Фукнкция возвращающая одномерный список;\n",
    "    def flattenListV1(nestedObj: list) -> list:\n",
    "        result = []\n",
    "        if isinstance(nestedObj, list):\n",
    "            for item in nestedObj:\n",
    "                result += flattenListV1(item)\n",
    "        else:\n",
    "            result += [nestedObj]\n",
    "            \n",
    "        return result\n",
    "\n",
    "\n",
    "    # Генераторная функция;\n",
    "    def flattenListV2(nestedObj: list):\n",
    "        if isinstance(nestedObj, list):\n",
    "            for item in nestedObj:\n",
    "                yield from flattenListV2(item)\n",
    "        else:\n",
    "            yield nestedObj\n",
    "\n",
    "    # Словарь, с парами (значение gen, вызываемая функция);\n",
    "    genDict = {\"True\": flattenListV2,\n",
    "              \"False\": flattenListV1}\n",
    "\n",
    "    return genDict[str(gen)](nestedObj)"
   ]
  },
  {
   "cell_type": "code",
   "execution_count": 12,
   "id": "ade7469a-332f-438a-912d-fe84b43c028f",
   "metadata": {},
   "outputs": [
    {
     "name": "stdout",
     "output_type": "stream",
     "text": [
      "\n",
      "Рекурсивно преобразует вложенный список в одномерную структуру.\n",
      "\n",
      "Возвращает все элементы исходного списка в виде одномерного списка или генератора,\n",
      "сохраняя порядок элементов. Обрабатывает списки любой глубины вложения.\n",
      "\n",
      "Параметры:\n",
      "    nestedObj: list\n",
      "        Вложенный список произвольной глубины для преобразования.\n",
      "    gen: bool, optional (по умолчанию False)\n",
      "        Определяет тип возвращаемого значения (указано в пункте \"Возвращает\").\n",
      "\n",
      "Возвращает:\n",
      "    list или generator:\n",
      "        1) Если gen = False: плоский список всех элементов;\n",
      "        2) Если gen = True: генератор, последовательно возвращающий элементы.\n"
     ]
    }
   ],
   "source": [
    "# Выведем строки документации;\n",
    "print(flattenList.__doc__, end = \"\")"
   ]
  },
  {
   "cell_type": "markdown",
   "id": "d653cf47-be3b-4533-8aba-9934feb916a4",
   "metadata": {},
   "source": [
    "**Примеры вызова функции flattenList:**"
   ]
  },
  {
   "cell_type": "code",
   "execution_count": 13,
   "id": "2b817ca1-0262-496a-8d4f-d7d1db244d90",
   "metadata": {},
   "outputs": [
    {
     "name": "stdout",
     "output_type": "stream",
     "text": [
      "Пример вызова функции flattenList для [[[1]], 2, [5], [[[[3]]]], 1], если gen не указан [1, 2, 5, 3, 1]\n",
      "\n",
      "Пример вызова функции flattenList для [[[1]], 2, [5], [[[[3]]]], 1], если gen = False не указан [1, 2, 5, 3, 1]\n",
      "\n",
      "Пример вызова функции flattenList для [[[1]], 2, [5], [[[[3]]]], 1], если gen = True <generator object flattenList.<locals>.flattenListV2 at 0x00000196D11166C0>\n"
     ]
    }
   ],
   "source": [
    "# Пример №1; \n",
    "exList = [[[1]], 2, [5], [[[[3]]]], 1]\n",
    "print(f\"Пример вызова функции flattenList для {exList}, если gen не указан {flattenList(exList)}\\n\")\n",
    "\n",
    "# Пример №2;\n",
    "print(f\"Пример вызова функции flattenList для {exList}, если gen = False не указан {flattenList(exList, gen = False)}\\n\")\n",
    "\n",
    "# Пример №3;\n",
    "print(f\"Пример вызова функции flattenList для {exList}, если gen = True {flattenList(exList, True)}\")"
   ]
  },
  {
   "cell_type": "markdown",
   "id": "79889778-a3f5-4299-97f0-e257ca136c2a",
   "metadata": {},
   "source": [
    "Как мы видим, 3-ий вывод, при `gen = True` будет возвращаться генераторный объект `<generator object flattenList.<locals>.flattenListV2 at 0x00000264169CA9B0>`. Чтобы вывести его, воспользуемся следующей структурой:"
   ]
  },
  {
   "cell_type": "code",
   "execution_count": 14,
   "id": "7fe51a27-66ad-49f5-8755-e9be0170d741",
   "metadata": {},
   "outputs": [
    {
     "data": {
      "text/plain": [
       "[1, 2, 5, 3, 1]"
      ]
     },
     "execution_count": 14,
     "metadata": {},
     "output_type": "execute_result"
    }
   ],
   "source": [
    "[elem for elem in flattenList(exList, True)]"
   ]
  },
  {
   "cell_type": "markdown",
   "id": "0e43d141-f1fd-46be-8b03-d674041f7a3d",
   "metadata": {},
   "source": [
    "## Задание №2. Выравнивание вложенных итерируемых объектов произвольного типа\n"
   ]
  },
  {
   "cell_type": "markdown",
   "id": "a08dae7b-5c7d-4e77-8c55-c3755ebe4529",
   "metadata": {},
   "source": [
    "**Создадим различные итерируемые объекты**: список, кортеж, строка, словарь, генераторный объект, файловый объект"
   ]
  },
  {
   "cell_type": "code",
   "execution_count": 40,
   "id": "1a8bda5e-323e-46bc-84c0-3375e75d3253",
   "metadata": {},
   "outputs": [],
   "source": [
    "# Итерируемый объект список;\n",
    "itList \n",
    "\n",
    "# Итерируемый объект кортеж;\n",
    "itTuple = (((7), (8)), (9), 10)\n",
    "\n",
    "# Итерируемый объект строка;\n",
    "itStr = \"abcdefgh\"\n",
    "\n",
    "# Итерируемый объект словарь;\n",
    "itDict = {\"key1\": 11, \"key2\": {\"key3\": 12}}\n",
    "\n",
    "# Генератореый объект;\n",
    "itGen = ([step, step ** 2, step ** 3] for step in range(5))\n",
    "\n",
    "# Файловый объект;\n",
    "itFile = open(\"flattenFile.txt\")"
   ]
  },
  {
   "cell_type": "markdown",
   "id": "074e80fe-e292-4096-a4cc-e810844422d2",
   "metadata": {},
   "source": [
    "Объединим все итерируемые объекты в список:"
   ]
  },
  {
   "cell_type": "code",
   "execution_count": 41,
   "id": "c1c81740-fc62-4ae0-b0a2-aaf7763bc7a8",
   "metadata": {},
   "outputs": [],
   "source": [
    "it = [itList, itTuple, itStr, itDict, itGen, itFile]"
   ]
  },
  {
   "cell_type": "markdown",
   "id": "c8939648-3692-49d3-89ec-c5d992f70e89",
   "metadata": {},
   "source": [
    "Все итерируемые объекты имеют метод `__iter__` для создания объекта итератора:"
   ]
  },
  {
   "cell_type": "code",
   "execution_count": 17,
   "id": "a92ac31c-3cfa-4f51-818b-5e0e4f038a4d",
   "metadata": {},
   "outputs": [
    {
     "data": {
      "text/plain": [
       "[True, True, True, True, True, True]"
      ]
     },
     "execution_count": 17,
     "metadata": {},
     "output_type": "execute_result"
    }
   ],
   "source": [
    "# Это генератор списка (list comprehension), который проверяет, \n",
    "# является ли каждый элемент итерируемого объекта it итератором или итерируемым.\n",
    "['__iter__' in dir(_) for _ in it]"
   ]
  },
  {
   "cell_type": "markdown",
   "id": "69bc8764-2e6e-414f-9db0-ca8d87382c96",
   "metadata": {},
   "source": [
    "Функция `hasattr()` проверяет, существует ли указанный атрибут или метод у объекта:"
   ]
  },
  {
   "cell_type": "code",
   "execution_count": 18,
   "id": "6589f609-3159-487c-bbed-a10208d8ea91",
   "metadata": {},
   "outputs": [
    {
     "data": {
      "text/plain": [
       "[True, True, True, True, True, True]"
      ]
     },
     "execution_count": 18,
     "metadata": {},
     "output_type": "execute_result"
    }
   ],
   "source": [
    "[hasattr(_, '__iter__') for _ in it]"
   ]
  },
  {
   "cell_type": "code",
   "execution_count": 19,
   "id": "09c2f467-0df5-42a3-9e42-5a21ee4f5e98",
   "metadata": {},
   "outputs": [
    {
     "data": {
      "text/plain": [
       "\u001b[1;31mSignature:\u001b[0m \u001b[0mhasattr\u001b[0m\u001b[1;33m(\u001b[0m\u001b[0mobj\u001b[0m\u001b[1;33m,\u001b[0m \u001b[0mname\u001b[0m\u001b[1;33m,\u001b[0m \u001b[1;33m/\u001b[0m\u001b[1;33m)\u001b[0m\u001b[1;33m\u001b[0m\u001b[1;33m\u001b[0m\u001b[0m\n",
       "\u001b[1;31mDocstring:\u001b[0m\n",
       "Return whether the object has an attribute with the given name.\n",
       "\n",
       "This is done by calling getattr(obj, name) and catching AttributeError.\n",
       "\u001b[1;31mType:\u001b[0m      builtin_function_or_method"
      ]
     },
     "metadata": {},
     "output_type": "display_data"
    }
   ],
   "source": [
    "?hasattr"
   ]
  },
  {
   "cell_type": "markdown",
   "id": "7f8b7509-9dc4-4bb5-816d-52ede9aa0e3e",
   "metadata": {},
   "source": [
    "### Подзадание №2.1. Рекурсивная функция flattenItV1"
   ]
  },
  {
   "cell_type": "markdown",
   "id": "bb9ee2d5-ce2e-457a-91a7-2a8d7a7b1768",
   "metadata": {},
   "source": [
    "На основе функции `flattenListV1(nestedObj)` напишем пользовательскую функцию `flattenItV1(nested_obj)` одного аргумента, которая выравнивает вложенную структуру из различных итерируемых объектов и возвращает список, содержащий только элементы без сохранения структуры.\n",
    "\n",
    "Для этого вместо проверки `isinstance(nestedObj, list)` будем использовать проверку на итерируемость объекта `hasattr(nestedObj, '__iter__')`.\n",
    "\n",
    "При этом дополнительно учтем, что если итерируемым объектом является:\n",
    "1) Строка, то ее мы не итерируем;\n",
    "2) Словарь, то для его итерирования нужно выполнить дополнительные преобразования, чтобы осущесвить проход как по ключам, так и по значениям."
   ]
  },
  {
   "cell_type": "code",
   "execution_count": 20,
   "id": "bfb12bf2-7216-4d38-87fe-e7cbf1d251d8",
   "metadata": {},
   "outputs": [
    {
     "data": {
      "text/plain": [
       "[1,\n",
       " 2,\n",
       " 3,\n",
       " 4,\n",
       " 5,\n",
       " 6,\n",
       " 7,\n",
       " 7,\n",
       " 8,\n",
       " 9,\n",
       " 10,\n",
       " 'abcdefgh',\n",
       " 'key1',\n",
       " 11,\n",
       " 'key2',\n",
       " 'key3',\n",
       " 12,\n",
       " 0,\n",
       " 0,\n",
       " 0,\n",
       " 1,\n",
       " 1,\n",
       " 1,\n",
       " 2,\n",
       " 4,\n",
       " 8,\n",
       " 3,\n",
       " 9,\n",
       " 27,\n",
       " 4,\n",
       " 16,\n",
       " 64,\n",
       " 'Sed ut perspiciatis unde omnis iste natus error sit voluptatem accusantium doloremque laudantium, totam rem aperiam, eaque ipsa quae ab illo inventore \\n',\n",
       " 'veritatis et quasi architecto beatae vitae dicta sunt explicabo. Nemo enim ipsam voluptatem quia voluptas sit aspernatur aut odit aut fugit, sed quia \\n',\n",
       " 'consequuntur magni dolores eos qui ratione voluptatem sequi nesciunt. Neque porro quisquam est, qui dolorem ipsum quia dolor sit amet, consectetur, \\n',\n",
       " 'adipisci velit, sed quia non numquam eius modi tempora incidunt ut labore et dolore magnam aliquam quaerat voluptatem. Ut enim ad minima veniam, quis \\n',\n",
       " 'nostrum exercitationem ullam corporis suscipit laboriosam, nisi ut aliquid ex ea commodi consequatur? Quis autem vel eum iure reprehenderit qui in ea \\n',\n",
       " 'voluptate velit esse quam nihil molestiae consequatur, vel illum qui dolorem eum fugiat quo voluptas nulla pariatur?']"
      ]
     },
     "execution_count": 20,
     "metadata": {},
     "output_type": "execute_result"
    }
   ],
   "source": [
    "def flattenItV1(nestedObj):\n",
    "    result = []\n",
    "    # Проверяем объект nestedObj: он должен быть итерируемым\n",
    "    # и не иметь тип str (этого требует условие);\n",
    "    if hasattr(nestedObj, \"__iter__\") and not isinstance(nestedObj, str):\n",
    "        # Обработка словаря требует отдельного синтаксиса, поэтому проверяем, \n",
    "        # является ли nestedObj им;\n",
    "        if isinstance(nestedObj, dict):\n",
    "            # Отдельно проходимся по каждой паре (key, item), предварительно\n",
    "            # полученных используя метод dict.items();\n",
    "            for dictItem in nestedObj.items():\n",
    "                result += flattenItV1(dictItem) # Рекурсия;\n",
    "        else:\n",
    "            # Отедльный цикл обработки других итерируемых объектов;\n",
    "            for item in nestedObj:\n",
    "                result += flattenItV1(item)\n",
    "    else:\n",
    "        # В противном случае nestedObj не итерируем и добавляем его result;\n",
    "        result += [nestedObj]\n",
    "\n",
    "    # Возвращаем список result;\n",
    "    return result\n",
    "\n",
    "# Воспользуемся функцией flattenListV1 для ранее созданного списка it;\n",
    "flattenItV1(it)"
   ]
  },
  {
   "cell_type": "markdown",
   "id": "994a0227-ef40-4d50-8b8b-ade3f372c7ba",
   "metadata": {},
   "source": [
    "### Подзадание №2.2. Генераторная функция на основе рекурсии flattenItV2\n"
   ]
  },
  {
   "cell_type": "markdown",
   "id": "c06de5fd-1051-447b-aca3-17274a62a408",
   "metadata": {},
   "source": [
    "На основе функций `flattenItV1` и `flattenListV2` напишем пользовательскую функцию `flattenItB2(nestedObj)`, которая **выравнивает вложенную структуру из различных итерируемых объектов** и возвращает генератнорый объект элементов без сохранения структуры."
   ]
  },
  {
   "cell_type": "code",
   "execution_count": 23,
   "id": "f93552fe-adfd-40f0-8094-61b833a98bad",
   "metadata": {},
   "outputs": [
    {
     "data": {
      "text/plain": [
       "[1,\n",
       " 2,\n",
       " 3,\n",
       " 4,\n",
       " 5,\n",
       " 6,\n",
       " 7,\n",
       " 7,\n",
       " 8,\n",
       " 9,\n",
       " 10,\n",
       " 'abcdefgh',\n",
       " 'key1',\n",
       " 11,\n",
       " 'key2',\n",
       " 'key3',\n",
       " 12,\n",
       " 0,\n",
       " 0,\n",
       " 0,\n",
       " 1,\n",
       " 1,\n",
       " 1,\n",
       " 2,\n",
       " 4,\n",
       " 8,\n",
       " 3,\n",
       " 9,\n",
       " 27,\n",
       " 4,\n",
       " 16,\n",
       " 64,\n",
       " 'Sed ut perspiciatis unde omnis iste natus error sit voluptatem accusantium doloremque laudantium, totam rem aperiam, eaque ipsa quae ab illo inventore \\n',\n",
       " 'veritatis et quasi architecto beatae vitae dicta sunt explicabo. Nemo enim ipsam voluptatem quia voluptas sit aspernatur aut odit aut fugit, sed quia \\n',\n",
       " 'consequuntur magni dolores eos qui ratione voluptatem sequi nesciunt. Neque porro quisquam est, qui dolorem ipsum quia dolor sit amet, consectetur, \\n',\n",
       " 'adipisci velit, sed quia non numquam eius modi tempora incidunt ut labore et dolore magnam aliquam quaerat voluptatem. Ut enim ad minima veniam, quis \\n',\n",
       " 'nostrum exercitationem ullam corporis suscipit laboriosam, nisi ut aliquid ex ea commodi consequatur? Quis autem vel eum iure reprehenderit qui in ea \\n',\n",
       " 'voluptate velit esse quam nihil molestiae consequatur, vel illum qui dolorem eum fugiat quo voluptas nulla pariatur?']"
      ]
     },
     "execution_count": 23,
     "metadata": {},
     "output_type": "execute_result"
    }
   ],
   "source": [
    "# Генераторная функция;\n",
    "def flattenItV2(nestedObj):\n",
    "    result = []\n",
    "    # Проверяем объект nestedObj: он должен быть итерируемым\n",
    "    # и не иметь тип str (этого требует условие);\n",
    "    if hasattr(nestedObj, \"__iter__\") and not isinstance(nestedObj, str):\n",
    "        # Обработка словаря требует отдельного синтаксиса, поэтому проверяем, \n",
    "        # является ли nestedObj им;\n",
    "        if isinstance(nestedObj, dict):\n",
    "            # Отдельно проходимся по каждой паре (key, item), предварительно\n",
    "            # полученных используя метод dict.items();\n",
    "            for dictItem in nestedObj.items():\n",
    "                yield from flattenItV2(dictItem) # Рекурсия с использованием синтаксиса yield;\n",
    "        else:\n",
    "            # Отдельный цикл обработки других итерируемых объектов;\n",
    "            for item in nestedObj:\n",
    "                yield from flattenItV2(item) # Рекурсия с использованием синтаксиса yield;\n",
    "    else:\n",
    "        yield nestedObj\n",
    "\n",
    "# Воспользуемся функцией flattenListV2 для ранее созданного списка it;\n",
    "[elem for elem in flattenItV2(it)]"
   ]
  },
  {
   "cell_type": "markdown",
   "id": "0637c3bb-56bc-4f0a-a5c7-c717890d42d2",
   "metadata": {},
   "source": [
    "### Подзадание №2.3. Функция flattenIt: создание, документирование, тестирование"
   ]
  },
  {
   "cell_type": "markdown",
   "id": "ee59b059-711e-4085-9848-f455355f757b",
   "metadata": {},
   "source": [
    "Объединим две пользовательские функции `flattenItV1` и `flattenItV2` в одну функцию `flattenIt(nestedObj, gen)`, которая возвращает либо список из элементов вложенных объектов без сохранения структуры, если **gen = False**, либо возвращает генераторный объект, если **gen = True**. Стандартным значением для аргумента **gen** является объект **False**."
   ]
  },
  {
   "cell_type": "code",
   "execution_count": 24,
   "id": "120fc08f-de32-42bc-a121-d9c53c480514",
   "metadata": {},
   "outputs": [],
   "source": [
    "def flattenIt(nestedObj, gen: bool = False):\n",
    "\n",
    "    \"\"\"\n",
    "    Рекурсивно преобразует вложенные итерируемые объекты в одномерную структуру.\n",
    "    \n",
    "    Поддерживает обработку списков, словарей, кортежей и других iterable-объектов,\n",
    "    исключая строки (они обрабатываются как атомарные элементы).\n",
    "\n",
    "    Параметры:\n",
    "        nestedObj: Any\n",
    "            Вложенная структура данных произвольной сложности.\n",
    "            Может содержать комбинации списков, словарей и других итерируемых объектов.\n",
    "        gen: bool, optional (default=False)\n",
    "            Флаг определения формата вывода (подробнее в пункте \"Возвращает\")\n",
    "\n",
    "    Возвращает:\n",
    "        list или generator:\n",
    "            1) При gen = False: одномерный список всех элементов;\n",
    "            2) При gen = True: генератор элементов.\n",
    "    \"\"\"\n",
    "\n",
    "\n",
    "    # Фукнкция возвращающая одномерный список;\n",
    "    def flattenItV1(nestedObj):\n",
    "        result = []\n",
    "        if hasattr(nestedObj, \"__iter__\") and not isinstance(nestedObj, str):\n",
    "            if isinstance(nestedObj, dict):\n",
    "                for dictItem in nestedObj.items():\n",
    "                    result += flattenItV1(dictItem)\n",
    "            else:\n",
    "                for item in nestedObj:\n",
    "                    result += flattenItV1(item)\n",
    "        else:\n",
    "            result += [nestedObj]\n",
    "    \n",
    "        return result\n",
    "\n",
    "\n",
    "    # Генераторная функция;\n",
    "    def flattenItV2(nestedObj):\n",
    "        result = []\n",
    "        if hasattr(nestedObj, \"__iter__\") and not isinstance(nestedObj, str):\n",
    "            if isinstance(nestedObj, dict):\n",
    "                for dictItem in nestedObj.items():\n",
    "                    yield from flattenItV2(dictItem)\n",
    "            else:\n",
    "                for item in nestedObj:\n",
    "                    yield from flattenItV2(item)\n",
    "        else:\n",
    "            yield nestedObj\n",
    "\n",
    "\n",
    "    # Словарь, с парами (значение gen, вызываемая функция);\n",
    "    genDict = {\"True\": flattenItV2,\n",
    "              \"False\": flattenItV1\n",
    "              }\n",
    "\n",
    "    return genDict[str(gen)](nestedObj)"
   ]
  },
  {
   "cell_type": "code",
   "execution_count": 25,
   "id": "d427bcd5-4eb4-4b90-83d8-5d155563c231",
   "metadata": {},
   "outputs": [
    {
     "name": "stdout",
     "output_type": "stream",
     "text": [
      "\n",
      "Рекурсивно преобразует вложенные итерируемые объекты в одномерную структуру.\n",
      "\n",
      "Поддерживает обработку списков, словарей, кортежей и других iterable-объектов,\n",
      "исключая строки (они обрабатываются как атомарные элементы).\n",
      "\n",
      "Параметры:\n",
      "    nestedObj: Any\n",
      "        Вложенная структура данных произвольной сложности.\n",
      "        Может содержать комбинации списков, словарей и других итерируемых объектов.\n",
      "    gen: bool, optional (default=False)\n",
      "        Флаг определения формата вывода (подробнее в пункте \"Возвращает\")\n",
      "\n",
      "Возвращает:\n",
      "    list или generator:\n",
      "        1) При gen = False: одномерный список всех элементов;\n",
      "        2) При gen = True: генератор элементов.\n"
     ]
    }
   ],
   "source": [
    "# Выведем строки документации;\n",
    "print(flattenIt.__doc__, end = \"\")"
   ]
  },
  {
   "cell_type": "markdown",
   "id": "395dcec2-303c-4202-a2f5-494411b35bd1",
   "metadata": {},
   "source": [
    "**Примеры вызова функции flattenList:**"
   ]
  },
  {
   "cell_type": "code",
   "execution_count": 26,
   "id": "bbab1452-78b2-481e-acc3-c795fdc729cc",
   "metadata": {},
   "outputs": [
    {
     "name": "stdout",
     "output_type": "stream",
     "text": [
      "Пример вызова функции flattenList для [[[1]], 2, [5], [[[[3]]]], 1], если gen не указан [1, 2, 5, 1, 'apple', 3, 1, 'affdgd']\n",
      "\n",
      "Пример вызова функции flattenList для [[[1]], 2, [5], [[[[3]]]], 1], если gen = False не указан ['apple', 'banana', 1, 2, 'key1', 3, 4]\n",
      "\n",
      "Пример вызова функции flattenList для [[[1]], 2, [5], [[[[3]]]], 1], если gen = True: <generator object flattenIt.<locals>.flattenItV2 at 0x00000196D16DB880> — как мы видим функция вернула генераторный объект. Выведем его элементы: [0, 1, 3, 6, 10, 15, 21, 28, 36, 45]\n"
     ]
    }
   ],
   "source": [
    "# Пример №1; \n",
    "ex1 = [[[1]], 2, [5], (1, (\"apple\")), [[[[3]]]], 1, \"affdgd\"]\n",
    "print(f\"Пример вызова функции flattenList для {exList}, если gen не указан {flattenIt(ex1)}\\n\")\n",
    "\n",
    "# Пример №2;\n",
    "ex2 = {\"apple\": {\"banana\": (1, 2)}, \"key1\": [3, 4]}\n",
    "print(f\"Пример вызова функции flattenList для {exList}, если gen = False не указан {flattenIt(ex2, gen = False)}\\n\")\n",
    "\n",
    "# Пример №3;\n",
    "ex3 = [lRecSum(number) for number in range(10)]\n",
    "print(f\"Пример вызова функции flattenList для {exList}, если gen = True: {flattenIt(ex3, True)} — \" +\n",
    "      f\"как мы видим функция вернула генераторный объект. Выведем его элементы: {[_ for _ in flattenIt(ex3, True)]}\")"
   ]
  },
  {
   "cell_type": "markdown",
   "id": "f0aed70b-0465-450e-beb8-5bb5d3d6111f",
   "metadata": {},
   "source": [
    "## Задание №3. Обработка циклических объектов"
   ]
  },
  {
   "cell_type": "markdown",
   "id": "c62f9475-0d0d-450e-9917-9fac99372649",
   "metadata": {},
   "source": [
    "**Циклическими объектами в Python** могут быть списки и словари. Циклический список содержит элемент, который ссылается на весь список. Циклический словарь содержит элемент `<ключ>:<значение>`, `<значение>` которого сылается на весь словарь.\n",
    "\n",
    "Создадим циклический объект списка:"
   ]
  },
  {
   "cell_type": "code",
   "execution_count": 27,
   "id": "bd58a20c-b79c-4cf1-82d6-8975b5e2ed76",
   "metadata": {},
   "outputs": [],
   "source": [
    "itListCyclic = itList[:]\n",
    "itListCyclic.append(itListCyclic)"
   ]
  },
  {
   "cell_type": "markdown",
   "id": "70df4a1a-2ca0-4139-ad6b-8554348d4222",
   "metadata": {},
   "source": [
    "Для отображения циклических объектов в Python используется специальный синтаксис:"
   ]
  },
  {
   "cell_type": "code",
   "execution_count": 28,
   "id": "ba7e943b-da30-4507-b3f9-03309581bacc",
   "metadata": {},
   "outputs": [
    {
     "data": {
      "text/plain": [
       "[[1], [2, [3]], [[[[[4]]]]], 5, 6, 7, [...]]"
      ]
     },
     "execution_count": 28,
     "metadata": {},
     "output_type": "execute_result"
    }
   ],
   "source": [
    "itListCyclic"
   ]
  },
  {
   "cell_type": "markdown",
   "id": "aaf8c7cc-f973-41d6-92b3-f8dae8db3bda",
   "metadata": {},
   "source": [
    "Обработаем ситуацию выравнивания вложенного списка из **Задания 1.1**, когда вложенный список является циклическим объектом.\n",
    "\n",
    "Для этого изменим код пользовательской функции `flattenListV1` из **Задания 1.1**, добавив генерацию исключения `ValueError` с помощью оператора **raise**, когда текущий элемент **item** списка **nestedObj** ссылается на этот же список"
   ]
  },
  {
   "cell_type": "code",
   "execution_count": 29,
   "id": "6383c85f-d03d-46ff-ad38-ab556b795b18",
   "metadata": {},
   "outputs": [],
   "source": [
    "def flattenListV1(nestedObj):\n",
    "    result = []\n",
    "    if isinstance(nestedObj, list):\n",
    "        for item in nestedObj:\n",
    "            if item is nestedObj:\n",
    "                raise ValueError(\"Cyclic list is found\") # Генерация исключения;\n",
    "            else:\n",
    "                result += flattenListV1(item)\n",
    "    else:\n",
    "        result += [nestedObj]\n",
    "    \n",
    "    return result"
   ]
  },
  {
   "cell_type": "markdown",
   "id": "2b1fae57-9e86-4d40-b55b-7d3cc34274d3",
   "metadata": {},
   "source": [
    "Протестируем функцию `flattenListV1`:"
   ]
  },
  {
   "cell_type": "code",
   "execution_count": 30,
   "id": "5ca95459-86da-47dd-81b6-4742204fe825",
   "metadata": {},
   "outputs": [
    {
     "data": {
      "text/plain": [
       "[1, 2, 3, 4, 5, 6, 7]"
      ]
     },
     "execution_count": 30,
     "metadata": {},
     "output_type": "execute_result"
    }
   ],
   "source": [
    "# Не на циклическом объекте;\n",
    "flattenListV1(itList)"
   ]
  },
  {
   "cell_type": "code",
   "execution_count": 32,
   "id": "ae43f617-8e69-46de-a73a-36a314ac6ab6",
   "metadata": {},
   "outputs": [
    {
     "ename": "ValueError",
     "evalue": "Cyclic list is found",
     "output_type": "error",
     "traceback": [
      "\u001b[1;31m---------------------------------------------------------------------------\u001b[0m",
      "\u001b[1;31mValueError\u001b[0m                                Traceback (most recent call last)",
      "Cell \u001b[1;32mIn[32], line 2\u001b[0m\n\u001b[0;32m      1\u001b[0m \u001b[38;5;66;03m# На циклическом объекте;\u001b[39;00m\n\u001b[1;32m----> 2\u001b[0m \u001b[43mflattenListV1\u001b[49m\u001b[43m(\u001b[49m\u001b[43mitListCyclic\u001b[49m\u001b[43m)\u001b[49m\n",
      "Cell \u001b[1;32mIn[29], line 6\u001b[0m, in \u001b[0;36mflattenListV1\u001b[1;34m(nestedObj)\u001b[0m\n\u001b[0;32m      4\u001b[0m \u001b[38;5;28;01mfor\u001b[39;00m item \u001b[38;5;129;01min\u001b[39;00m nestedObj:\n\u001b[0;32m      5\u001b[0m     \u001b[38;5;28;01mif\u001b[39;00m item \u001b[38;5;129;01mis\u001b[39;00m nestedObj:\n\u001b[1;32m----> 6\u001b[0m         \u001b[38;5;28;01mraise\u001b[39;00m \u001b[38;5;167;01mValueError\u001b[39;00m(\u001b[38;5;124m\"\u001b[39m\u001b[38;5;124mCyclic list is found\u001b[39m\u001b[38;5;124m\"\u001b[39m) \u001b[38;5;66;03m# Генерация исключения;\u001b[39;00m\n\u001b[0;32m      7\u001b[0m     \u001b[38;5;28;01melse\u001b[39;00m:\n\u001b[0;32m      8\u001b[0m         result \u001b[38;5;241m+\u001b[39m\u001b[38;5;241m=\u001b[39m flattenListV1(item)\n",
      "\u001b[1;31mValueError\u001b[0m: Cyclic list is found"
     ]
    }
   ],
   "source": [
    "# На циклическом объекте;\n",
    "flattenListV1(itListCyclic)"
   ]
  },
  {
   "cell_type": "markdown",
   "id": "3fd50faf-2488-4a5a-9d89-440a707d1da6",
   "metadata": {},
   "source": [
    "Для того, чтобы стандартное сообщение об ошибке не выводилось, перехватим созданное нами исключение `ValueError` внутри функции `flattenListV1` с использованием оператора **try** в сочетании с **except**. Если внутри блока **try** возникнет исключение `ValueError`, то процесс выполнения кода перейдет в блок оператора **except**, для которого указано исключение ValueError:"
   ]
  },
  {
   "cell_type": "code",
   "execution_count": 33,
   "id": "07d9d627-e5b4-4bb8-99f1-0e3ec9b2eae8",
   "metadata": {},
   "outputs": [
    {
     "name": "stdout",
     "output_type": "stream",
     "text": [
      "Cyclic list is found\n"
     ]
    }
   ],
   "source": [
    "try:\n",
    " print(flattenListV1(itListCyclic))\n",
    "except ValueError as text:\n",
    " print(text)"
   ]
  },
  {
   "cell_type": "markdown",
   "id": "0b22c1d2-0cdf-49fb-b9be-afe46181a7ea",
   "metadata": {},
   "source": [
    "### Подзадание №3.1. Доопределение функции flattenIt"
   ]
  },
  {
   "cell_type": "markdown",
   "id": "2356c831-b611-4b74-874d-208c9fc7a2b8",
   "metadata": {},
   "source": [
    "Доопределим пользовательскую функцию `flattenIt` из **Задания 6.2**, добавив генерацию исключения `ValueError` с помощью оператора raise при обработке циклических списков и циклических словарей.\n"
   ]
  },
  {
   "cell_type": "code",
   "execution_count": 36,
   "id": "4101a2fe-d0fb-4492-9e1a-1d98a869ac13",
   "metadata": {},
   "outputs": [],
   "source": [
    "def flattenIt(nestedObj, gen: bool = False):\n",
    "\n",
    "    \"\"\"\n",
    "    Рекурсивно преобразует вложенные итерируемые объекты в одномерную структуру.\n",
    "    \n",
    "    Поддерживает обработку списков, словарей, кортежей и других iterable-объектов,\n",
    "    исключая строки (они обрабатываются как атомарные элементы).\n",
    "\n",
    "    Параметры:\n",
    "        nestedObj: Any\n",
    "            Вложенная структура данных произвольной сложности.\n",
    "            Может содержать комбинации списков, словарей и других итерируемых объектов.\n",
    "        gen: bool, optional (default=False)\n",
    "            Флаг определения формата вывода (подробнее в пункте \"Возвращает\")\n",
    "\n",
    "    Возвращает:\n",
    "        list или generator:\n",
    "            1) При gen = False: одномерный список всех элементов;\n",
    "            2) При gen = True: генератор элементов.\n",
    "\n",
    "    Исключения:\n",
    "        ValueError: \n",
    "            Возникает при обнаружении циклических ссылок во входной структуре\n",
    "    \"\"\"\n",
    "\n",
    "    \n",
    "    \n",
    "    def flattenItV1(nestedObj, firstLevel = None):\n",
    "        if firstLevel is None:\n",
    "            firstLevel = nestedObj\n",
    "        result = []\n",
    "        \n",
    "        if hasattr(nestedObj, \"__iter__\") and not isinstance(nestedObj, str):\n",
    "            if isinstance(nestedObj, dict):\n",
    "                for key, value in nestedObj.items():\n",
    "                    if value is firstLevel: \n",
    "                        raise ValueError(\"Cyclic object is found\")\n",
    "                    result += flattenItV1((key, value), firstLevel)\n",
    "            else:\n",
    "                for item in nestedObj:\n",
    "                    if item is firstLevel:\n",
    "                        raise ValueError(\"Cyclic object is found\")\n",
    "                    result += flattenItV1(item, firstLevel)\n",
    "        else:\n",
    "            result += [nestedObj]\n",
    "        \n",
    "        return result\n",
    "\n",
    "\n",
    "    \n",
    "    \n",
    "    def flattenItV2(nestedObj):\n",
    "        if hasattr(nestedObj, \"__iter__\") and not isinstance(nestedObj, str):\n",
    "            if isinstance(nestedObj, dict):\n",
    "                for dictItem in nestedObj.items():\n",
    "                    yield from flattenItV2(dictItem)\n",
    "            else:\n",
    "                for item in nestedObj:\n",
    "                    if item is nestedObj:\n",
    "                        raise ValueError(\"Cyclic object is found\")\n",
    "                    yield from flattenItV2(item)\n",
    "        else:\n",
    "            yield nestedObj\n",
    "\n",
    "    \n",
    "    \n",
    "    genDict = {\"True\": flattenItV2,\n",
    "              \"False\": flattenItV1\n",
    "              }\n",
    "\n",
    "    return genDict[str(gen)](nestedObj)"
   ]
  },
  {
   "cell_type": "markdown",
   "id": "ad348cfd-bb38-444c-ba48-2590721c357a",
   "metadata": {},
   "source": [
    "### Подзадание №3.2. Тестирование функции flattenIt"
   ]
  },
  {
   "cell_type": "markdown",
   "id": "50aea55b-da4e-4b8f-bf0b-867d8c868866",
   "metadata": {},
   "source": [
    "Протестируем функцию **flattenIt**, перехватывая исключение `ValueError` с помощью операторов **try/except** для циклических объектов различных типов.\n"
   ]
  },
  {
   "cell_type": "code",
   "execution_count": 44,
   "id": "2e152236-a3ae-494a-a971-fbf9c6d53390",
   "metadata": {},
   "outputs": [
    {
     "name": "stdout",
     "output_type": "stream",
     "text": [
      "Cyclic object is found\n"
     ]
    }
   ],
   "source": [
    "# Тестируем для itListCyclic;\n",
    "itListCyclic\n",
    "\n",
    "try:\n",
    "    print(flattenIt(itListCyclic))\n",
    "except ValueError as text:\n",
    "    print(text)"
   ]
  },
  {
   "cell_type": "markdown",
   "id": "be577a52-8ab6-4199-858b-e74fec2fb9ad",
   "metadata": {},
   "source": [
    "**Пояснение ошибки**\n",
    "\n",
    "Функция `flattenIt` ловит прямой цикл **(itListCyclic)**, потому что там список явно содержит сам себя, и проверка **if item is nestedObj** срабатывает. Но она не ловит вложенный цикл **(testCyclic)**, потому что там словарь ссылается на себя через другой словарь, а проверка сравнивает только с непосредственным родителем, а не со всеми предыдущими объектами. Для починки нужно хранить `id` всех обработанных объектов и проверять, не встречался ли текущий объект раньше в цепочке рекурсии."
   ]
  },
  {
   "cell_type": "code",
   "execution_count": 45,
   "id": "95bfc770-ba75-42a4-ba65-8a6d0eeb894d",
   "metadata": {},
   "outputs": [
    {
     "name": "stdout",
     "output_type": "stream",
     "text": [
      "Cyclic object is found\n"
     ]
    }
   ],
   "source": [
    "# Тестируем для testCyclic;\n",
    "testCyclic = {'a' : 1}\n",
    "testCyclic['b'] = {2 : testCyclic}\n",
    "\n",
    "try:\n",
    "    print(flattenIt(testCyclic))\n",
    "except ValueError as text:\n",
    "    print(text)"
   ]
  },
  {
   "cell_type": "markdown",
   "id": "d5697a16-f02f-4160-aceb-48c976507c70",
   "metadata": {},
   "source": [
    "**Протестируем обычные случаи:**"
   ]
  },
  {
   "cell_type": "code",
   "execution_count": 39,
   "id": "f2a643e6-57ea-4a68-abaa-84f893128c79",
   "metadata": {},
   "outputs": [
    {
     "name": "stdout",
     "output_type": "stream",
     "text": [
      "[7, 8, 9, 10]\n"
     ]
    }
   ],
   "source": [
    "# Для itTuple;\n",
    "try:\n",
    "    print(flattenIt(itTuple))\n",
    "except ValueError as text:\n",
    "    print(text)"
   ]
  },
  {
   "cell_type": "code",
   "execution_count": 42,
   "id": "f9fcdeec-f9ad-4e6f-a2ba-62339830496c",
   "metadata": {},
   "outputs": [
    {
     "name": "stdout",
     "output_type": "stream",
     "text": [
      "[1, 2, 3, 4, 5, 6, 7, 7, 8, 9, 10, 'abcdefgh', 'key1', 11, 'key2', 'key3', 12, 0, 0, 0, 1, 1, 1, 2, 4, 8, 3, 9, 27, 4, 16, 64, 'Sed ut perspiciatis unde omnis iste natus error sit voluptatem accusantium doloremque laudantium, totam rem aperiam, eaque ipsa quae ab illo inventore \\n', 'veritatis et quasi architecto beatae vitae dicta sunt explicabo. Nemo enim ipsam voluptatem quia voluptas sit aspernatur aut odit aut fugit, sed quia \\n', 'consequuntur magni dolores eos qui ratione voluptatem sequi nesciunt. Neque porro quisquam est, qui dolorem ipsum quia dolor sit amet, consectetur, \\n', 'adipisci velit, sed quia non numquam eius modi tempora incidunt ut labore et dolore magnam aliquam quaerat voluptatem. Ut enim ad minima veniam, quis \\n', 'nostrum exercitationem ullam corporis suscipit laboriosam, nisi ut aliquid ex ea commodi consequatur? Quis autem vel eum iure reprehenderit qui in ea \\n', 'voluptate velit esse quam nihil molestiae consequatur, vel illum qui dolorem eum fugiat quo voluptas nulla pariatur?']\n"
     ]
    }
   ],
   "source": [
    "# Для it;\n",
    "try:\n",
    "    print(flattenIt(it))\n",
    "except ValueError as text:\n",
    "    print(text)"
   ]
  },
  {
   "cell_type": "code",
   "execution_count": 43,
   "id": "4913bccb-eace-4132-8eab-a6e6175531ef",
   "metadata": {},
   "outputs": [
    {
     "name": "stdout",
     "output_type": "stream",
     "text": [
      "[1, 2, 3, 4, 5, 6, 7]\n"
     ]
    }
   ],
   "source": [
    "# Для itList;\n",
    "try:\n",
    "    print(flattenIt(itList))\n",
    "except ValueError as text:\n",
    "    print(text)"
   ]
  }
 ],
 "metadata": {
  "kernelspec": {
   "display_name": "Python 3 (ipykernel)",
   "language": "python",
   "name": "python3"
  },
  "language_info": {
   "codemirror_mode": {
    "name": "ipython",
    "version": 3
   },
   "file_extension": ".py",
   "mimetype": "text/x-python",
   "name": "python",
   "nbconvert_exporter": "python",
   "pygments_lexer": "ipython3",
   "version": "3.13.2"
  }
 },
 "nbformat": 4,
 "nbformat_minor": 5
}
