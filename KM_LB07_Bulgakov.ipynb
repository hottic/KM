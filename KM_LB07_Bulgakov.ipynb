{
 "cells": [
  {
   "cell_type": "markdown",
   "id": "04a6323b-da10-4161-bc8a-165395010e97",
   "metadata": {},
   "source": [
    "# Лабораторная работа №7"
   ]
  },
  {
   "cell_type": "markdown",
   "id": "b10c8ba1-3196-48aa-90fa-7b3bfedd9062",
   "metadata": {},
   "source": [
    "\n",
    "Булгаков А.Е. 22.05.2025 "
   ]
  },
  {
   "cell_type": "code",
   "execution_count": 1,
   "id": "755f7fb6-d829-4029-9775-adc797855856",
   "metadata": {},
   "outputs": [
    {
     "data": {
      "text/html": [
       "<style>h1 {\n",
       "  background-color: #e5f4ff;\n",
       "  padding: 10px;\n",
       "  font-family: 'Times New Roman', Times, serif;\n",
       "  font-weight: bold !important;\n",
       "  text-align: center;\n",
       "  margin-bottom: 20px;\n",
       "  line-height: 1.5;\n",
       "  font-size: 28px !important;\n",
       "  color: #007AC0\n",
       "}\n",
       "\n",
       "h2, h3, h4, h5, h6 {\n",
       "  color: #EC7600;\n",
       "  background-color: #FFECD9;\n",
       "  padding: 10px;\n",
       "  font-family: 'Times New Roman', Times, serif;\n",
       "  font-weight: bold !important;\n",
       "  text-align: center;\n",
       "  margin-bottom: 24px;\n",
       "  line-height: 1.5;\n",
       "  font-size: 24px !important;\n",
       "}\n",
       "\n",
       "p, ol {\n",
       "  font-family: 'Times New Roman', Times, serif;\n",
       "  font-size: 20px;\n",
       "  text-align: justify;\n",
       "  line-height: 1.5;\n",
       "}\n",
       "\n",
       "code {\n",
       "  font-family: \"JetBrains Mono\", monospace !important;\n",
       "  font-size: 16px;\n",
       "}\n",
       "</style>"
      ],
      "text/plain": [
       "<IPython.core.display.HTML object>"
      ]
     },
     "metadata": {},
     "output_type": "display_data"
    }
   ],
   "source": [
    "from IPython.display import display, HTML\n",
    "display(HTML(\"<style>\" + open(\"customs.css\").read() + \"</style>\"))\n",
    "\n",
    "%config IPCompleter.greedy = True"
   ]
  },
  {
   "cell_type": "markdown",
   "id": "a6df5a10-09c3-429a-af62-9d108877669f",
   "metadata": {},
   "source": [
    "## Задание 1.1. Определение классов"
   ]
  },
  {
   "cell_type": "markdown",
   "id": "0a548b3b-682d-4140-bd5e-2fb477b00767",
   "metadata": {},
   "source": [
    "**Бинарное дерево поиска** будем описывать с помощью трех классов: `binaryTree`, `binaryNode`, `emptyNode`, связанных друг с другом на основе композиции. Проектирование классов представлено в лекции к теме *Бинарное дерево поиска. Реализация на основе ООП*."
   ]
  },
  {
   "cell_type": "markdown",
   "id": "6de52d78-2dc8-46cd-9dc4-0c6e46fa0ae0",
   "metadata": {},
   "source": [
    "### Базовое определение классов"
   ]
  },
  {
   "cell_type": "markdown",
   "id": "0bde367b-bfb4-4f39-b4a2-9ac37470c64d",
   "metadata": {},
   "source": [
    "И так, напишем следующие классы:\n",
    "\n",
    "1) Базовое определение класса `binaryTree` содержит метод инициализации `__init__(self)`, метод строкового представления `__repr__(self)`, метод вставки элемента в дерево `insert(self, value)`.\n",
    "2) Базовое определение класса `binaryNode` содержит метод инициализации `__init__(self)` и метод строкового представления `__repr__(self)`.\n",
    "3) Базовое определение класса `emptyNode` содержит метод строкового представления `__repr__(self)` и метод вставки элемента в дерево `insert(self, value)`."
   ]
  },
  {
   "cell_type": "markdown",
   "id": "59ec8bc1-d5e8-4b81-921f-e1bad853cf35",
   "metadata": {},
   "source": [
    "**Проектирование класса binaryTree**"
   ]
  },
  {
   "cell_type": "code",
   "execution_count": 2,
   "id": "9f794475-720e-4f46-81d1-7201328338c7",
   "metadata": {},
   "outputs": [],
   "source": [
    "# Спроектируем класс binaryTree;\n",
    "class binaryTree():\n",
    "\n",
    "    # Метод инициализации экземпляра класса binaryTree;\n",
    "    def __init__(self):\n",
    "        # Инициализируем единственный атрибут экземпляра класса root\n",
    "        # экземпляром класса emptyNode;\n",
    "        self.root = emptyNode()\n",
    "\n",
    "    # Метод строкового представления экземпляра класса binaryTree;\n",
    "    def __repr__(self):\n",
    "        # Возвращаем строковое представление для корня дерева root;\n",
    "        return repr(self.root)\n",
    "\n",
    "    # Метод вставки в дерево нового элемента value;\n",
    "    def insert(self, value):\n",
    "        \"\"\"\n",
    "        Метод вставки элемента в дерево реализуется через метод вставки \n",
    "        элемента в корневую вершину дерева root. При этом атрибут root \n",
    "        переопределяется ссылкой на новый объект для представления корня;\n",
    "        \"\"\"\n",
    "        \n",
    "        self.root = self.root.insert(value)"
   ]
  },
  {
   "cell_type": "markdown",
   "id": "57e03d79-f52a-40ac-8aae-aa2db0058c46",
   "metadata": {},
   "source": [
    "Причём, пока что, нельзя создать экземпляр класса `binaryTree`, потому что не определен класс `emptyNode`:"
   ]
  },
  {
   "cell_type": "code",
   "execution_count": 3,
   "id": "fcb85290-4e87-4a1e-a4d1-20150567dc25",
   "metadata": {},
   "outputs": [
    {
     "ename": "NameError",
     "evalue": "name 'emptyNode' is not defined",
     "output_type": "error",
     "traceback": [
      "\u001b[1;31m---------------------------------------------------------------------------\u001b[0m",
      "\u001b[1;31mNameError\u001b[0m                                 Traceback (most recent call last)",
      "Cell \u001b[1;32mIn[3], line 1\u001b[0m\n\u001b[1;32m----> 1\u001b[0m tree \u001b[38;5;241m=\u001b[39m \u001b[43mbinaryTree\u001b[49m\u001b[43m(\u001b[49m\u001b[43m)\u001b[49m\n",
      "Cell \u001b[1;32mIn[2], line 8\u001b[0m, in \u001b[0;36mbinaryTree.__init__\u001b[1;34m(self)\u001b[0m\n\u001b[0;32m      5\u001b[0m \u001b[38;5;28;01mdef\u001b[39;00m\u001b[38;5;250m \u001b[39m\u001b[38;5;21m__init__\u001b[39m(\u001b[38;5;28mself\u001b[39m):\n\u001b[0;32m      6\u001b[0m     \u001b[38;5;66;03m# Инициализируем единственный атрибут экземпляра класса root\u001b[39;00m\n\u001b[0;32m      7\u001b[0m     \u001b[38;5;66;03m# экземпляром класса emptyNode;\u001b[39;00m\n\u001b[1;32m----> 8\u001b[0m     \u001b[38;5;28mself\u001b[39m\u001b[38;5;241m.\u001b[39mroot \u001b[38;5;241m=\u001b[39m \u001b[43memptyNode\u001b[49m()\n",
      "\u001b[1;31mNameError\u001b[0m: name 'emptyNode' is not defined"
     ]
    }
   ],
   "source": [
    "tree = binaryTree()"
   ]
  },
  {
   "cell_type": "markdown",
   "id": "c566e707-7ff9-4bf4-9b05-0bf16468a328",
   "metadata": {},
   "source": [
    "**Проектирование класса binaryNode**"
   ]
  },
  {
   "cell_type": "code",
   "execution_count": 4,
   "id": "d8d1f8b0-3176-4cce-a3f1-35fdbb113b77",
   "metadata": {
    "scrolled": true
   },
   "outputs": [],
   "source": [
    "# Спроектриуем класс binaryNode;\n",
    "class binaryNode():\n",
    "\n",
    "    # Метод инициализации экземпляра класса binaryNode;\n",
    "    def __init__(self, left, value, right):\n",
    "        # Сохраняем ссылку на левое поддерево;\n",
    "        self.left = left\n",
    "        # Сохраняем ссылку на значение вершины;\n",
    "        self.value = value\n",
    "        # Сохраняем ссылку на правое поддерево;\n",
    "        self.right = right\n",
    "\n",
    "    # Метод строкового представления экземпляра класса binaryNode;\n",
    "    def __repr__(self):\n",
    "        \"\"\"\n",
    "        Возвращаем кортеж вида (left, value, right), где: \n",
    "            left — строковое представления корня левого поддерева;\n",
    "            value — строковое представление значения вершины;\n",
    "            right — строковое представления корня правого поддерева.\n",
    "        \"\"\"\n",
    "        \n",
    "        return f\"({self.left}, {self.value}, {self.right})\"\n",
    "\n",
    "    # Метод вставки в текущую вершину новой вершины со значением\n",
    "    # value (будет спроектирован позже);\n",
    "    def insert(self, value):\n",
    "        ..."
   ]
  },
  {
   "cell_type": "markdown",
   "id": "3f1b69b9-be9a-42fe-b9e8-2aa89be1a87e",
   "metadata": {},
   "source": [
    "Создадим экземпляр класса `binaryNode` и выведем его строковое представление:"
   ]
  },
  {
   "cell_type": "code",
   "execution_count": 5,
   "id": "979df6fd-5670-4f69-a0e7-2529b0092eaa",
   "metadata": {},
   "outputs": [
    {
     "data": {
      "text/plain": [
       "(None, 2, None)"
      ]
     },
     "execution_count": 5,
     "metadata": {},
     "output_type": "execute_result"
    }
   ],
   "source": [
    "test = binaryNode(None, 2, None)\n",
    "\n",
    "test"
   ]
  },
  {
   "cell_type": "markdown",
   "id": "d36d80cf-5a89-4d18-a363-d43baee0224b",
   "metadata": {},
   "source": [
    "**Проектирование класса emptyNode**"
   ]
  },
  {
   "cell_type": "code",
   "execution_count": 6,
   "id": "2344cd06-3b0d-4de3-96a5-c21d4ccbb6f2",
   "metadata": {},
   "outputs": [],
   "source": [
    "# Спроектируем класс emptyNode;\n",
    "class emptyNode():\n",
    "    \n",
    "    # Метод строкового представления экземпляра класса emptyNode;\n",
    "    def __repr__(self):\n",
    "        # Возвращаем один символ: *;\n",
    "        return \"*\"\n",
    "\n",
    "    # Метод вставки в пустую вершину новой вершины со значением value;\n",
    "    def insert(self, value):\n",
    "        \"\"\"\n",
    "        Возвращаем новый экземпляр класса binaryNode со значением value.\n",
    "        Левое и правое поддерево определяются ссылками на пустую вершину.\n",
    "        \"\"\"\n",
    "        \n",
    "        return binaryNode(self, value, self)"
   ]
  },
  {
   "cell_type": "markdown",
   "id": "e36345f3-e04c-46e0-a5b4-fa25942b9c40",
   "metadata": {},
   "source": [
    "Создадим экземпляр класса `emptyNode` и выведем его строковое представление:"
   ]
  },
  {
   "cell_type": "code",
   "execution_count": 7,
   "id": "897895c9-6ff6-4128-bccd-141f98ad87fa",
   "metadata": {},
   "outputs": [
    {
     "data": {
      "text/plain": [
       "*"
      ]
     },
     "execution_count": 7,
     "metadata": {},
     "output_type": "execute_result"
    }
   ],
   "source": [
    "test = emptyNode()\n",
    "\n",
    "test"
   ]
  },
  {
   "cell_type": "markdown",
   "id": "0c4f7f54-f4fb-4c77-b8da-c1053ac34a36",
   "metadata": {},
   "source": [
    "А теперь давайте создадим экземпляр класса `binaryTree` и вставим в него элемент со значением __10__:"
   ]
  },
  {
   "cell_type": "code",
   "execution_count": 8,
   "id": "969114e7-8afc-4ad8-8285-8ef6796d54f5",
   "metadata": {},
   "outputs": [
    {
     "data": {
      "text/plain": [
       "(*, 10, *)"
      ]
     },
     "execution_count": 8,
     "metadata": {},
     "output_type": "execute_result"
    }
   ],
   "source": [
    "tree = binaryTree()\n",
    "tree.insert(10)\n",
    "\n",
    "tree"
   ]
  },
  {
   "cell_type": "markdown",
   "id": "a6f0d1e7-551c-457f-badd-3821131c94b5",
   "metadata": {},
   "source": [
    "## Задание 1.2. Метод вставки элемента в бинарное дерево поиска"
   ]
  },
  {
   "cell_type": "markdown",
   "id": "dbb4f7a5-2206-49f0-b31d-0170fab2c6e9",
   "metadata": {},
   "source": [
    "Переопределите класс `binaryNode` за счет определения метода вставки `insert(self, value)`. Рекомендации по выполнению представлены в лекции к теме *Бинарное дерево поиска. Реализация на основе ООП*."
   ]
  },
  {
   "cell_type": "markdown",
   "id": "ce1ec852-f789-42a7-ae96-d092b7708597",
   "metadata": {},
   "source": [
    "**Переопределение класса binaryNode**"
   ]
  },
  {
   "cell_type": "code",
   "execution_count": 9,
   "id": "8cdf00d6-e9af-47e9-b514-f4ee69428f51",
   "metadata": {},
   "outputs": [],
   "source": [
    "# Переопределим класс binaryNode;\n",
    "class binaryNode():\n",
    "\n",
    "    # Метод инициализации экземпляра класса binaryNode;\n",
    "    def __init__(self, left, value, right):\n",
    "        # Сохраняем ссылку на левое поддерево;\n",
    "        self.left = left\n",
    "        # Сохраняем ссылку на значение вершины;\n",
    "        self.value = value\n",
    "        # Сохраняем ссылку на правое поддерево;\n",
    "        self.right = right\n",
    "\n",
    "    # Метод строкового представления экземпляра класса binaryNode;\n",
    "    def __repr__(self):\n",
    "        \"\"\"\n",
    "        Возвращаем кортеж вида (left, value, right), где: \n",
    "            left — строковое представления корня левого поддерева;\n",
    "            value — строковое представление значения вершины;\n",
    "            right — строковое представления корня правого поддерева.\n",
    "        \"\"\"\n",
    "        \n",
    "        return f\"({self.left}, {self.value}, {self.right})\"\n",
    "\n",
    "    # Метод вставки в текущую вершину новой вершины со значением value;\n",
    "    def insert(self, value):\n",
    "        # Если value < self.value(), то вызываем метод insert для левого поддерева;\n",
    "        if value < self.value:\n",
    "            # Вызов метода insert;\n",
    "            self.left = self.left.insert(value)\n",
    "        # В иных случаях: value >= self.value() — для правого поддерева;\n",
    "        else:\n",
    "            # Вызов метода insert;\n",
    "            self.right = self.right.insert(value)\n",
    "        return self"
   ]
  },
  {
   "cell_type": "markdown",
   "id": "e999ea45-38d9-4327-87af-90e522291ed7",
   "metadata": {},
   "source": [
    "**Примеры:**"
   ]
  },
  {
   "cell_type": "code",
   "execution_count": 10,
   "id": "6bc6718b-09dc-4f8b-9356-61f2f7f1da6a",
   "metadata": {},
   "outputs": [
    {
     "name": "stdout",
     "output_type": "stream",
     "text": [
      "Построение бинарого дерева поиска на основе списка: ((*, 1, (*, 3, (*, 4, *))), 5, (*, 10, *))\n",
      "\n",
      "Построение бинарого дерева поиска на основе строки: ((((*, б, *), в, (*, д, *)), е, ((*, е, ((*, й, *), к, *)), л, ((*, н, *), о, (*, о, ((*, о, (*, о, *)), п, *))))), ч, (*, ы, *))\n",
      "\n",
      "Построение бинарого дерева поиска на основе range: (((((*, 2, *), 4, *), 6, *), 8, *), 10, *)\n"
     ]
    }
   ],
   "source": [
    "# Первый пример для итерируемого объекта список;\n",
    "listData = [5, 1, 10, 3, 4]\n",
    "listTree = binaryTree()\n",
    "for value in listData:\n",
    "    listTree.insert(value)\n",
    "\n",
    "print(f\"Построение бинарого дерева поиска на основе списка: {listTree}\")\n",
    "\n",
    "# Первый пример для итерируемого объекта строки;\n",
    "strData = 'человекоподобный'\n",
    "strTree = binaryTree()\n",
    "for value in strData:\n",
    "    strTree.insert(value)\n",
    "\n",
    "print(f\"\\nПостроение бинарого дерева поиска на основе строки: {strTree}\")\n",
    "\n",
    "# Первый пример для итерируемого объекта range(...);\n",
    "rangeTree = binaryTree()\n",
    "for value in range(10, 0, -2):\n",
    "    rangeTree.insert(value)\n",
    "    \n",
    "print(f\"\\nПостроение бинарого дерева поиска на основе range: {rangeTree}\")"
   ]
  },
  {
   "cell_type": "markdown",
   "id": "9e8d902e-61c6-4d0f-b7ff-408962ac30d0",
   "metadata": {},
   "source": [
    "## Задание 1.3. Построение бинарного дерева поиска"
   ]
  },
  {
   "cell_type": "markdown",
   "id": "238d42b4-b856-4bcf-8586-ac4e0128129c",
   "metadata": {},
   "source": [
    "Прочитайте числовые данные, записанные в файлы, и **постройте на основании этих данных бинарные деревья поиска**.\n",
    "\n",
    "Рассмотрите **четыре варианта хранения данных** в файлах:\n",
    "1) Числовые данные хранятся в текстовом файле и записаны в столбец;\n",
    "2) Числовые данные хранятся в текстовом файле, записаны в строки, разделены пробелами, в каждой строке расположено одинаковое количество числовых значений;\n",
    "3) Числовые данные хранятся в текстовом файле, записаны в строки, разделены пробелами, в каждой строке расположено различное количество числовых значений;\n",
    "4) Числовые данные хранятся в файле формата json.\n"
   ]
  },
  {
   "cell_type": "markdown",
   "id": "4c9f54d2-f920-492c-8497-681a1fc99881",
   "metadata": {},
   "source": [
    "**Пример №1:**"
   ]
  },
  {
   "cell_type": "code",
   "execution_count": 11,
   "id": "2b418ef0-9a71-4e4b-81bb-f8645c874a36",
   "metadata": {},
   "outputs": [
    {
     "name": "stdout",
     "output_type": "stream",
     "text": [
      "Бинарное дерево поиска example1Tree имеет вид: ((*, 0.0, *), 1.0, ((*, 1.0, *), 2.0, ((*, 4.0, (*, 6.0, (*, 8.0, (*, 10.0, *)))), 23.0, (*, 54.0, (*, 61.0, *)))))\n"
     ]
    }
   ],
   "source": [
    "from numpy import loadtxt\n",
    "\n",
    "example1Tree = binaryTree()\n",
    "for value in loadtxt(\"example1.txt\"):\n",
    "    example1Tree.insert(value)\n",
    "\n",
    "print(f\"Бинарное дерево поиска example1Tree имеет вид: {example1Tree}\")"
   ]
  },
  {
   "cell_type": "markdown",
   "id": "5521855b-13d4-4206-bdcb-cce3fa6858f2",
   "metadata": {},
   "source": [
    "**Пример №2:**"
   ]
  },
  {
   "cell_type": "code",
   "execution_count": 12,
   "id": "809a837f-53f2-4560-af04-ef0c99d3cf10",
   "metadata": {},
   "outputs": [
    {
     "name": "stdout",
     "output_type": "stream",
     "text": [
      "Бинарное дерево поиска example2Tree имеет вид: ((*, 0.0, *), 1.0, ((*, 1.0, *), 2.0, ((*, 4.0, (*, 6.0, (*, 8.0, (*, 10.0, (*, 21.0, *))))), 23.0, (*, 54.0, (*, 61.0, *)))))\n"
     ]
    }
   ],
   "source": [
    "example2Tree = binaryTree()\n",
    "for value in loadtxt(\"example2.txt\").ravel():\n",
    "    example2Tree.insert(value)\n",
    "\n",
    "print(f\"Бинарное дерево поиска example2Tree имеет вид: {example2Tree}\")"
   ]
  },
  {
   "cell_type": "markdown",
   "id": "b3ce86ec-2cbc-4269-96a0-0caf7ab0a7d5",
   "metadata": {},
   "source": [
    "**Пример №3:**"
   ]
  },
  {
   "cell_type": "code",
   "execution_count": 13,
   "id": "a7775120-ec10-4bd6-bcac-ed4ccf01b2ce",
   "metadata": {},
   "outputs": [
    {
     "name": "stdout",
     "output_type": "stream",
     "text": [
      "Бинарное дерево поиска example3Tree имеет вид: ((*, 0, *), 1, ((*, 1, (*, 1, *)), 2, ((*, 4, (*, 6, (((*, 6, *), 8, *), 10, (*, 21, *)))), 23, ((*, 45, *), 54, (*, 61, ((*, 115, *), 578, *))))))\n"
     ]
    }
   ],
   "source": [
    "example3Tree = binaryTree()\n",
    "with open(\"example3.txt\", 'r', encoding = 'utf-8') as data:\n",
    "    for line in data:\n",
    "        line = list(map(int, line.strip().split()))\n",
    "        for value in line:\n",
    "            example3Tree.insert(value)\n",
    "            \n",
    "print(f\"Бинарное дерево поиска example3Tree имеет вид: {example3Tree}\")"
   ]
  },
  {
   "cell_type": "markdown",
   "id": "a5af8851-8434-4af6-8af5-de60b46c8e63",
   "metadata": {},
   "source": [
    "**Пример №4 (два различных варианта) и спецификация функции _json.load(fp, [...])_:**"
   ]
  },
  {
   "cell_type": "markdown",
   "id": "ebb1b9e7-f574-4fa2-9cb0-b43c7dadde04",
   "metadata": {},
   "source": [
    "Функция `json.load(fp, [...])` — __десериализует* JSON документ__ из файлового объекта, возвращает **Python** объект, соответствующий JSON документу. Необходимый параметр: \n",
    "1) **fp** - файловый объект для чтения JSON данных (должен поддерживать метод .read());\n",
    "\n",
    "_*_ __Десериализация JSON__ — это процесс преобразования JSON-строки (или файла) в объекты языка программирования (например, словари, списки, числа в Python)."
   ]
  },
  {
   "cell_type": "markdown",
   "id": "1c3a0ee4-9037-420c-ae7f-dabd523515cf",
   "metadata": {},
   "source": [
    "**Вариант №1:**"
   ]
  },
  {
   "cell_type": "code",
   "execution_count": 14,
   "id": "a3a615b7-e9a8-4b6f-90ee-1cba06dd98fd",
   "metadata": {},
   "outputs": [
    {
     "name": "stdout",
     "output_type": "stream",
     "text": [
      "Бинарное дерево поиска example41Tree имеет вид: ((*, 0, *), 1, ((*, 1, *), 2, ((*, 3, (*, 3, *)), 5, (((*, 5, *), 10, (*, 12, (*, 21, *))), 63, (*, 112, *)))))\n"
     ]
    }
   ],
   "source": [
    "import json\n",
    "\n",
    "example41Tree = binaryTree()\n",
    "with open(\"example41.json\", 'r') as data:\n",
    "    data = json.load(data)['exampleNumbers']\n",
    "    for value in data:\n",
    "        example41Tree.insert(value)\n",
    "        \n",
    "print(f\"Бинарное дерево поиска example41Tree имеет вид: {example41Tree}\")"
   ]
  },
  {
   "cell_type": "code",
   "execution_count": 15,
   "id": "585cf1f0-959f-49e3-8072-67fe5737246e",
   "metadata": {},
   "outputs": [
    {
     "name": "stdout",
     "output_type": "stream",
     "text": [
      "Бинарное дерево поиска example42Tree имеет вид: ((*, 0, *), 1, ((*, 1, *), 2, ((*, 3, (*, 3, *)), 5, (((*, 5, *), 10, (*, 12, (*, 21, *))), 63, (*, 112, *)))))\n"
     ]
    }
   ],
   "source": [
    "example42Tree = binaryTree()\n",
    "with open(\"example42.json\", 'r') as data:\n",
    "    data = json.load(data)\n",
    "    for value in data:\n",
    "        example42Tree.insert(value)\n",
    "\n",
    "print(f\"Бинарное дерево поиска example42Tree имеет вид: {example42Tree}\")"
   ]
  },
  {
   "cell_type": "markdown",
   "id": "d7a246e4-8890-41e8-b79f-0d1dd11606b4",
   "metadata": {},
   "source": [
    "## Задание 1.4. Перегрузка операции принадлежности in"
   ]
  },
  {
   "cell_type": "markdown",
   "id": "3dd811dd-ab49-4a61-92ee-5b47f2a4a386",
   "metadata": {},
   "source": [
    "Переопределите классы `BinaryTree`, `BinaryNode`, `EmptyNode` за счет определения нового метода `__contains__(self, value)` для перегрузки операции принадлежности **in**. Рекомендации по выполнению представлены в\n",
    "лекции к теме *Бинарное дерево поиска. Реализация на основе ООП*.\n"
   ]
  },
  {
   "cell_type": "markdown",
   "id": "7b80e113-cd46-4d2b-bb75-02e6d3326213",
   "metadata": {},
   "source": [
    "**Переопределение класса binaryTree**"
   ]
  },
  {
   "cell_type": "code",
   "execution_count": 16,
   "id": "829a8ce7-d3db-4bcd-8fb5-616bfa7a72fd",
   "metadata": {},
   "outputs": [],
   "source": [
    "# Переопределим класс binaryTree;\n",
    "class binaryTree():\n",
    "\n",
    "    # Метод инициализации экземпляра класса binaryTree;\n",
    "    def __init__(self):\n",
    "        # Инициализируем единственный атрибут экземпляра класса root\n",
    "        # экземпляром класса emptyNode;\n",
    "        self.root = emptyNode()\n",
    "\n",
    "    # Метод строкового представления экземпляра класса binaryTree;\n",
    "    def __repr__(self):\n",
    "        # Возвращаем строковое представление для корня дерева root;\n",
    "        return repr(self.root)\n",
    "\n",
    "    # Определим для нашего класса операцию проверки принадлежности in;\n",
    "    def __contains__(self, value):\n",
    "        \"\"\"\n",
    "        Метод __contains__ класса BinaryTree возвращает результат вызова операции\n",
    "        in для корневой вершины;\n",
    "        \"\"\"\n",
    "        \n",
    "        return value in self.root\n",
    "    \n",
    "    # Метод вставки в дерево нового элемента value;\n",
    "    def insert(self, value):\n",
    "        \"\"\"\n",
    "        Метод вставки элемента в дерево реализуется через метод вставки \n",
    "        элемента в корневую вершину дерева root. При этом атрибут root \n",
    "        переопределяется ссылкой на новый объект для представления корня;\n",
    "        \"\"\"\n",
    "        \n",
    "        self.root = self.root.insert(value)"
   ]
  },
  {
   "cell_type": "markdown",
   "id": "785b2e95-fe47-43aa-92ff-169a9e102381",
   "metadata": {},
   "source": [
    "**Переопределение класса binaryNode**"
   ]
  },
  {
   "cell_type": "code",
   "execution_count": 17,
   "id": "8ee54da1-8a4c-4de1-ba4c-9778e75e2988",
   "metadata": {},
   "outputs": [],
   "source": [
    "# Переопределим класс binaryNode;\n",
    "class binaryNode():\n",
    "\n",
    "    # Метод инициализации экземпляра класса binaryNode;\n",
    "    def __init__(self, left, value, right):\n",
    "        # Сохраняем ссылку на левое поддерево;\n",
    "        self.left = left\n",
    "        # Сохраняем ссылку на значение вершины;\n",
    "        self.value = value\n",
    "        # Сохраняем ссылку на правое поддерево;\n",
    "        self.right = right\n",
    "\n",
    "    # Метод строкового представления экземпляра класса binaryNode;\n",
    "    def __repr__(self):\n",
    "        \"\"\"\n",
    "        Возвращаем кортеж вида (left, value, right), где: \n",
    "            left — строковое представления корня левого поддерева;\n",
    "            value — строковое представление значения вершины;\n",
    "            right — строковое представления корня правого поддерева.\n",
    "        \"\"\"\n",
    "        \n",
    "        return f\"({self.left}, {self.value}, {self.right})\"\n",
    "\n",
    "    # Определим для нашего класса операцию проверки принадлежности in;\n",
    "    def __contains__(self, value):\n",
    "        # Если значение value совпадает со значением self.value,\n",
    "        # то возвращаем True;\n",
    "        if value == self.value:\n",
    "            return True\n",
    "\n",
    "        # В противном случае проверяем поддеревья;\n",
    "        else:\n",
    "            # Если value < self.value, то проверяем левое поддерево;\n",
    "            if value < self.value:\n",
    "                return value in self.left\n",
    "            # В противном случае проверяем правое поддерево;\n",
    "            elif value > self.value:\n",
    "                return value in self.right\n",
    "\n",
    "    # Метод вставки в текущую вершину новой вершины со значением value;\n",
    "    def insert(self, value):\n",
    "        # Если value < self.value(), то вызываем метод insert для левого поддерева;\n",
    "        if value < self.value:\n",
    "            # Вызов метода insert;\n",
    "            self.left = self.left.insert(value)\n",
    "        # В иных случаях: value >= self.value() — для правого поддерева;\n",
    "        else:\n",
    "            # Вызов метода insert;\n",
    "            self.right = self.right.insert(value)\n",
    "        return self"
   ]
  },
  {
   "cell_type": "markdown",
   "id": "e894c640-5892-4447-85d0-c7bba67b9e62",
   "metadata": {},
   "source": [
    "**Переопределение класса emptyNode**"
   ]
  },
  {
   "cell_type": "code",
   "execution_count": 18,
   "id": "ae17e8ad-51a6-4fba-b7ad-3950050ba4c8",
   "metadata": {},
   "outputs": [],
   "source": [
    "# Переопределим класс emptyNode;\n",
    "class emptyNode():\n",
    "    \n",
    "    # Метод строкового представления экземпляра класса emptyNode;\n",
    "    def __repr__(self):\n",
    "        # Возвращаем один символ: *;\n",
    "        return \"*\"\n",
    "\n",
    "    # Определим для нашего класса операцию проверки принадлежности in;\n",
    "    def __contains__(self, value):\n",
    "        return False\n",
    "    \n",
    "    # Метод вставки в пустую вершину новой вершины со значением value;\n",
    "    def insert(self, value):\n",
    "        \"\"\"\n",
    "        Возвращаем новый экземпляр класса binaryNode со значением value.\n",
    "        Левое и правое поддерево определяются ссылками на пустую вершину.\n",
    "        \"\"\"\n",
    "        \n",
    "        return binaryNode(self, value, self)"
   ]
  },
  {
   "cell_type": "markdown",
   "id": "06463395-10de-447e-a34b-4f39e2c7aa1a",
   "metadata": {},
   "source": [
    "**Примеры:**"
   ]
  },
  {
   "cell_type": "code",
   "execution_count": 19,
   "id": "064c5f5c-33d5-4b5e-9769-9346edaff9fb",
   "metadata": {},
   "outputs": [
    {
     "name": "stdout",
     "output_type": "stream",
     "text": [
      "\u001b[1;31m(0, False)\u001b[0m \u001b[1;32m(1, True)\u001b[0m \u001b[1;31m(2, False)\u001b[0m \u001b[1;32m(3, True)\u001b[0m \u001b[1;32m(4, True)\u001b[0m \u001b[1;32m(5, True)\u001b[0m \u001b[1;31m(6, False)\u001b[0m \u001b[1;31m(7, False)\u001b[0m \u001b[1;31m(8, False)\u001b[0m \u001b[1;31m(9, False)\u001b[0m \u001b[1;32m(10, True)\u001b[0m "
     ]
    }
   ],
   "source": [
    "# Пример для списка;\n",
    "listData = [5, 1, 10, 3, 4]\n",
    "listTree = binaryTree()\n",
    "for value in listData:\n",
    "    listTree.insert(value)\n",
    "\n",
    "for step in range(11):\n",
    "    if step in listTree:\n",
    "        print(f\"\\033[1;32m({step}, True)\\033[0m\", end = ' ')\n",
    "    else:\n",
    "        print(f\"\\033[1;31m({step}, False)\\033[0m\", end = ' ')"
   ]
  },
  {
   "cell_type": "code",
   "execution_count": 20,
   "id": "20a7155d-2e0e-4d50-8c22-584c2064de86",
   "metadata": {},
   "outputs": [
    {
     "name": "stdout",
     "output_type": "stream",
     "text": [
      "\u001b[1;31m(а, False)\u001b[0m \u001b[1;32m(б, True)\u001b[0m \u001b[1;32m(в, True)\u001b[0m \u001b[1;31m(г, False)\u001b[0m \u001b[1;32m(д, True)\u001b[0m "
     ]
    }
   ],
   "source": [
    "# Пример для строки;\n",
    "strData = 'человекоподобный'\n",
    "strTree = binaryTree()\n",
    "for value in strData:\n",
    "    strTree.insert(value)\n",
    "\n",
    "testStr = 'абвгд'\n",
    "for step in testStr:\n",
    "    if step in strTree:\n",
    "        print(f\"\\033[1;32m({step}, True)\\033[0m\", end = ' ')\n",
    "    else:\n",
    "        print(f\"\\033[1;31m({step}, False)\\033[0m\", end = ' ')"
   ]
  },
  {
   "cell_type": "code",
   "execution_count": 21,
   "id": "413d34da-a356-4be6-9409-f9113fa9083a",
   "metadata": {},
   "outputs": [
    {
     "name": "stdout",
     "output_type": "stream",
     "text": [
      "\u001b[1;31m(0, False)\u001b[0m \u001b[1;31m(3, False)\u001b[0m \u001b[1;31m(5, False)\u001b[0m \u001b[1;32m(8, True)\u001b[0m "
     ]
    }
   ],
   "source": [
    "# Пример для range(...);\n",
    "rangeTree = binaryTree()\n",
    "for value in range(10, 0, -2):\n",
    "    rangeTree.insert(value)\n",
    "\n",
    "testList = [0, 3, 5, 8]\n",
    "for step in testList:\n",
    "    if step in rangeTree:\n",
    "        print(f\"\\033[1;32m({step}, True)\\033[0m\", end = ' ')\n",
    "    else:\n",
    "        print(f\"\\033[1;31m({step}, False)\\033[0m\", end = ' ')"
   ]
  },
  {
   "cell_type": "markdown",
   "id": "1966cbc3-b9df-460c-98ba-b3c2ef5b2b8e",
   "metadata": {},
   "source": [
    "## Задание 1.5. Перегрузка встроенной функции len"
   ]
  },
  {
   "cell_type": "markdown",
   "id": "47228b51-e2ec-490b-8d67-d980c4a581b1",
   "metadata": {},
   "source": [
    "Переопределите классы `BinaryTree`, `BinaryNode`, `EmptyNode` за счет определения нового метода `__len__(self)` для перегрузки встроенной функции **len**, которая **возвращает количество вершин в бинарном дереве поиска**. Рекомендации по выполнению представлены в лекции к теме *Бинарное дерево поиска. Реализация на основе ООП*.\n"
   ]
  },
  {
   "cell_type": "markdown",
   "id": "b9af104f-2ffb-4f56-a807-76018bf749dc",
   "metadata": {},
   "source": [
    "**Переопределение класса binaryTree**"
   ]
  },
  {
   "cell_type": "code",
   "execution_count": 22,
   "id": "4ceec3cf-ebc4-4f9d-a2df-a35994881b81",
   "metadata": {},
   "outputs": [],
   "source": [
    "# Переопределим класс binaryTree;\n",
    "class binaryTree():\n",
    "\n",
    "    # Метод инициализации экземпляра класса binaryTree;\n",
    "    def __init__(self):\n",
    "        \"\"\"\n",
    "        Инициализируем атрибут numbOfNodes класса binaryNodes, который\n",
    "        будем использовать в дальнейшем как счётчик количества созданных\n",
    "        экземпляров класса.\n",
    "        \"\"\"\n",
    "        binaryNode.numbOfNodes = 0\n",
    "        # Инициализируем атрибут экземпляра класса root\n",
    "        # экземпляром класса emptyNode;\n",
    "        self.root = emptyNode()\n",
    "\n",
    "    # Метод строкового представления экземпляра класса binaryTree;\n",
    "    def __repr__(self):\n",
    "        # Возвращаем строковое представление для корня дерева root;\n",
    "        return repr(self.root)\n",
    "\n",
    "    # Определим для нашего класса операцию проверки принадлежности in;\n",
    "    def __contains__(self, value):\n",
    "        \"\"\"\n",
    "        Метод __contains__ класса BinaryTree возвращает результат вызова операции\n",
    "        in для корневой вершины;\n",
    "        \"\"\"\n",
    "        \n",
    "        return value in self.root\n",
    "\n",
    "    # Метод __len__ класса BinaryTree, который вызывает функцию len для корневой вершины\n",
    "    def __len__(self):\n",
    "        return len(self.root)\n",
    "    \n",
    "    # Метод вставки в дерево нового элемента value;\n",
    "    def insert(self, value):\n",
    "        \"\"\"\n",
    "        Метод вставки элемента в дерево реализуется через метод вставки \n",
    "        элемента в корневую вершину дерева root. При этом атрибут root \n",
    "        переопределяется ссылкой на новый объект для представления корня;\n",
    "        \"\"\"\n",
    "        \n",
    "        self.root = self.root.insert(value)"
   ]
  },
  {
   "cell_type": "markdown",
   "id": "e89b9658-167f-436c-8f0d-af78381bc090",
   "metadata": {},
   "source": [
    "**Переопределение класса binaryNode**"
   ]
  },
  {
   "cell_type": "code",
   "execution_count": 23,
   "id": "3d5c3b79-3a69-45ec-9377-c4ce2b73fb34",
   "metadata": {},
   "outputs": [],
   "source": [
    "# Переопределим класс binaryNode;\n",
    "class binaryNode():\n",
    "\n",
    "    # Метод инициализации экземпляра класса binaryNode;\n",
    "    def __init__(self, left, value, right):\n",
    "        # Сохраняем ссылку на левое поддерево;\n",
    "        self.left = left\n",
    "        # Сохраняем ссылку на значение вершины;\n",
    "        self.value = value\n",
    "        # Сохраняем ссылку на правое поддерево;\n",
    "        self.right = right\n",
    "        # Прибавляем 1 к количеству экземпляров класса;\n",
    "        binaryNode.numbOfNodes += 1\n",
    "\n",
    "    # Метод строкового представления экземпляра класса binaryNode;\n",
    "    def __repr__(self):\n",
    "        \"\"\"\n",
    "        Возвращаем кортеж вида (left, value, right), где: \n",
    "            left — строковое представления корня левого поддерева;\n",
    "            value — строковое представление значения вершины;\n",
    "            right — строковое представления корня правого поддерева.\n",
    "        \"\"\"\n",
    "        \n",
    "        return f\"({self.left}, {self.value}, {self.right})\"\n",
    "\n",
    "    # Определим для нашего класса операцию проверки принадлежности in;\n",
    "    def __contains__(self, value):\n",
    "        # Если значение value совпадает со значением self.value,\n",
    "        # то возвращаем True;\n",
    "        if value == self.value:\n",
    "            return True\n",
    "\n",
    "        # В противном случае проверяем поддеревья;\n",
    "        else:\n",
    "            # Если value < self.value, то проверяем левое поддерево;\n",
    "            if value < self.value:\n",
    "                return value in self.left\n",
    "            # В противном случае проверяем правое поддерево;\n",
    "            elif value > self.value:\n",
    "                return value in self.right\n",
    "\n",
    "    \"\"\"\n",
    "    Метод __len__ класса BinaryNode возвращает значение атрибута numberOfNodes\n",
    "    класса BinaryNode, который используется как счетчик созданных экземпляров \n",
    "    класса BinaryNode.\n",
    "    \"\"\"\n",
    "    def __len__(self):\n",
    "        return self.numbOfNodes\n",
    "    \n",
    "    # Метод вставки в текущую вершину новой вершины со значением value;\n",
    "    def insert(self, value):\n",
    "        # Если value < self.value(), то вызываем метод insert для левого поддерева;\n",
    "        if value < self.value:\n",
    "            # Вызов метода insert;\n",
    "            self.left = self.left.insert(value)\n",
    "        # В иных случаях: value >= self.value() — для правого поддерева;\n",
    "        else:\n",
    "            # Вызов метода insert;\n",
    "            self.right = self.right.insert(value)\n",
    "        return self"
   ]
  },
  {
   "cell_type": "markdown",
   "id": "76ce54d9-59a1-467f-9a41-00eabbab73c9",
   "metadata": {},
   "source": [
    "**Переопределение класса emptyNode**"
   ]
  },
  {
   "cell_type": "code",
   "execution_count": 24,
   "id": "5215b993-9719-4456-a601-fa87199e2bfb",
   "metadata": {},
   "outputs": [],
   "source": [
    "# Переопределим класс emptyNode;\n",
    "class emptyNode():\n",
    "    \n",
    "    # Метод строкового представления экземпляра класса emptyNode;\n",
    "    def __repr__(self):\n",
    "        # Возвращаем один символ: *;\n",
    "        return \"*\"\n",
    "\n",
    "    # Определим для нашего класса операцию проверки принадлежности in;\n",
    "    def __contains__(self, value):\n",
    "        return False\n",
    "\n",
    "    # Метод __len__ класса EmptyNode возвращает 0;\n",
    "    def __len__(self):\n",
    "        return 0\n",
    "        \n",
    "    # Метод вставки в пустую вершину новой вершины со значением value;\n",
    "    def insert(self, value):\n",
    "        \"\"\"\n",
    "        Возвращаем новый экземпляр класса binaryNode со значением value.\n",
    "        Левое и правое поддерево определяются ссылками на пустую вершину.\n",
    "        \"\"\"\n",
    "        \n",
    "        return binaryNode(self, value, self)"
   ]
  },
  {
   "cell_type": "markdown",
   "id": "07310cb7-e0c0-4513-9eed-dbae9bcd2561",
   "metadata": {},
   "source": [
    "**Примеры:**"
   ]
  },
  {
   "cell_type": "code",
   "execution_count": 25,
   "id": "87059d39-0453-4540-b151-395891b5fade",
   "metadata": {},
   "outputs": [
    {
     "data": {
      "text/plain": [
       "5"
      ]
     },
     "execution_count": 25,
     "metadata": {},
     "output_type": "execute_result"
    }
   ],
   "source": [
    "# Пример для списка;\n",
    "listData = [5, 1, 10, 3, 4]\n",
    "listTree = binaryTree()\n",
    "for value in listData:\n",
    "    listTree.insert(value)\n",
    "\n",
    "len(listTree)"
   ]
  },
  {
   "cell_type": "code",
   "execution_count": 26,
   "id": "49749029-3516-4401-90e9-5751253b84e1",
   "metadata": {},
   "outputs": [
    {
     "data": {
      "text/plain": [
       "16"
      ]
     },
     "execution_count": 26,
     "metadata": {},
     "output_type": "execute_result"
    }
   ],
   "source": [
    "# Пример для строки;\n",
    "strData = 'человекоподобный'\n",
    "strTree = binaryTree()\n",
    "for value in strData:\n",
    "    strTree.insert(value)\n",
    "\n",
    "len(strTree)"
   ]
  },
  {
   "cell_type": "code",
   "execution_count": 27,
   "id": "153f3202-d1d0-44d1-bf5c-0c99a08c7d6d",
   "metadata": {},
   "outputs": [
    {
     "data": {
      "text/plain": [
       "5"
      ]
     },
     "execution_count": 27,
     "metadata": {},
     "output_type": "execute_result"
    }
   ],
   "source": [
    "# Пример для range(...);\n",
    "rangeTree = binaryTree()\n",
    "for value in range(10, 0, -2):\n",
    "    rangeTree.insert(value)\n",
    "\n",
    "len(rangeTree)"
   ]
  }
 ],
 "metadata": {
  "kernelspec": {
   "display_name": "Python 3 (ipykernel)",
   "language": "python",
   "name": "python3"
  },
  "language_info": {
   "codemirror_mode": {
    "name": "ipython",
    "version": 3
   },
   "file_extension": ".py",
   "mimetype": "text/x-python",
   "name": "python",
   "nbconvert_exporter": "python",
   "pygments_lexer": "ipython3",
   "version": "3.13.2"
  }
 },
 "nbformat": 4,
 "nbformat_minor": 5
}
