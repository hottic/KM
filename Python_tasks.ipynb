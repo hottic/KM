{
 "cells": [
  {
   "cell_type": "markdown",
   "id": "3b5f8e49-3e9a-444b-ae67-3d4b6625361a",
   "metadata": {},
   "source": [
    "# Задачи по питону"
   ]
  },
  {
   "cell_type": "markdown",
   "id": "e18d4664-054a-4421-a2dd-f1e2173f978d",
   "metadata": {},
   "source": [
    "Булгаков А.Е. 17.05.25"
   ]
  },
  {
   "cell_type": "markdown",
   "id": "7c7c9210-5664-4ceb-9629-661a0589b0be",
   "metadata": {},
   "source": [
    "## Задачи:"
   ]
  },
  {
   "cell_type": "markdown",
   "id": "c4f43122-da99-47c0-94dd-c1f307f8c7ff",
   "metadata": {},
   "source": [
    "### Аргументы:\n"
   ]
  },
  {
   "cell_type": "markdown",
   "id": "2688782d",
   "metadata": {},
   "source": [
    "#### 3. Создайте функцию **my_sum**, принимающую произвольное количество позиционных числовых аргументов, и возвращающую их сумму. Создайте список из чисел от 1 до 10000, используйте функцию **my_sum**, чтобы найти их сумму. "
   ]
  },
  {
   "cell_type": "code",
   "execution_count": null,
   "id": "ea619a3d-0221-4567-9c08-865573d2e15b",
   "metadata": {},
   "outputs": [
    {
     "name": "stdout",
     "output_type": "stream",
     "text": [
      "Сумма чисел от 1 до 10000: 50005000\n"
     ]
    }
   ],
   "source": [
    "def my_sum(*args):\n",
    "    return sum(args) \n",
    "\n",
    "numbers = list(range(1, 10001))\n",
    "total = my_sum(*numbers)\n",
    "\n",
    "print(f\"Сумма чисел от 1 до 10000 {total}\")"
   ]
  },
  {
   "cell_type": "markdown",
   "id": "83960a45",
   "metadata": {},
   "source": [
    "#### 4. Создайте функцию **argmax**, принимающую произвольное количество именованных числовых аргументов, и возвращающую имя аргумента, содержащего максимальное значение."
   ]
  },
  {
   "cell_type": "code",
   "execution_count": 6,
   "id": "c21ee050",
   "metadata": {},
   "outputs": [
    {
     "name": "stdout",
     "output_type": "stream",
     "text": [
      "Максимальное значение у аргумента A\n"
     ]
    }
   ],
   "source": [
    "def argmax(**kwargs):\n",
    "    return max(kwargs.keys(), key=lambda k: kwargs[k])\n",
    "\n",
    "\n",
    "result = argmax(A=15, B=-153, C=5.4443, D=3)\n",
    "print(f\"Максимальное значение у аргумента {result}\")"
   ]
  },
  {
   "cell_type": "markdown",
   "id": "02b17a23-2182-481f-a3be-3bcee2a694a6",
   "metadata": {},
   "source": [
    "### Списки и массивы:"
   ]
  },
  {
   "cell_type": "markdown",
   "id": "14b09a8f",
   "metadata": {},
   "source": [
    "#### 1) Постройте список x со значениями, равномерно распределенными на отрезке [a, b] с шагом step, где a = -1, b = 1, step = 0.05\n",
    "\n",
    "\n",
    "\n",
    "1.1 Вычислите значения функции $y = e^{-x^{2}}cos(5x)$, используя два способа:\n",
    "1. Через **list comprehension**.\n",
    "2. Через **map** и **filter**.\n",
    "В обоих случаях результирующий список y должен содержать только те значения, которые больше 0.\n",
    "\n",
    "1.2 Вычислите значения $y = min(e^{-x^{2}}cos(5x), 0)$  по значениям из массива **x_arr**, созданного из списка **x**, не используя включения, циклы и функцию **map**\n",
    ". Переменная **y** должна быть массивом. Объедините массивы **x_arr** и *y* в матрицу из двух столбцов. \n",
    "\n"
   ]
  },
  {
   "cell_type": "code",
   "execution_count": null,
   "id": "da7548fc",
   "metadata": {},
   "outputs": [],
   "source": [
    "from math import exp, cos\n",
    "import numpy as np\n",
    "\n",
    "a=-1 \n",
    "b=1\n",
    "step=0.05\n",
    "x=[a + i*step for i in range(int((b-a)/step)+1)]\n",
    "\n",
    "y1=[exp(-x_i**2)*cos(5*x_i) for x_i in x if exp(-x_i**2)*cos(5*x_i)>0] #1.1.1\n",
    "y2=list(filter(lambda y: y>0, map(lambda x_i: exp(-x_i**2)*cos(5*x_i),x))) #1.1.2\n",
    "\n",
    "x_arr=np.array(x) \n",
    "y=np.minimum(np.exp(-x_arr**2)*np.cos(5* x_arr), 0)\n",
    "matrix=np.column_stack((x_arr, y))"
   ]
  },
  {
   "cell_type": "markdown",
   "id": "7119a97e",
   "metadata": {},
   "source": [
    "#### 2) Дан список книг books, используя только map, filter и reduce:\n",
    "\n",
    "1. Применить скидку 15% на книги с рейтингом выше 4.6.\n",
    "2. Оставить только книги дешевле 500 руб. и с рейтингом не ниже 4.5.\n",
    "3. Найти книгу с максимальным рейтингом..\n"
   ]
  },
  {
   "cell_type": "code",
   "execution_count": null,
   "id": "3f1c1bdb-c8e7-4ceb-b59f-5badbf9801a0",
   "metadata": {},
   "outputs": [
    {
     "name": "stdout",
     "output_type": "stream",
     "text": [
      "[{'title': 'Тихий Дон', 'price': 357.0, 'rating': 4.8}, {'title': 'Сто лет одиночества', 'price': 323.0, 'rating': 4.9}, {'title': 'Улисс', 'price': 670, 'rating': 4.5}, {'title': 'Братья Карамазовы', 'price': 382.5, 'rating': 4.7}, {'title': 'Война и мир', 'price': 490, 'rating': 4.599}, {'title': 'Лолита', 'price': 530, 'rating': 4.3}]\n",
      "[{'title': 'Тихий Дон', 'price': 357.0, 'rating': 4.8}, {'title': 'Сто лет одиночества', 'price': 323.0, 'rating': 4.9}, {'title': 'Братья Карамазовы', 'price': 382.5, 'rating': 4.7}, {'title': 'Война и мир', 'price': 490, 'rating': 4.599}]\n",
      "{'title': 'Сто лет одиночества', 'price': 380, 'rating': 4.9}\n"
     ]
    }
   ],
   "source": [
    "from functools import reduce\n",
    "\n",
    "books = [\n",
    "    {\"title\": \"Тихий Дон\", \"price\": 420, \"rating\": 4.8},\n",
    "    {\"title\": \"Сто лет одиночества\", \"price\": 380, \"rating\": 4.9},\n",
    "    {\"title\": \"Улисс\", \"price\": 670, \"rating\": 4.5},\n",
    "    {\"title\": \"Братья Карамазовы\", \"price\": 450, \"rating\": 4.7},\n",
    "    {\"title\": \"Война и мир\", \"price\": 490, \"rating\": 4.599},\n",
    "    {\"title\": \"Лолита\", \"price\": 530, \"rating\": 4.3}\n",
    "]\n",
    "discounted_books = list(map(\n",
    "    lambda book:{**book, \"price\":book[\"price\"]*0.85} if book[\"rating\"]>4.6 else book, books\n",
    "))\n",
    "filtered_books = list(filter(\n",
    "    lambda book: book[\"price\"]<500 and book[\"rating\"]>= 4.5,discounted_books\n",
    "))\n",
    "max_rated_book = reduce(\n",
    "    lambda book1, book2:book1 if book1[\"rating\"]>book2[\"rating\"] else book2, books\n",
    ")\n",
    "\n",
    "print(discounted_books)\n",
    "print(filtered_books)\n",
    "print(max_rated_book)"
   ]
  },
  {
   "cell_type": "markdown",
   "id": "3dbe01f9-09cf-41ce-a2cd-8b4835f573f0",
   "metadata": {},
   "source": [
    "### Генераторы:"
   ]
  },
  {
   "cell_type": "markdown",
   "id": "f9132d96",
   "metadata": {},
   "source": [
    "#### 3.  Создайте генератор бесконечной последовательности вида \n",
    "$a_n= ln(n!) - a_{n-1}; a_0= 1 $\n",
    "\n",
    "Выведите 200-й элемент последовательности.\n"
   ]
  },
  {
   "cell_type": "code",
   "execution_count": 42,
   "id": "dd07ba8d",
   "metadata": {},
   "outputs": [
    {
     "name": "stdout",
     "output_type": "stream",
     "text": [
      "200 элемент: 429.1778935808468\n"
     ]
    }
   ],
   "source": [
    "import math\n",
    "\n",
    "def sequence():\n",
    "    a=1\n",
    "    n=1\n",
    "    yield a \n",
    "    while True:\n",
    "        ln_fact=math.log(math.factorial(n)) \n",
    "        a=ln_fact-a\n",
    "        yield a\n",
    "        n+=1\n",
    "\n",
    "gen=sequence()\n",
    "for _ in range(200):\n",
    "    a_n = next(gen)\n",
    "\n",
    "print(f\"200 элемент: {a_n}\")"
   ]
  },
  {
   "cell_type": "markdown",
   "id": "7e8260fe",
   "metadata": {},
   "source": [
    "#### 5. Реализуйте генератор dynamic_transformer, который:\n",
    "1) Принимает строки через send.\n",
    "2) Поддерживает три режима (переключаются через .send()):\n",
    "   1. \"upper\" — преобразует строку в верхний регистр.\n",
    "   2. \"lower\" — преобразует строку в нижний регистр.\n",
    "   3. \"reverse\" — переворачивает строку.\n"
   ]
  },
  {
   "cell_type": "code",
   "execution_count": 41,
   "id": "2e3fe7c9",
   "metadata": {},
   "outputs": [
    {
     "name": "stdout",
     "output_type": "stream",
     "text": [
      "tSeT\n"
     ]
    }
   ],
   "source": [
    "def dynamic_transformer():\n",
    "    mode=\"upper\"\n",
    "    while True:\n",
    "        value=yield\n",
    "        if value in [\"upper\",\"lower\",\"reverse\"]:\n",
    "            mode=value\n",
    "            continue\n",
    "        if mode==\"upper\":\n",
    "            yield value.upper()\n",
    "        elif mode==\"lower\":\n",
    "            yield value.lower()\n",
    "        elif mode==\"reverse\":\n",
    "            yield value[::-1]\n",
    "\n",
    "transformer=dynamic_transformer()\n",
    "next(transformer) \n",
    "\n",
    "transformer.send(\"reverse\")\n",
    "print(transformer.send(\"TeSt\"))  "
   ]
  },
  {
   "cell_type": "markdown",
   "id": "940d29c7-189f-4002-ac2d-30b56d2789d6",
   "metadata": {},
   "source": [
    "### Декораторы:"
   ]
  },
  {
   "cell_type": "markdown",
   "id": "3286d105",
   "metadata": {},
   "source": [
    "#### 1. Напишите декоратор **dummy_vectorize**, который модифицирует функцию для поэлементной обработки списка из чисел так, что модифицированная функция может принимать список, применяя исходную функцию поэлементно."
   ]
  },
  {
   "cell_type": "code",
   "execution_count": null,
   "id": "303cf142-431e-4fd9-807e-971d6601e59e",
   "metadata": {},
   "outputs": [
    {
     "name": "stdout",
     "output_type": "stream",
     "text": [
      "[2, 3, 4, 5, 6]\n"
     ]
    }
   ],
   "source": [
    "def dummy_vectorize(func):\n",
    "    def wrapper(numbers):\n",
    "        return [func(x) for x in numbers]\n",
    "    return wrapper\n",
    "\n",
    "@dummy_vectorize\n",
    "def plus(x):\n",
    "    return x+1\n",
    "numbs=[1, 2, 3, 4, 5]\n",
    "test=plus(numbs)\n",
    "print(test)"
   ]
  },
  {
   "cell_type": "markdown",
   "id": "331700f2",
   "metadata": {},
   "source": [
    "#### 3. Напишите декоратор **retry_on_exception**, который перезапускает функцию при возникновении исключения до тех пор, пока она не выполнится успешно или не будет достигнуто максимальное количество попыток. Максимальное количество попыток и обрабатываемые исключения передаются в виде аргументов."
   ]
  },
  {
   "cell_type": "code",
   "execution_count": 62,
   "id": "1be3aa8e",
   "metadata": {},
   "outputs": [
    {
     "name": "stdout",
     "output_type": "stream",
     "text": [
      "4\n",
      "Попытки исчерпаны. Переменная должна быть положительной\n",
      "Исключение: Переменная должна быть положительной\n"
     ]
    }
   ],
   "source": [
    "def retry_on_exception(max_attempts, exceptions_to_catch):\n",
    "    def decorator(func):\n",
    "        def wrapper(*args,**kwargs):\n",
    "            attempts=0\n",
    "            while attempts<max_attempts:\n",
    "                try:\n",
    "                    return func(*args,**kwargs)\n",
    "                except exceptions_to_catch as e:\n",
    "                    attempts+=1\n",
    "                    if attempts==max_attempts:\n",
    "                        print(f\"Попытки исчерпаны. {e}\")\n",
    "                        raise\n",
    "        return wrapper\n",
    "    return decorator\n",
    "\n",
    "@retry_on_exception(max_attempts=3, exceptions_to_catch=(ValueError,))\n",
    "def operation(x):\n",
    "    if x < 0:\n",
    "        raise ValueError(\"Переменная должна быть положительной\")\n",
    "    return x**2\n",
    "\n",
    "print(operation(2)) \n",
    "\n",
    "try:\n",
    "    print(operation(-1)) \n",
    "except ValueError as e:\n",
    "    print(f\"Исключение: {e}\")\n"
   ]
  }
 ],
 "metadata": {
  "kernelspec": {
   "display_name": "Python 3",
   "language": "python",
   "name": "python3"
  },
  "language_info": {
   "codemirror_mode": {
    "name": "ipython",
    "version": 3
   },
   "file_extension": ".py",
   "mimetype": "text/x-python",
   "name": "python",
   "nbconvert_exporter": "python",
   "pygments_lexer": "ipython3",
   "version": "3.13.3"
  }
 },
 "nbformat": 4,
 "nbformat_minor": 5
}
