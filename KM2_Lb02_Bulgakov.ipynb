{
 "cells": [
  {
   "cell_type": "markdown",
   "id": "510533e1",
   "metadata": {},
   "source": [
    "# Лабораторная работа №2"
   ]
  },
  {
   "cell_type": "markdown",
   "id": "bdc9504d",
   "metadata": {},
   "source": [
    "Булгаков А.Е. 17.05.2025"
   ]
  },
  {
   "cell_type": "code",
   "execution_count": 7,
   "id": "b8144166-8304-4997-973f-43d89ee0fa5d",
   "metadata": {},
   "outputs": [
    {
     "name": "stdout",
     "output_type": "stream",
     "text": [
      "0.8999999999999999 0.9\n"
     ]
    }
   ],
   "source": [
    "import decimal as dc\n",
    "print(0.3 + 0.6, dc.Decimal('0.3') + dc.Decimal('0.6')) "
   ]
  },
  {
   "cell_type": "code",
   "execution_count": 9,
   "id": "56a5c65a-9dd9-4b04-9c58-a7fe2c046d6c",
   "metadata": {},
   "outputs": [
    {
     "name": "stdout",
     "output_type": "stream",
     "text": [
      "3/35 22/35 7/15\n"
     ]
    }
   ],
   "source": [
    "import fractions as fr\n",
    "fr1 = fr.Fraction(1,5)\n",
    "fr2 = fr.Fraction(3,7)\n",
    "print(fr1 * fr2, fr1 + fr2, fr1 / fr2 )"
   ]
  },
  {
   "cell_type": "code",
   "execution_count": 11,
   "id": "8910ee99-005f-478b-9f1c-76a115d22309",
   "metadata": {},
   "outputs": [],
   "source": [
    "S = 'spam'"
   ]
  },
  {
   "cell_type": "code",
   "execution_count": 12,
   "id": "e6cbc98e-8790-492f-a1e5-e3d8e3f5c9c9",
   "metadata": {},
   "outputs": [
    {
     "name": "stdout",
     "output_type": "stream",
     "text": [
      "slam\n"
     ]
    }
   ],
   "source": [
    "S = S[:1] + 'l' + S[2:]\n",
    "print(S)"
   ]
  },
  {
   "cell_type": "code",
   "execution_count": 20,
   "id": "84e5051e-8f26-4c3c-89f1-d372b9435589",
   "metadata": {},
   "outputs": [
    {
     "data": {
      "text/plain": [
       "52"
      ]
     },
     "execution_count": 20,
     "metadata": {},
     "output_type": "execute_result"
    }
   ],
   "source": [
    "infoDict = dict(zip(['Name', 'Age', 'Workplace', 'Address', 'Email', 'Phonenumder'],['Billy Harrington', 52, 'Gym', 'Lockerroom 2 blocks up', 'bossofthisgym@gmail.com', +3752973617327]))"
   ]
  },
  {
   "cell_type": "code",
   "execution_count": 21,
   "id": "99114401-fd6e-4cab-b570-4514d798605d",
   "metadata": {},
   "outputs": [
    {
     "data": {
      "text/plain": [
       "'Billy Harrington'"
      ]
     },
     "execution_count": 21,
     "metadata": {},
     "output_type": "execute_result"
    }
   ],
   "source": [
    "infoDict['Name']"
   ]
  },
  {
   "cell_type": "code",
   "execution_count": 22,
   "id": "dc05d644-5d81-452f-bfed-ebcff8d8dd48",
   "metadata": {},
   "outputs": [
    {
     "data": {
      "text/plain": [
       "52"
      ]
     },
     "execution_count": 22,
     "metadata": {},
     "output_type": "execute_result"
    }
   ],
   "source": [
    "infoDict.get('Age')"
   ]
  },
  {
   "cell_type": "code",
   "execution_count": 30,
   "id": "b10a71fc-b448-43ff-81d9-c66dc3fa75a0",
   "metadata": {},
   "outputs": [
    {
     "name": "stdout",
     "output_type": "stream",
     "text": [
      "['V', 'y', 'f', 's', 'i', 'n', 'M', 'e', 'c', 'm', 'I', ' ', 'r', 't', 'o', 'p', '.', 'a', ',']\n"
     ]
    }
   ],
   "source": [
    "s = 'My name is Van. Im an artist, performance artist'\n",
    "res = list(set(s))\n",
    "print(res)"
   ]
  },
  {
   "cell_type": "code",
   "execution_count": 48,
   "id": "186e2911-6d1d-4d18-a515-3c72911e2192",
   "metadata": {},
   "outputs": [
    {
     "name": "stdout",
     "output_type": "stream",
     "text": [
      "3\n",
      "0\n",
      "2\n",
      "5\n",
      "0\n",
      "0\n"
     ]
    }
   ],
   "source": [
    "List = [1,1,1,2,3,4,5,6,6,7,9]\n",
    "String = 'Hello Guys'\n",
    "Tuple = (1,2,3, \"hi\", 5)\n",
    "print(List.count(1))\n",
    "print(List.index(1))\n",
    "print(String.count('l'))\n",
    "print(String.index(' '))\n",
    "print(Tuple.count('i'))\n",
    "print(Tuple.index(1))"
   ]
  },
  {
   "cell_type": "code",
   "execution_count": 50,
   "id": "74738e10-2081-4aff-ac32-f66e75bd276a",
   "metadata": {},
   "outputs": [
    {
     "data": {
      "text/plain": [
       "'AH F* IT HURTS'"
      ]
     },
     "execution_count": 50,
     "metadata": {},
     "output_type": "execute_result"
    }
   ],
   "source": [
    "String = 'Ah f* it hurts'\n",
    "String.upper()"
   ]
  },
  {
   "cell_type": "code",
   "execution_count": 53,
   "id": "59ede17e-cdbd-4005-bc3e-fad473e4f38b",
   "metadata": {},
   "outputs": [
    {
     "data": {
      "text/plain": [
       "'Ass f* it ssurts'"
      ]
     },
     "execution_count": 53,
     "metadata": {},
     "output_type": "execute_result"
    }
   ],
   "source": [
    "String.replace('h', 'ss')"
   ]
  },
  {
   "cell_type": "code",
   "execution_count": 54,
   "id": "aa1e80a5-7ca9-4da9-b709-64c6b7d6e8f4",
   "metadata": {},
   "outputs": [
    {
     "data": {
      "text/plain": [
       "'ah f* it hurts'"
      ]
     },
     "execution_count": 54,
     "metadata": {},
     "output_type": "execute_result"
    }
   ],
   "source": [
    "String.lower()"
   ]
  },
  {
   "cell_type": "code",
   "execution_count": 55,
   "id": "e45d1f71-58c0-44cd-8d1c-0c7971f92717",
   "metadata": {},
   "outputs": [
    {
     "data": {
      "text/plain": [
       "['Ah f', ' it hurts']"
      ]
     },
     "execution_count": 55,
     "metadata": {},
     "output_type": "execute_result"
    }
   ],
   "source": [
    "String.split('*')"
   ]
  },
  {
   "cell_type": "code",
   "execution_count": 67,
   "id": "b516caac-fcec-4be7-b35f-53e4fb579520",
   "metadata": {},
   "outputs": [
    {
     "data": {
      "text/plain": [
       "[1, 2, 3, 4, 228, 0]"
      ]
     },
     "execution_count": 67,
     "metadata": {},
     "output_type": "execute_result"
    }
   ],
   "source": [
    "List = [1,2,3]\n",
    "List.append(4)\n",
    "List.extend([228])\n",
    "List.insert(5,0)\n",
    "List"
   ]
  },
  {
   "cell_type": "code",
   "execution_count": 70,
   "id": "a0916158-391d-4931-9206-2b12ee3ec4f0",
   "metadata": {},
   "outputs": [
    {
     "data": {
      "text/plain": [
       "[{'Time': '1 hour', 'Price': '100$'},\n",
       " {'Time': '2 hour', 'Price': '190$'},\n",
       " {'Time': '3 hour', 'Price': '280$'},\n",
       " {'Time': '5 hour', 'Price': '450$'}]"
      ]
     },
     "execution_count": 70,
     "metadata": {},
     "output_type": "execute_result"
    }
   ],
   "source": [
    "List = [{'Time':'5 hour', 'Price':'450$'},{'Time':'2 hour', 'Price':'190$'},{'Time':'1 hour', 'Price':'100$'},{'Time':'3 hour', 'Price':'280$'}]\n",
    "List.sort(key = lambda x: x['Time'])\n",
    "List"
   ]
  },
  {
   "cell_type": "code",
   "execution_count": 72,
   "id": "036d9b19-cbb8-4377-a74a-6c344816de96",
   "metadata": {},
   "outputs": [
    {
     "data": {
      "text/plain": [
       "{1: 'Ban',\n",
       " 2: 'Ban',\n",
       " 3: 'Ban',\n",
       " 4: 'Ban',\n",
       " 5: 'Ban',\n",
       " 6: 'Ban',\n",
       " 7: 'Ban',\n",
       " 8: 'Ban',\n",
       " 9: 'Ban',\n",
       " 10: 'Ban',\n",
       " 11: 'Ban',\n",
       " 12: 'Ban',\n",
       " 13: 'Ban',\n",
       " 14: 'Ban',\n",
       " 15: 'Ban',\n",
       " 16: 'Ban',\n",
       " 17: 'Ban',\n",
       " 18: 'Ban',\n",
       " 19: 'Ban',\n",
       " 20: 'Ban',\n",
       " 21: 'Ban',\n",
       " 22: 'Ban',\n",
       " 23: 'Ban',\n",
       " 24: 'Ban',\n",
       " 25: 'Ban',\n",
       " 26: 'Ban',\n",
       " 27: 'Ban',\n",
       " 28: 'Ban',\n",
       " 29: 'Ban',\n",
       " 30: 'Ban',\n",
       " 31: 'Ban',\n",
       " 32: 'Ban',\n",
       " 33: 'Ban',\n",
       " 34: 'Ban',\n",
       " 35: 'Ban',\n",
       " 36: 'Ban',\n",
       " 37: 'Ban',\n",
       " 38: 'Ban',\n",
       " 39: 'Ban',\n",
       " 40: 'Ban',\n",
       " 41: 'Ban',\n",
       " 42: 'Ban',\n",
       " 43: 'Ban',\n",
       " 44: 'Ban',\n",
       " 45: 'Ban',\n",
       " 46: 'Ban',\n",
       " 47: 'Ban',\n",
       " 48: 'Ban',\n",
       " 49: 'Ban',\n",
       " 50: 'Ban',\n",
       " 51: 'Ban',\n",
       " 52: 'Ban',\n",
       " 53: 'Ban',\n",
       " 54: 'Ban',\n",
       " 55: 'Ban',\n",
       " 56: 'Ban',\n",
       " 57: 'Ban',\n",
       " 58: 'Ban',\n",
       " 59: 'Ban',\n",
       " 60: 'Ban',\n",
       " 61: 'Ban',\n",
       " 62: 'Ban',\n",
       " 63: 'Ban',\n",
       " 64: 'Ban',\n",
       " 65: 'Ban',\n",
       " 66: 'Ban',\n",
       " 67: 'Ban',\n",
       " 68: 'Ban',\n",
       " 69: 'Ban',\n",
       " 70: 'Ban',\n",
       " 71: 'Ban',\n",
       " 72: 'Ban',\n",
       " 73: 'Ban',\n",
       " 74: 'Ban',\n",
       " 75: 'Ban',\n",
       " 76: 'Ban',\n",
       " 77: 'Ban',\n",
       " 78: 'Ban',\n",
       " 79: 'Ban',\n",
       " 80: 'Ban',\n",
       " 81: 'Ban',\n",
       " 82: 'Ban',\n",
       " 83: 'Ban',\n",
       " 84: 'Ban',\n",
       " 85: 'Ban',\n",
       " 86: 'Ban',\n",
       " 87: 'Ban',\n",
       " 88: 'Ban',\n",
       " 89: 'Ban',\n",
       " 90: 'Ban',\n",
       " 91: 'Ban',\n",
       " 92: 'Ban',\n",
       " 93: 'Ban',\n",
       " 94: 'Ban',\n",
       " 95: 'Ban',\n",
       " 96: 'Ban',\n",
       " 97: 'Ban',\n",
       " 98: 'Ban',\n",
       " 99: 'Ban',\n",
       " 100: 'Ban'}"
      ]
     },
     "execution_count": 72,
     "metadata": {},
     "output_type": "execute_result"
    }
   ],
   "source": [
    "Dict = dict(zip([i for i in range(1,101)], ['Ban' for i in range(1,101)]))\n",
    "Dict"
   ]
  },
  {
   "cell_type": "code",
   "execution_count": 78,
   "id": "cbc19645-c265-421a-b9ec-fb6daf18aabc",
   "metadata": {},
   "outputs": [
    {
     "data": {
      "text/plain": [
       "['a', 'b', 'c', [...]]"
      ]
     },
     "execution_count": 78,
     "metadata": {},
     "output_type": "execute_result"
    }
   ],
   "source": [
    "List = ['a', 'b', 'c']; List.append(List)\n",
    "List"
   ]
  },
  {
   "cell_type": "code",
   "execution_count": 83,
   "id": "b1a58c3e-e852-4741-8fd6-f7b23e8389af",
   "metadata": {},
   "outputs": [
    {
     "data": {
      "text/plain": [
       "6"
      ]
     },
     "execution_count": 83,
     "metadata": {},
     "output_type": "execute_result"
    }
   ],
   "source": [
    "a = b = c = d = 1337\n",
    "id(a), id(b)\n",
    "import sys\n",
    "sys.getrefcount(b)"
   ]
  },
  {
   "cell_type": "code",
   "execution_count": 90,
   "id": "ee935f82-4fe1-427a-8bc3-a2ca55d01f0c",
   "metadata": {},
   "outputs": [
    {
     "data": {
      "text/plain": [
       "([4, 1, 532, 39187, 23232],\n",
       " [4, 1, 532, 39187, 23232],\n",
       " [4, 1, 532, 39187, 23232])"
      ]
     },
     "execution_count": 90,
     "metadata": {},
     "output_type": "execute_result"
    }
   ],
   "source": [
    "List = [4,1,532, 39187, 23232]\n",
    "ListCopy = List.copy()\n",
    "ListCut = List[:]\n",
    "ListSqr = list(List)\n",
    "ListCopy, ListCut, ListSqr"
   ]
  },
  {
   "cell_type": "code",
   "execution_count": 95,
   "id": "13c70f02-2848-4ece-8c15-b7f6a90573c3",
   "metadata": {},
   "outputs": [
    {
     "data": {
      "text/plain": [
       "{0, 1, 2, 3, 4, 5, 6}"
      ]
     },
     "execution_count": 95,
     "metadata": {},
     "output_type": "execute_result"
    }
   ],
   "source": [
    "Set = set(i for i in range(10) if i <=6)\n",
    "Set"
   ]
  },
  {
   "cell_type": "code",
   "execution_count": 96,
   "id": "12f87c36-d6d6-4a8a-a332-9f58e32735a1",
   "metadata": {},
   "outputs": [
    {
     "name": "stdout",
     "output_type": "stream",
     "text": [
      "[0, 2, 4, 6, 8, 10, 12, 14]\n",
      "[2, 4, 6, 8, 10, 12, 14, 16]\n",
      "[4, 6, 8, 10, 12, 14, 16, 18]\n",
      "[6, 8, 10, 12, 14, 16, 18, 20]\n",
      "[8, 10, 12, 14, 16, 18, 20, 22]\n",
      "[10, 12, 14, 16, 18, 20, 22, 24]\n",
      "[12, 14, 16, 18, 20, 22, 24, 26]\n"
     ]
    }
   ],
   "source": [
    "Matrix = [ [(i + j)*2 for j in range(8)] for i in range(7)]\n",
    "for row in Matrix:\n",
    "    print(row)"
   ]
  },
  {
   "cell_type": "code",
   "execution_count": 99,
   "id": "ed6b379c-f416-48e3-b7e6-a58051d28f86",
   "metadata": {},
   "outputs": [
    {
     "data": {
      "text/plain": [
       "array([[ 0,  1,  2,  3,  4,  5,  6,  7],\n",
       "       [ 8,  9, 10, 11, 12, 13, 14, 15],\n",
       "       [16, 17, 18, 19, 20, 21, 22, 23],\n",
       "       [24, 25, 26, 27, 28, 29, 30, 31],\n",
       "       [32, 33, 34, 35, 36, 37, 38, 39],\n",
       "       [40, 41, 42, 43, 44, 45, 46, 47],\n",
       "       [48, 49, 50, 51, 52, 53, 54, 55]])"
      ]
     },
     "execution_count": 99,
     "metadata": {},
     "output_type": "execute_result"
    }
   ],
   "source": [
    "import numpy as np\n",
    "np.arange(7*8).reshape(7,8)"
   ]
  },
  {
   "cell_type": "code",
   "execution_count": 103,
   "id": "03da9307-7ff6-41ae-b37d-8dd923223281",
   "metadata": {},
   "outputs": [
    {
     "data": {
      "text/plain": [
       "{0: {0: 16, 1: 18, 2: 20, 3: 22, 4: 24},\n",
       " 1: {0: 16, 1: 18, 2: 20, 3: 22, 4: 24},\n",
       " 2: {0: 16, 1: 18, 2: 20, 3: 22, 4: 24},\n",
       " 3: {0: 16, 1: 18, 2: 20, 3: 22, 4: 24},\n",
       " 4: {0: 16, 1: 18, 2: 20, 3: 22, 4: 24},\n",
       " 5: {0: 16, 1: 18, 2: 20, 3: 22, 4: 24}}"
      ]
     },
     "execution_count": 103,
     "metadata": {},
     "output_type": "execute_result"
    }
   ],
   "source": [
    "Dict = {i: {j: (j+8)*2 for j in range(5)} for i in range(6)}\n",
    "Dict"
   ]
  },
  {
   "cell_type": "code",
   "execution_count": 118,
   "id": "3c717bf1-6098-4581-b8e0-625122bebd25",
   "metadata": {},
   "outputs": [
    {
     "name": "stdout",
     "output_type": "stream",
     "text": [
      "a = 228 points\n",
      "228 points\n",
      "228 points\n"
     ]
    }
   ],
   "source": [
    "a = 228\n",
    "print(f'{a =: 0} points')\n",
    "print('%s points' %a)\n",
    "print('{0} points'.format(228))"
   ]
  },
  {
   "cell_type": "code",
   "execution_count": 122,
   "id": "4d4c6970-8bd1-4f37-9589-b74fcfe8c231",
   "metadata": {},
   "outputs": [
    {
     "name": "stdout",
     "output_type": "stream",
     "text": [
      "a * b = 304836\n",
      "228 * 1337 = 304836\n",
      "228 * 1337 = 304836\n"
     ]
    }
   ],
   "source": [
    "a = 228\n",
    "b = 1337\n",
    "print(f'{a * b =: 0}')\n",
    "print('%s * %s = %s'%(a, b, a * b))\n",
    "print('{a} * {b} = {c}'.format(a = 228, b = 1337, c = a * b))"
   ]
  },
  {
   "cell_type": "code",
   "execution_count": 132,
   "id": "d95060d8-463c-4dcf-a7bf-3e48a107c6d6",
   "metadata": {},
   "outputs": [
    {
     "name": "stdout",
     "output_type": "stream",
     "text": [
      "Umm i dont know what is going on but guys listen itnew string\n",
      "new string\n",
      "\n",
      "-----\n",
      "Umm i dont know what is going on but guys listen itnew string\n",
      "\n",
      "-----\n",
      "['Umm i dont know what is going on but guys listen itnew string\\n', 'new string\\n']\n",
      "-----\n"
     ]
    }
   ],
   "source": [
    "file=open('text.txt')\n",
    "print(file.read())\n",
    "file.close()\n",
    "print(\"-----\")\n",
    "\n",
    "file=open('text.txt')\n",
    "print(file.readline())\n",
    "file.close()\n",
    "print(\"-----\")\n",
    "\n",
    "file=open('text.txt')\n",
    "print(file.readlines())\n",
    "file.close()\n",
    "print(\"-----\")"
   ]
  },
  {
   "cell_type": "code",
   "execution_count": 133,
   "id": "1b60c50d-44be-45b9-9ba1-f1da55ead119",
   "metadata": {},
   "outputs": [
    {
     "name": "stdout",
     "output_type": "stream",
     "text": [
      "Umm i dont know what is going on but guys listen itnew string\n",
      "new string\n",
      "new string\n",
      "\n"
     ]
    }
   ],
   "source": [
    "file=open('text.txt','a')\n",
    "file.write(str(\"new string\")+'\\n')\n",
    "file.close()\n",
    "file=open('text.txt')\n",
    "print(file.read())\n",
    "file.close()"
   ]
  },
  {
   "cell_type": "code",
   "execution_count": 134,
   "id": "b970cff7-378d-4406-bf53-2105e254543e",
   "metadata": {},
   "outputs": [
    {
     "name": "stdout",
     "output_type": "stream",
     "text": [
      "Umm i dont know what is going on but guys listen itnew string\n",
      "new string\n",
      "new string\n",
      "Actually i want to add more\n",
      "But like im too lazy\n",
      "\n"
     ]
    }
   ],
   "source": [
    "file=open('text.txt','a')\n",
    "file.writelines(['Actually i want to add more\\n', 'But like im too lazy\\n'])\n",
    "file.close()\n",
    "file=open('text.txt')\n",
    "print(file.read())\n",
    "file.close()"
   ]
  },
  {
   "cell_type": "code",
   "execution_count": null,
   "id": "69a3c56b-b917-49ea-b804-1e90974ba952",
   "metadata": {},
   "outputs": [],
   "source": []
  }
 ],
 "metadata": {
  "kernelspec": {
   "display_name": "Python 3 (ipykernel)",
   "language": "python",
   "name": "python3"
  },
  "language_info": {
   "codemirror_mode": {
    "name": "ipython",
    "version": 3
   },
   "file_extension": ".py",
   "mimetype": "text/x-python",
   "name": "python",
   "nbconvert_exporter": "python",
   "pygments_lexer": "ipython3",
   "version": "3.12.7"
  }
 },
 "nbformat": 4,
 "nbformat_minor": 5
}
