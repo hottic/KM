{
 "cells": [
  {
   "cell_type": "markdown",
   "id": "8a07a5da",
   "metadata": {},
   "source": [
    "# Лабораторная работа №9\n",
    "## Создание текстового файла большого объема с помощью генераторной функции"
   ]
  },
  {
   "cell_type": "markdown",
   "id": "3a31e359",
   "metadata": {},
   "source": [
    "Булгаков А.Е. 31.05.2025"
   ]
  },
  {
   "cell_type": "markdown",
   "id": "e13a5dbe",
   "metadata": {},
   "source": [
    "**Используемые модули:** `random`, `time`"
   ]
  },
  {
   "cell_type": "markdown",
   "id": "3a3ef1cf",
   "metadata": {},
   "source": [
    "### Задание 9.1\n",
    "Создание и запись строк в текстовый файл."
   ]
  },
  {
   "cell_type": "code",
   "execution_count": 22,
   "id": "ecb17b77",
   "metadata": {},
   "outputs": [
    {
     "name": "stdout",
     "output_type": "stream",
     "text": [
      "t\n",
      "e\n",
      "s\n",
      "t\n"
     ]
    }
   ],
   "source": [
    "file_name = 'test.txt'\n",
    "f = open(file_name, 'w')\n",
    "lines_list = [f'{x}\\n' for x in 'test']\n",
    "f.writelines(lines_list)\n",
    "f.close()\n",
    "\n",
    "with open(file_name,'r') as f:\n",
    "    for line in f:\n",
    "        print(line, end='')"
   ]
  },
  {
   "cell_type": "code",
   "execution_count": 23,
   "id": "529c0dc3",
   "metadata": {},
   "outputs": [],
   "source": [
    "lines_gen_expr = (f'{x}\\n' for x in range(10**6))\n",
    "\n",
    "def lines_gen_fun(number_lines=10**6):\n",
    "    yield from (f'{x}\\n' for x in range(number_lines))\n",
    "\n",
    "with open(file_name,'w') as f:\n",
    "    f.writelines(lines_gen_expr)\n",
    "    f.writelines(lines_gen_fun())"
   ]
  },
  {
   "cell_type": "code",
   "execution_count": 24,
   "id": "3808d760",
   "metadata": {},
   "outputs": [
    {
     "name": "stdout",
     "output_type": "stream",
     "text": [
      "6.57 Mb\n"
     ]
    }
   ],
   "source": [
    "def lines_gen_fun(number_lines=10**6):\n",
    "    file_size = 0\n",
    "    for x in range(number_lines):\n",
    "        line = f'{x}\\n'\n",
    "        yield line\n",
    "        file_size += len(line.encode('utf8'))\n",
    "    print(f'{file_size / 1024**2:.2f} Mb')\n",
    "\n",
    "with open(file_name, 'w') as f:\n",
    "    f.writelines(lines_gen_fun())"
   ]
  },
  {
   "cell_type": "markdown",
   "id": "62583b2b",
   "metadata": {},
   "source": [
    "### Задание 9.2\n",
    "Генерация случайных строк с использованием различных типов символов"
   ]
  },
  {
   "cell_type": "code",
   "execution_count": 25,
   "id": "e0c5dbbe",
   "metadata": {},
   "outputs": [
    {
     "name": "stdout",
     "output_type": "stream",
     "text": [
      "uugxns\n"
     ]
    }
   ],
   "source": [
    "from random import randint\n",
    "\n",
    "latin_code = (ord('a'), ord('z'))\n",
    "number_words = (10, 20)\n",
    "number_symbols = (5, 10)\n",
    "\n",
    "len_word = randint(*number_symbols)\n",
    "word = ''.join([chr(randint(*latin_code)) for _ in range(len_word)])\n",
    "print(word)"
   ]
  },
  {
   "cell_type": "code",
   "execution_count": null,
   "id": "89350f83",
   "metadata": {},
   "outputs": [],
   "source": [
    "def lines_gen_fun_v2(file_size, type_symbols='latin', number_words=(10,20), number_symbols=(5,10), status=True):\n",
    "    \"\"\"\n",
    "    Генератор строк, суммарный объём которых составляет указанный размер в мегабайтах\n",
    "\n",
    "    file_size- желаемый объём данных в мегабайтах\n",
    "    type_symbols -тип символов(latin,digits,cyrillic)\n",
    "    number_words -диапазон количества слов в строке (min, max)\n",
    "    number_symbols- диапазон длины слов в символах (min, max)\n",
    "    status -отображать ли прогресс выполнения в процентах\n",
    "    yield- сгенерированная строка текста\n",
    "    \"\"\"\n",
    "\n",
    "    if type_symbols == 'latin': #определяет диапавзон кодов символов в зависимости от типа\n",
    "        code_range = (ord('a'), ord('z'))  #латиница a-z\n",
    "    elif type_symbols == 'digits':\n",
    "        code_range = (ord('0'), ord('9'))  # 0-9\n",
    "    elif type_symbols == 'cyrillic':\n",
    "        code_range = (ord('а'), ord('я'))  #кирилица а-я\n",
    "\n",
    "    total_bytes=0   #количество записанных байтов\n",
    "    target_bytes=file_size*1024*1024       #желаемфй размер файла в байтах  \n",
    "    percent_prev = -1  #процент вывенный раньшен\n",
    "\n",
    "    while total_bytes < target_bytes:   #генерация до нужного размера\n",
    "        words = []  #список слов в строке\n",
    "        for _ in range(randint(*number_words)):  #рандомное количество слов\n",
    "            length = randint(*number_symbols)       #рандомная длина слова\n",
    "            word = ''.join(chr(randint(*code_range)) for _ in range(length)) #слово из рандомных символов выбранного диапазона\n",
    "            words.append(word)  #добавить слово в список\n",
    "\n",
    "        line = ' '.join(words) + '\\n'       # объединить слова в строку и добавляем перевод строки\n",
    "        total_bytes += len(line.encode('utf8'))      #учитываем размер строки в байтах\n",
    "\n",
    "        if status: #выводим процент выполнения\n",
    "            percent = int(total_bytes / target_bytes * 100)\n",
    "            if percent != percent_prev:\n",
    "                print(f'\\r{percent}%', end='', flush=True)\n",
    "                percent_prev = percent\n",
    "\n",
    "        yield line  #вернутьь строку\n",
    "\n",
    "    print(f'\\n{total_bytes / 1024**2:.2f} Mb')#размер файла"
   ]
  },
  {
   "cell_type": "markdown",
   "id": "180b3ebc",
   "metadata": {},
   "source": [
    "### Задание 9.3\n",
    "Финальная функция генерации и записи файла."
   ]
  },
  {
   "cell_type": "code",
   "execution_count": null,
   "id": "06a1d9a3",
   "metadata": {},
   "outputs": [],
   "source": [
    "from typing import Tuple\n",
    "from time import process_time\n",
    "\n",
    "def file_gen(file_name: str,\n",
    "             file_size: int,\n",
    "             type_symbols: str = 'latin',\n",
    "             number_words: Tuple[int, int] = (10, 20),\n",
    "             number_symbols: Tuple[int, int] = (5, 10)):\n",
    "    \"\"\"\n",
    "    Генерация текстового файла заданного размера с помощью генераторной функции строк\n",
    "\n",
    "    file_name -имя выходного текстового файла\n",
    "    file_size- желаемый размер файла в мегабайтах\n",
    "    type_symbols -тип символов (latin,digits,cyrillic)\n",
    "    number_words- диапазон количества слов в строке(min, max)\n",
    "    number_symbols- диапазон длины каждого слова (min, max)\n",
    "    \"\"\"\n",
    "    start = process_time()  #начальное время \n",
    "    with open(file_name, 'w', encoding='utf8') as f:  #открыввает файл для записи в кодировке UTF-8\n",
    "        f.writelines(lines_gen_fun_v2(file_size, type_symbols, number_words, number_symbols)) #записывает сгенерированные строки в файл\n",
    "    end = process_time()  #время окончания\n",
    "    print(f'Время выполнения: {end-start:.2f} секунд')  #вывод времени"
   ]
  },
  {
   "cell_type": "code",
   "execution_count": 28,
   "id": "3bbdab2e",
   "metadata": {},
   "outputs": [
    {
     "name": "stdout",
     "output_type": "stream",
     "text": [
      "100%\n",
      "1.00 Mb\n",
      "Время выполнения: 0.38 секунд\n",
      "100%\n",
      "1.00 Mb\n",
      "Время выполнения: 0.38 секунд\n",
      "100%\n",
      "1.00 Mb\n",
      "Время выполнения: 0.30 секунд\n"
     ]
    }
   ],
   "source": [
    "file_gen('latin_test.txt', 1, 'latin')\n",
    "file_gen('digits_test.txt', 1, 'digits')\n",
    "file_gen('cyrillic_test.txt', 1, 'cyrillic')"
   ]
  }
 ],
 "metadata": {
  "kernelspec": {
   "display_name": "Python 3",
   "language": "python",
   "name": "python3"
  },
  "language_info": {
   "codemirror_mode": {
    "name": "ipython",
    "version": 3
   },
   "file_extension": ".py",
   "mimetype": "text/x-python",
   "name": "python",
   "nbconvert_exporter": "python",
   "pygments_lexer": "ipython3",
   "version": "3.13.3"
  }
 },
 "nbformat": 4,
 "nbformat_minor": 5
}
