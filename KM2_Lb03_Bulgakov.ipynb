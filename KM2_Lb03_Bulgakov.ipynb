{
 "cells": [
  {
   "cell_type": "markdown",
   "id": "633925bb-2ac1-4722-ab00-7b1b05731728",
   "metadata": {},
   "source": [
    "# Лабораторная работа 3"
   ]
  },
  {
   "cell_type": "markdown",
   "id": "579944be",
   "metadata": {},
   "source": [
    "# Анимация движения секущей прямой к заданной линии на плоскости"
   ]
  },
  {
   "cell_type": "markdown",
   "id": "7b3d381f-8dde-4c24-8e0b-92bf4ddfd098",
   "metadata": {},
   "source": [
    "Булгаков А.Е., 18.05.2025"
   ]
  },
  {
   "cell_type": "code",
   "execution_count": 138,
   "id": "96a7f274-ea01-4b7a-bdfd-87bd33bcaffe",
   "metadata": {},
   "outputs": [],
   "source": [
    "from matplotlib.animation import FuncAnimation"
   ]
  },
  {
   "cell_type": "code",
   "execution_count": 140,
   "id": "0658cd6c-19e9-4f66-9ad7-34c0332c9b57",
   "metadata": {},
   "outputs": [],
   "source": [
    "#?FuncAnimation"
   ]
  },
  {
   "cell_type": "markdown",
   "id": "f3596b5a-71bf-4caf-b152-fbbe2e2cd5fe",
   "metadata": {},
   "source": [
    "• обязательный аргумент `fig` : графическое окно, в котором будет отображаться\n",
    "анимация;\n",
    "\n",
    "• обязательный аргумент `func` : функция одного обязательного аргумента, которая\n",
    "будет вызываться в каждом кадре;\n",
    "\n",
    "• НЕобязательный аргумент `frames` со стандартным значением `None` :\n",
    "последовательность, элементы которой будут определять значение аргумента\n",
    "функции `func` при последовательной индексации последовательности от начала\n",
    "до конца;\n",
    "\n",
    "• НЕобязательный аргумент `init_func` со стандартным значением `None` : функция,\n",
    "которая вызывается перед началом анимации;\n",
    "\n",
    "• НЕобязательный аргумент `repeat` со стандартным значением `True` : нужно ли\n",
    "повторять анимацию снова после отрисовки всех кадров;\n",
    "\n",
    "• НЕобязательный аргумент `interval` со стандартным значением `200` :\n",
    "длительность задержки в миллисекундах между кадрами анимации.\n",
    "\n",
    "*Обратите внимание*, что значениями аргументов `func` и `init_func` являются\n",
    "функции. Также обратите внимание на использование `*` в качестве аргумента\n",
    "функции `FuncAnimation` .\n",
    "\n"
   ]
  },
  {
   "cell_type": "markdown",
   "id": "0425fb23-4a27-46cc-ade7-f0f199adc2c6",
   "metadata": {},
   "source": [
    "## Задание 3.1. Анимированное построение линии на плоскости"
   ]
  },
  {
   "cell_type": "markdown",
   "id": "83578812-bc05-46de-8706-ef1433ac8eb2",
   "metadata": {},
   "source": [
    "a) $\\color{red}{Создайте}$ $\\color{red}{анимацию}$ построения графика некоторой явно заданной аналитической функции $y=y(x)$ по значениям $x$, последовательно изменяющимся от $x_{min}$ до $x_{max}$ с\n",
    "шагом $step$. Выполните задание для $y(x)=sin(x)^4$, $x_{min}=1$, $x_{max}=5$, $step=0.05$.\n",
    "\n",
    "б)$\\color{red}{Создайте}$ $\\color{red}{анимацию}$ построения графика параметрически заданной функции $x=x(t)$, $y=y(t)$ по значениям $t$, последовательно изменяющимся от $t_{min}$ до $t_{max}$ с\n",
    "шагом $step$. Выполните задание для функции из Задания 1.4 в Лб1, согласно Вашему варианту. Значения $t_{min}$ и $t_{max}$ выберите самостоятельно с учетом непрерывности параметрической функции на выбранном диапазоне, $step = (t_{max} - t_{min})/100$"
   ]
  },
  {
   "cell_type": "markdown",
   "id": "6a4e63d8-5ad2-40b1-9893-b45efdfcc6fe",
   "metadata": {},
   "source": [
    "### Реализация Задания 3.1a"
   ]
  },
  {
   "cell_type": "code",
   "execution_count": 146,
   "id": "9cd2bef1-4e05-4e59-aa5a-dc0c8d450c5b",
   "metadata": {},
   "outputs": [],
   "source": [
    "import numpy as np"
   ]
  },
  {
   "cell_type": "code",
   "execution_count": 148,
   "id": "a91f0fbe-1de5-484b-9454-8f97c98b8275",
   "metadata": {},
   "outputs": [],
   "source": [
    "import matplotlib.pyplot as plt"
   ]
  },
  {
   "cell_type": "markdown",
   "id": "6fab4c77-946e-4290-b100-f0eded6c6176",
   "metadata": {},
   "source": [
    "Вызовем специальную команду JupyterLab, необходимую для корректного отображения анимации в интерактивном документе:"
   ]
  },
  {
   "cell_type": "code",
   "execution_count": 151,
   "id": "c903a078-f418-495f-aa41-d312d7c094f2",
   "metadata": {},
   "outputs": [],
   "source": [
    "%matplotlib widget"
   ]
  },
  {
   "cell_type": "markdown",
   "id": "a8910e68-3148-41aa-9b1b-f365e3d02ebe",
   "metadata": {},
   "source": [
    "Будем строить анимацию для функции вида $y(x)=sin(x)^4$ по значениям $x$, изменяющимся от $x_{min} = 1$ до $x_{max} = 5$ с\n",
    "шагом $step = 0.05$"
   ]
  },
  {
   "cell_type": "markdown",
   "id": "e23021bd-3810-4033-94af-6be3b3d90a68",
   "metadata": {},
   "source": [
    "Определим функцию $y(x)$ с применением оператора `def`:"
   ]
  },
  {
   "cell_type": "code",
   "execution_count": 155,
   "id": "9ba2fd57-0ed1-4c1f-8e3d-afeffb487ca7",
   "metadata": {},
   "outputs": [],
   "source": [
    "def y(x):\n",
    " return np.sin(x)**4"
   ]
  },
  {
   "cell_type": "markdown",
   "id": "5ba064d8-cc40-4792-b7ed-a208b995989d",
   "metadata": {},
   "source": [
    "Создадим переменные"
   ]
  },
  {
   "cell_type": "code",
   "execution_count": 158,
   "id": "3dacf56c-710d-4330-902c-50936872fadc",
   "metadata": {},
   "outputs": [],
   "source": [
    "x_min = 1.; x_max = 5.; step = 0.05"
   ]
  },
  {
   "cell_type": "markdown",
   "id": "d3151cab-16ae-40fb-b826-2271095c755f",
   "metadata": {},
   "source": [
    "Cоздадим массив `x_array` равномерно распределенных чисел на отрезке $[x_{min};x_{max}]$\n",
    " с шагом $step$ с помощью функции `arange` . Создадим массив\n",
    "y_array соответствующих значений $y$ с помощью пользовательской функции `y`"
   ]
  },
  {
   "cell_type": "code",
   "execution_count": 161,
   "id": "e7d47461-37bd-4cf0-9d9a-1af5abecf63f",
   "metadata": {},
   "outputs": [],
   "source": [
    "x_array = np.arange(x_min, x_max, step)\n",
    "y_array = y(x_array)"
   ]
  },
  {
   "cell_type": "markdown",
   "id": "9bb71471-25d7-4055-860d-51905eef7975",
   "metadata": {},
   "source": [
    "Из двух массивов `x_array` и `y_array` создадим матрицу `matrix` координат\n",
    "точек графика функции $y(x)$. Матрица состоит из двух столбцов. Первый столбец\n",
    "матрицы содержит x-координаты точек, второй столбец -- y-координаты точек:"
   ]
  },
  {
   "cell_type": "code",
   "execution_count": 164,
   "id": "6dd7ac43-e5ec-49cf-93dc-b6cb875c059d",
   "metadata": {},
   "outputs": [],
   "source": [
    "matrix = np.transpose([x_array, y_array])"
   ]
  },
  {
   "cell_type": "markdown",
   "id": "6b59b686-bc09-47f9-9d68-65300e0ca75d",
   "metadata": {},
   "source": [
    "С помощью функции `figure` из модуля `pyplot` создадим графическое окно\n",
    "`fig1` , в котором в дальнейшем будет отображаться анимация"
   ]
  },
  {
   "cell_type": "code",
   "execution_count": 167,
   "id": "b92b8ee7-2eef-445a-aa59-af86cab5671c",
   "metadata": {},
   "outputs": [
    {
     "data": {
      "application/vnd.jupyter.widget-view+json": {
       "model_id": "b6022c53f22d4808b8dfc0749e128cf1",
       "version_major": 2,
       "version_minor": 0
      },
      "image/png": "[encoded data removed]",
      "text/html": [
       "\n",
       "            <div style=\"display: inline-block;\">\n",
       "                <div class=\"jupyter-widgets widget-label\" style=\"text-align: center;\">\n",
       "                    Figure\n",
       "                </div>\n",
       "                <img src='data:image/png;base64,iVBORw0KGgoAAAANSUhEUgAAAoAAAAHgCAYAAAA10dzkAAAAOXRFWHRTb2Z0d2FyZQBNYXRwbG90bGliIHZlcnNpb24zLjkuMiwgaHR0cHM6Ly9tYXRwbG90bGliLm9yZy8hTgPZAAAACXBIWXMAAA9hAAAPYQGoP6dpAAAIyUlEQVR4nO3WMQEAIAzAMMC/5+ECjiYKenbPzCwAADLO7wAAAN4ygAAAMQYQACDGAAIAxBhAAIAYAwgAEGMAAQBiDCAAQIwBBACIMYAAADEGEAAgxgACAMQYQACAGAMIABBjAAEAYgwgAECMAQQAiDGAAAAxBhAAIMYAAgDEGEAAgBgDCAAQYwABAGIMIABAjAEEAIgxgAAAMQYQACDGAAIAxBhAAIAYAwgAEGMAAQBiDCAAQIwBBACIMYAAADEGEAAgxgACAMQYQACAGAMIABBjAAEAYgwgAECMAQQAiDGAAAAxBhAAIMYAAgDEGEAAgBgDCAAQYwABAGIMIABAjAEEAIgxgAAAMQYQACDGAAIAxBhAAIAYAwgAEGMAAQBiDCAAQIwBBACIMYAAADEGEAAgxgACAMQYQACAGAMIABBjAAEAYgwgAECMAQQAiDGAAAAxBhAAIMYAAgDEGEAAgBgDCAAQYwABAGIMIABAjAEEAIgxgAAAMQYQACDGAAIAxBhAAIAYAwgAEGMAAQBiDCAAQIwBBACIMYAAADEGEAAgxgACAMQYQACAGAMIABBjAAEAYgwgAECMAQQAiDGAAAAxBhAAIMYAAgDEGEAAgBgDCAAQYwABAGIMIABAjAEEAIgxgAAAMQYQACDGAAIAxBhAAIAYAwgAEGMAAQBiDCAAQIwBBACIMYAAADEGEAAgxgACAMQYQACAGAMIABBjAAEAYgwgAECMAQQAiDGAAAAxBhAAIMYAAgDEGEAAgBgDCAAQYwABAGIMIABAjAEEAIgxgAAAMQYQACDGAAIAxBhAAIAYAwgAEGMAAQBiDCAAQIwBBACIMYAAADEGEAAgxgACAMQYQACAGAMIABBjAAEAYgwgAECMAQQAiDGAAAAxBhAAIMYAAgDEGEAAgBgDCAAQYwABAGIMIABAjAEEAIgxgAAAMQYQACDGAAIAxBhAAIAYAwgAEGMAAQBiDCAAQIwBBACIMYAAADEGEAAgxgACAMQYQACAGAMIABBjAAEAYgwgAECMAQQAiDGAAAAxBhAAIMYAAgDEGEAAgBgDCAAQYwABAGIMIABAjAEEAIgxgAAAMQYQACDGAAIAxBhAAIAYAwgAEGMAAQBiDCAAQIwBBACIMYAAADEGEAAgxgACAMQYQACAGAMIABBjAAEAYgwgAECMAQQAiDGAAAAxBhAAIMYAAgDEGEAAgBgDCAAQYwABAGIMIABAjAEEAIgxgAAAMQYQACDGAAIAxBhAAIAYAwgAEGMAAQBiDCAAQIwBBACIMYAAADEGEAAgxgACAMQYQACAGAMIABBjAAEAYgwgAECMAQQAiDGAAAAxBhAAIMYAAgDEGEAAgBgDCAAQYwABAGIMIABAjAEEAIgxgAAAMQYQACDGAAIAxBhAAIAYAwgAEGMAAQBiDCAAQIwBBACIMYAAADEGEAAgxgACAMQYQACAGAMIABBjAAEAYgwgAECMAQQAiDGAAAAxBhAAIMYAAgDEGEAAgBgDCAAQYwABAGIMIABAjAEEAIgxgAAAMQYQACDGAAIAxBhAAIAYAwgAEGMAAQBiDCAAQIwBBACIMYAAADEGEAAgxgACAMQYQACAGAMIABBjAAEAYgwgAECMAQQAiDGAAAAxBhAAIMYAAgDEGEAAgBgDCAAQYwABAGIMIABAjAEEAIgxgAAAMQYQACDGAAIAxBhAAIAYAwgAEGMAAQBiDCAAQIwBBACIMYAAADEGEAAgxgACAMQYQACAGAMIABBjAAEAYgwgAECMAQQAiDGAAAAxBhAAIMYAAgDEGEAAgBgDCAAQYwABAGIMIABAjAEEAIgxgAAAMQYQACDGAAIAxBhAAIAYAwgAEGMAAQBiDCAAQIwBBACIMYAAADEGEAAgxgACAMQYQACAGAMIABBjAAEAYgwgAECMAQQAiDGAAAAxBhAAIMYAAgDEGEAAgBgDCAAQYwABAGIMIABAjAEEAIgxgAAAMQYQACDGAAIAxBhAAIAYAwgAEGMAAQBiDCAAQIwBBACIMYAAADEGEAAgxgACAMQYQACAGAMIABBjAAEAYgwgAECMAQQAiDGAAAAxBhAAIMYAAgDEGEAAgBgDCAAQYwABAGIMIABAjAEEAIgxgAAAMQYQACDGAAIAxBhAAIAYAwgAEGMAAQBiDCAAQIwBBACIMYAAADEGEAAgxgACAMQYQACAGAMIABBjAAEAYgwgAECMAQQAiDGAAAAxBhAAIMYAAgDEGEAAgBgDCAAQYwABAGIMIABAjAEEAIgxgAAAMQYQACDGAAIAxBhAAIAYAwgAEGMAAQBiDCAAQIwBBACIMYAAADEGEAAgxgACAMQYQACAGAMIABBjAAEAYgwgAECMAQQAiDGAAAAxBhAAIMYAAgDEGEAAgBgDCAAQYwABAGIMIABAjAEEAIgxgAAAMQYQACDGAAIAxBhAAIAYAwgAEGMAAQBiDCAAQIwBBACIMYAAADEGEAAgxgACAMQYQACAGAMIABBjAAEAYgwgAECMAQQAiDGAAAAxBhAAIMYAAgDEGEAAgBgDCAAQYwABAGIMIABAjAEEAIgxgAAAMQYQACDGAAIAxBhAAIAYAwgAEGMAAQBiDCAAQIwBBACIMYAAADEGEAAgxgACAMQYQACAGAMIABBjAAEAYgwgAECMAQQAiDGAAAAxBhAAIMYAAgDEGEAAgBgDCAAQYwABAGIMIABAjAEEAIgxgAAAMQYQACDGAAIAxBhAAIAYAwgAEGMAAQBiDCAAQIwBBACIMYAAADEGEAAgxgACAMQYQACAGAMIABBjAAEAYgwgAECMAQQAiDGAAAAxBhAAIMYAAgDEGEAAgBgDCAAQYwABAGIMIABAjAEEAIgxgAAAMQYQACDGAAIAxBhAAIAYAwgAEGMAAQBiDCAAQIwBBACIMYAAADEGEAAgxgACAMQYQACAGAMIABBjAAEAYgwgAECMAQQAiDGAAAAxBhAAIMYAAgDEGEAAgBgDCAAQYwABAGIuJnkHvKensmIAAAAASUVORK5CYII=' width=640.0/>\n",
       "            </div>\n",
       "        "
      ],
      "text/plain": [
       "Canvas(toolbar=Toolbar(toolitems=[('Home', 'Reset original view', 'home', 'home'), ('Back', 'Back to previous …"
      ]
     },
     "metadata": {},
     "output_type": "display_data"
    }
   ],
   "source": [
    "fig1 = plt.figure()"
   ]
  },
  {
   "cell_type": "markdown",
   "id": "e5451970-5640-47c5-a3d7-75e8fb337ecd",
   "metadata": {},
   "source": [
    "C помощью функции `axes` из модуля `pyplot` cоздадим графическую область\n",
    "`ax1` и зададим для нее пределы по осям"
   ]
  },
  {
   "cell_type": "code",
   "execution_count": 170,
   "id": "75c94b78-b8e8-4baf-8dd4-5c8a8b39e154",
   "metadata": {},
   "outputs": [
    {
     "data": {
      "text/plain": [
       "(0.5, 5.5, -0.499999995004082, 1.4996930655910048)"
      ]
     },
     "execution_count": 170,
     "metadata": {},
     "output_type": "execute_result"
    }
   ],
   "source": [
    "y_min, y_max = np.min(y_array), np.max(y_array)\n",
    "ax1 = plt.axes()\n",
    "plt.axis([x_min-0.5, x_max+0.5, y_min-0.5, y_max+0.5])"
   ]
  },
  {
   "cell_type": "markdown",
   "id": "2cd94833-378c-4cdd-ae7c-59572fbee600",
   "metadata": {},
   "source": [
    "С помощью функции `plot` из пакета `pyplot` создадим в графической области\n",
    "`ax1` графический объект типа `Line2D` синего цвета, координаты которого пока не\n",
    "определены"
   ]
  },
  {
   "cell_type": "code",
   "execution_count": 173,
   "id": "e480854c-ab8e-4001-90b4-0aaa31ecc6a5",
   "metadata": {},
   "outputs": [
    {
     "name": "stdout",
     "output_type": "stream",
     "text": [
      "<class 'matplotlib.lines.Line2D'>\n"
     ]
    },
    {
     "data": {
      "text/plain": [
       "(array([], dtype=float64), array([], dtype=float64))"
      ]
     },
     "execution_count": 173,
     "metadata": {},
     "output_type": "execute_result"
    }
   ],
   "source": [
    "line1, = ax1.plot([],[],'b')\n",
    "print(type(line1))\n",
    "line1.get_xdata(), line1.get_ydata()"
   ]
  },
  {
   "cell_type": "code",
   "execution_count": 175,
   "id": "9513dc49-ab86-4365-bcc7-aedf55a7ae67",
   "metadata": {},
   "outputs": [
    {
     "data": {
      "text/plain": [
       "\u001b[1;31mSignature:\u001b[0m \u001b[0mline1\u001b[0m\u001b[1;33m.\u001b[0m\u001b[0mget_xdata\u001b[0m\u001b[1;33m(\u001b[0m\u001b[0morig\u001b[0m\u001b[1;33m=\u001b[0m\u001b[1;32mTrue\u001b[0m\u001b[1;33m)\u001b[0m\u001b[1;33m\u001b[0m\u001b[1;33m\u001b[0m\u001b[0m\n",
       "\u001b[1;31mDocstring:\u001b[0m\n",
       "Return the xdata.\n",
       "\n",
       "If *orig* is *True*, return the original data, else the\n",
       "processed data.\n",
       "\u001b[1;31mFile:\u001b[0m      d:\\anaconda\\lib\\site-packages\\matplotlib\\lines.py\n",
       "\u001b[1;31mType:\u001b[0m      method"
      ]
     },
     "metadata": {},
     "output_type": "display_data"
    }
   ],
   "source": [
    "?line1.get_xdata"
   ]
  },
  {
   "cell_type": "markdown",
   "id": "012204b6-f815-4bd3-aeb4-ddeb5d347bf7",
   "metadata": {},
   "source": [
    "Определим пользовательскую функцию одного аргумента `at_frame1` , которая\n",
    "будет вызываться в каждом кадре анимации.\n",
    "\n",
    "\n",
    "Единственный аргумент функции `at_frame1` является массивом из x и y координат\n",
    "точки графика функции. Функция `at_frame1` добавляет к графическому объекту\n",
    "`line1` точку с координатами $(x;y)$"
   ]
  },
  {
   "cell_type": "code",
   "execution_count": 178,
   "id": "6ac4a953-20f2-459d-ade3-fe51dd2cc1de",
   "metadata": {},
   "outputs": [],
   "source": [
    "def at_frame1(point):\n",
    " \"\"\"добавляет к объекту line1 точку с координатами (point[0],point[1])\n",
    " \n",
    " Arguments :\n",
    " \n",
    " point : массив из двух элементов\n",
    " \n",
    " Returns : None\n",
    " \"\"\"\n",
    " x_coord = list(line1.get_xdata())\n",
    " y_coord = list(line1.get_ydata())\n",
    " \n",
    " x_coord.append(point[0])\n",
    " y_coord.append(point[1])\n",
    " \n",
    " line1.set_data(x_coord, y_coord)"
   ]
  },
  {
   "cell_type": "code",
   "execution_count": 180,
   "id": "fa96fa43-14d7-417f-828b-3acea1743bce",
   "metadata": {},
   "outputs": [
    {
     "data": {
      "text/plain": [
       "\u001b[1;31mSignature:\u001b[0m \u001b[0mline1\u001b[0m\u001b[1;33m.\u001b[0m\u001b[0mset_data\u001b[0m\u001b[1;33m(\u001b[0m\u001b[1;33m*\u001b[0m\u001b[0margs\u001b[0m\u001b[1;33m)\u001b[0m\u001b[1;33m\u001b[0m\u001b[1;33m\u001b[0m\u001b[0m\n",
       "\u001b[1;31mDocstring:\u001b[0m\n",
       "Set the x and y data.\n",
       "\n",
       "Parameters\n",
       "----------\n",
       "*args : (2, N) array or two 1D arrays\n",
       "\n",
       "See Also\n",
       "--------\n",
       "set_xdata\n",
       "set_ydata\n",
       "\u001b[1;31mFile:\u001b[0m      d:\\anaconda\\lib\\site-packages\\matplotlib\\lines.py\n",
       "\u001b[1;31mType:\u001b[0m      method"
      ]
     },
     "metadata": {},
     "output_type": "display_data"
    }
   ],
   "source": [
    "?line1.set_data"
   ]
  },
  {
   "cell_type": "markdown",
   "id": "852ca4d0-2c5b-48a3-b76a-45f5dde786c6",
   "metadata": {},
   "source": [
    "С помощью функции `help` и команды `?` извлекем строки документации для\n",
    "пользовательской функции `at_frame1`"
   ]
  },
  {
   "cell_type": "code",
   "execution_count": 183,
   "id": "cafc7b5f-64ae-4a4a-bcd3-04af66e16ec4",
   "metadata": {},
   "outputs": [
    {
     "name": "stdout",
     "output_type": "stream",
     "text": [
      "Help on function at_frame1 in module __main__:\n",
      "\n",
      "at_frame1(point)\n",
      "    добавляет к объекту line1 точку с координатами (point[0],point[1])\n",
      "\n",
      "    Arguments :\n",
      "\n",
      "    point : массив из двух элементов\n",
      "\n",
      "    Returns : None\n",
      "\n"
     ]
    }
   ],
   "source": [
    "help(at_frame1)"
   ]
  },
  {
   "cell_type": "code",
   "execution_count": 185,
   "id": "8b892f3b-ee30-475c-b056-033d618de6d7",
   "metadata": {},
   "outputs": [
    {
     "data": {
      "text/plain": [
       "\u001b[1;31mSignature:\u001b[0m \u001b[0mat_frame1\u001b[0m\u001b[1;33m(\u001b[0m\u001b[0mpoint\u001b[0m\u001b[1;33m)\u001b[0m\u001b[1;33m\u001b[0m\u001b[1;33m\u001b[0m\u001b[0m\n",
       "\u001b[1;31mDocstring:\u001b[0m\n",
       "добавляет к объекту line1 точку с координатами (point[0],point[1])\n",
       "\n",
       "Arguments :\n",
       "\n",
       "point : массив из двух элементов\n",
       "\n",
       "Returns : None\n",
       "\u001b[1;31mFile:\u001b[0m      c:\\users\\pc\\appdata\\local\\temp\\ipykernel_2440\\1406039668.py\n",
       "\u001b[1;31mType:\u001b[0m      function"
      ]
     },
     "metadata": {},
     "output_type": "display_data"
    }
   ],
   "source": [
    "?at_frame1"
   ]
  },
  {
   "cell_type": "markdown",
   "id": "f149fb70-cca0-4112-bd38-9b2e25f9ba67",
   "metadata": {},
   "source": [
    "Атрибут `__doc__ `объекта-функции содержит строки документации"
   ]
  },
  {
   "cell_type": "code",
   "execution_count": 188,
   "id": "85d05b9b-759f-43e4-b598-5594fdf55e38",
   "metadata": {},
   "outputs": [
    {
     "name": "stdout",
     "output_type": "stream",
     "text": [
      "добавляет к объекту line1 точку с координатами (point[0],point[1])\n",
      " \n",
      " Arguments :\n",
      " \n",
      " point : массив из двух элементов\n",
      " \n",
      " Returns : None\n",
      " \n"
     ]
    }
   ],
   "source": [
    "print(at_frame1.__doc__)"
   ]
  },
  {
   "cell_type": "markdown",
   "id": "02aecb1f-5790-4d48-80c4-ae10d5bfcc04",
   "metadata": {},
   "source": [
    "Для построения анимации полагаем аргумент `frames` для функции\n",
    "`FuncAnimation` следующим образом: `frames=matrix` . Это означает, что\n",
    "количество кадров анимации будет совпадать с количеством строк матрицы\n",
    "`matrix` . При этом для каждого кадра анимации будет вызываться функция\n",
    "`at_frame1` со значением аргумента, равным строке матрицы `matrix` , индекс\n",
    "которой соответствует номеру кадра.\n",
    "\n",
    "**$\\color{red}{Важная}$ $\\color{red}{информация}$ $\\color{red}{для}$ $\\color{red}{построения}$ $\\color{red}{анимации}$**:вызов функций `figure` ,\n",
    "`axes` , `plot` , необходимых для анимации, а также вызов функции `FuncAnimation`\n",
    "должны располагаться в одной ячейке кода."
   ]
  },
  {
   "cell_type": "code",
   "execution_count": 191,
   "id": "9224f24d-6fab-44d2-bc42-b8a4a1fc9e8c",
   "metadata": {},
   "outputs": [
    {
     "data": {
      "text/plain": [
       "<matplotlib.animation.FuncAnimation at 0x1d36925e9f0>"
      ]
     },
     "execution_count": 191,
     "metadata": {},
     "output_type": "execute_result"
    },
    {
     "data": {
      "application/vnd.jupyter.widget-view+json": {
       "model_id": "43d502f3439749ca8d49afe76d648acf",
       "version_major": 2,
       "version_minor": 0
      },
      "image/png": "[encoded data removed]",
      "text/html": [
       "\n",
       "            <div style=\"display: inline-block;\">\n",
       "                <div class=\"jupyter-widgets widget-label\" style=\"text-align: center;\">\n",
       "                    Figure\n",
       "                </div>\n",
       "                <img src='data:image/png;base64,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' width=640.0/>\n",
       "            </div>\n",
       "        "
      ],
      "text/plain": [
       "Canvas(toolbar=Toolbar(toolitems=[('Home', 'Reset original view', 'home', 'home'), ('Back', 'Back to previous …"
      ]
     },
     "metadata": {},
     "output_type": "display_data"
    }
   ],
   "source": [
    "fig1 = plt.figure()\n",
    "ax1 = plt.axes()\n",
    "plt.axis([x_min-0.5, x_max+0.5, y_min-0.5, y_max+0.5])\n",
    "line1, = ax1.plot([], [],'b')\n",
    "FuncAnimation(fig1, at_frame1, frames=matrix, repeat=False, interval=15)"
   ]
  },
  {
   "cell_type": "markdown",
   "id": "7428573d-461d-497b-8d84-9c35b54770fb",
   "metadata": {},
   "source": [
    "Для повторного воспроизведения анимации нужно запустить предыдующую ячейку\n",
    "кода снова.\n",
    "\n",
    "В результате многочисленных запусков анимации может накопиться много\n",
    "объектов графических окон. Функция `close` удалит это объекты"
   ]
  },
  {
   "cell_type": "code",
   "execution_count": 194,
   "id": "390700e3-dd44-44cf-a900-b417b7751c3f",
   "metadata": {},
   "outputs": [],
   "source": [
    "plt.close('all')"
   ]
  },
  {
   "cell_type": "markdown",
   "id": "9fee7518-1324-4760-bb58-c724ba89ce37",
   "metadata": {},
   "source": [
    "### Реализация Задания 3.1b"
   ]
  },
  {
   "cell_type": "markdown",
   "id": "a04fb19c-5839-4420-b234-17dca0aa04fa",
   "metadata": {},
   "source": [
    "$\\color{red}{Создайте}$ $\\color{red}{аналогичную}$ $\\color{red}{анимацию}$ построения графика параметрически\n",
    "заданной функции $x=x(t)$, $y=y(t)$ по значениям $t$, последовательно\n",
    "изменяющимся от $t_{min}$ до $t_{max}$ с шагом $step$. Выполните задание для функции из\n",
    "Задания 1.4 в Лб1, согласно Вашему варианту. Значения $t_{min}$ и $t_{max}$ выберите\n",
    "самостоятельно с учетом непрерывности параметрической функции на выбранном\n",
    "диапазоне, $step = (t_{max} - t_{min}) / 100 $\n"
   ]
  },
  {
   "cell_type": "markdown",
   "id": "65ac8d39-adae-47e2-addf-c13076a8ad7d",
   "metadata": {},
   "source": [
    " $x = ln\\sqrt{\\frac{1-t}{1+t}} , y = \\sqrt{1-t^2}$"
   ]
  },
  {
   "cell_type": "code",
   "execution_count": 199,
   "id": "4c718465-cb5f-48cd-9d88-82aea0903c2b",
   "metadata": {},
   "outputs": [],
   "source": [
    "def x(t):\n",
    "    return np.log(np.sqrt((1 - t) / (1 + t)))\n",
    "\n",
    "def y(t):\n",
    "    return np.sqrt(1 - t**2)"
   ]
  },
  {
   "cell_type": "code",
   "execution_count": 201,
   "id": "eed8144e-7c78-445d-9fbf-53fc83049b01",
   "metadata": {},
   "outputs": [],
   "source": [
    "t_min = -0.9\n",
    "t_max = 0.9\n",
    "step = (t_max - t_min) / 100\n",
    "t_array = np.arange(t_min, t_max, step)\n",
    "x_array1 = x(t_array)\n",
    "y_array1 = y(t_array)"
   ]
  },
  {
   "cell_type": "code",
   "execution_count": 203,
   "id": "a52558a3-d948-4296-83ba-974521afba47",
   "metadata": {},
   "outputs": [],
   "source": [
    "matrix1 = np.transpose([x_array1, y_array1])"
   ]
  },
  {
   "cell_type": "code",
   "execution_count": 205,
   "id": "aa8ea4c3-6f16-411f-9a79-671ca05ac726",
   "metadata": {},
   "outputs": [
    {
     "data": {
      "text/plain": [
       "(-1.884702847839837, 1.9722194895832204, -0.06411010564593272, 1.5)"
      ]
     },
     "execution_count": 205,
     "metadata": {},
     "output_type": "execute_result"
    },
    {
     "data": {
      "application/vnd.jupyter.widget-view+json": {
       "model_id": "e9a11a2606b74a9faf8c63c1faf5b0e7",
       "version_major": 2,
       "version_minor": 0
      },
      "image/png": "[encoded data removed]",
      "text/html": [
       "\n",
       "            <div style=\"display: inline-block;\">\n",
       "                <div class=\"jupyter-widgets widget-label\" style=\"text-align: center;\">\n",
       "                    Figure\n",
       "                </div>\n",
       "                <img src='data:image/png;base64,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' width=640.0/>\n",
       "            </div>\n",
       "        "
      ],
      "text/plain": [
       "Canvas(toolbar=Toolbar(toolitems=[('Home', 'Reset original view', 'home', 'home'), ('Back', 'Back to previous …"
      ]
     },
     "metadata": {},
     "output_type": "display_data"
    }
   ],
   "source": [
    "y_min1, y_max1 = np.min(y_array1), np.max(y_array1)\n",
    "x_min1, x_max1 = np.min(x_array1), np.max(x_array1)\n",
    "ax1 = plt.axes()\n",
    "plt.axis([x_min1-0.5, x_max1+0.5, y_min1-0.5, y_max1+0.5])"
   ]
  },
  {
   "cell_type": "code",
   "execution_count": 207,
   "id": "eaa3ea1d-5139-40d6-9808-ce193fde6b41",
   "metadata": {},
   "outputs": [],
   "source": [
    "line1, = ax1.plot([], [],'b')"
   ]
  },
  {
   "cell_type": "code",
   "execution_count": 209,
   "id": "7aa653ff-79c7-4ef6-b8ee-7ce79f24e60c",
   "metadata": {},
   "outputs": [],
   "source": [
    "def at_frame1(point):\n",
    " \"\"\"добавляет к объекту line1 точку с координатами (point[0],point[1])\n",
    " \n",
    " Arguments :\n",
    " \n",
    " point : массив из двух элементов\n",
    " \n",
    " Returns : None\n",
    " \"\"\"\n",
    " x_coord = list(line1.get_xdata())\n",
    " y_coord = list(line1.get_ydata())\n",
    " \n",
    " x_coord.append(point[0])\n",
    " y_coord.append(point[1])\n",
    " \n",
    " line1.set_data(x_coord, y_coord)"
   ]
  },
  {
   "cell_type": "code",
   "execution_count": 211,
   "id": "610e6374-2977-4482-b944-b2f947f6aac4",
   "metadata": {},
   "outputs": [
    {
     "data": {
      "text/plain": [
       "<matplotlib.animation.FuncAnimation at 0x1d36b2a1250>"
      ]
     },
     "execution_count": 211,
     "metadata": {},
     "output_type": "execute_result"
    },
    {
     "data": {
      "application/vnd.jupyter.widget-view+json": {
       "model_id": "ce0d91ab02614510ac10a09c9f6c150d",
       "version_major": 2,
       "version_minor": 0
      },
      "image/png": "[encoded data removed]",
      "text/html": [
       "\n",
       "            <div style=\"display: inline-block;\">\n",
       "                <div class=\"jupyter-widgets widget-label\" style=\"text-align: center;\">\n",
       "                    Figure\n",
       "                </div>\n",
       "                <img src='data:image/png;base64,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' width=640.0/>\n",
       "            </div>\n",
       "        "
      ],
      "text/plain": [
       "Canvas(toolbar=Toolbar(toolitems=[('Home', 'Reset original view', 'home', 'home'), ('Back', 'Back to previous …"
      ]
     },
     "metadata": {},
     "output_type": "display_data"
    }
   ],
   "source": [
    "fig1 = plt.figure()\n",
    "ax1 = plt.axes()\n",
    "plt.axis([x_min1-0.5, x_max1+0.5, y_min1-0.5, y_max1+0.5])\n",
    "line1, = ax1.plot([], [],'b')\n",
    "FuncAnimation(fig1, at_frame1, frames=matrix1, repeat=False, interval=15)"
   ]
  },
  {
   "cell_type": "code",
   "execution_count": 213,
   "id": "f75860ed-1a7f-4db4-b980-a759de09cd19",
   "metadata": {},
   "outputs": [],
   "source": [
    "plt.close('all')"
   ]
  },
  {
   "cell_type": "markdown",
   "id": "81907ceb-1ca3-4741-9a2c-62b0da68f0c3",
   "metadata": {},
   "source": [
    "## Задание 3.2. Движение точки по линии на плоскости"
   ]
  },
  {
   "cell_type": "markdown",
   "id": "d1a8ce7a-a07d-4681-bc32-7721ec36cb3f",
   "metadata": {},
   "source": [
    "$\\color{red}{Создайте}$ $\\color{red}{анимацию}$  движения точки по графику функции $x=x(t)$, $y=y(t)$ по значениям $t$, последовательно\n",
    "изменяющимся от $t_{min}$ до $t_{max}$ с шагом $step$. Функция $x=x(t)$, $y=y(t)$ и значения переменных $t_{min}$ ,$t_{max}$ , $step$ задаются\n",
    "такими же, как и при выполнении Задания 3.1b"
   ]
  },
  {
   "cell_type": "markdown",
   "id": "6d724c68-ae94-4176-ac56-730fbe041e5d",
   "metadata": {},
   "source": [
    "### Реализация Задания 3.2 для функции $y(x) = sin(x)^4$"
   ]
  },
  {
   "cell_type": "code",
   "execution_count": 218,
   "id": "ccf6a829-232e-4d2e-b733-64e9763a799c",
   "metadata": {},
   "outputs": [
    {
     "data": {
      "application/vnd.jupyter.widget-view+json": {
       "model_id": "e6ed6d49703c4243b09a0e41d8471a40",
       "version_major": 2,
       "version_minor": 0
      },
      "image/png": "[encoded data removed]",
      "text/html": [
       "\n",
       "            <div style=\"display: inline-block;\">\n",
       "                <div class=\"jupyter-widgets widget-label\" style=\"text-align: center;\">\n",
       "                    Figure\n",
       "                </div>\n",
       "                <img src='data:image/png;base64,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' width=640.0/>\n",
       "            </div>\n",
       "        "
      ],
      "text/plain": [
       "Canvas(toolbar=Toolbar(toolitems=[('Home', 'Reset original view', 'home', 'home'), ('Back', 'Back to previous …"
      ]
     },
     "metadata": {},
     "output_type": "display_data"
    }
   ],
   "source": [
    "fig2 = plt.figure()\n",
    "ax2 = plt.axes()\n",
    "plt.axis([x_min-0.5, x_max+0.5, y_min-0.5, y_max+0.5])\n",
    "line1, = ax2.plot(x_array, y_array,'b') # объект для графика функции\n",
    "line2, = ax2.plot([], [],'go') # объект для точки"
   ]
  },
  {
   "cell_type": "code",
   "execution_count": 220,
   "id": "838e084e-0c0b-4863-b839-32f04fd168c1",
   "metadata": {},
   "outputs": [],
   "source": [
    "def at_frame2(point):\n",
    " \"\"\"задает объект line2 точкой с координатами (point[0],point[1])\n",
    "\n",
    " Arguments :\n",
    "\n",
    " point : массив из двух элементов\n",
    "\n",
    " Returns : None\n",
    " \"\"\"\n",
    " line2.set_data([point[0]],[point[1]])"
   ]
  },
  {
   "cell_type": "code",
   "execution_count": 222,
   "id": "bca2ee1a-3932-4d56-b5a3-45f82c68a1cc",
   "metadata": {},
   "outputs": [
    {
     "data": {
      "text/plain": [
       "<matplotlib.animation.FuncAnimation at 0x1d36c6e26c0>"
      ]
     },
     "execution_count": 222,
     "metadata": {},
     "output_type": "execute_result"
    },
    {
     "data": {
      "application/vnd.jupyter.widget-view+json": {
       "model_id": "7b53c22baa3b4013a3b585e7621502e5",
       "version_major": 2,
       "version_minor": 0
      },
      "image/png": "[encoded data removed]",
      "text/html": [
       "\n",
       "            <div style=\"display: inline-block;\">\n",
       "                <div class=\"jupyter-widgets widget-label\" style=\"text-align: center;\">\n",
       "                    Figure\n",
       "                </div>\n",
       "                <img src='data:image/png;base64,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' width=640.0/>\n",
       "            </div>\n",
       "        "
      ],
      "text/plain": [
       "Canvas(toolbar=Toolbar(toolitems=[('Home', 'Reset original view', 'home', 'home'), ('Back', 'Back to previous …"
      ]
     },
     "metadata": {},
     "output_type": "display_data"
    }
   ],
   "source": [
    "fig2 = plt.figure()\n",
    "ax2 = plt.axes()\n",
    "plt.axis([x_min-0.5, x_max+0.5, y_min-0.5, y_max+0.5])\n",
    "def init():\n",
    "    \"\"\"создает начальное состояние графической области\"\"\"\n",
    "    global line2 # переменная сделана глобальной, чтобы она могла изменяться внутри at_frame2\n",
    " \n",
    "    line1, = ax2.plot(x_array, y_array,'b') \n",
    "    line2, = ax2.plot([], [],'go')\n",
    "    plt.legend([r'$y(x) = \\sin(x)^4$','Мovable point'])\n",
    "FuncAnimation(fig2, at_frame2, frames=matrix, init_func=init, repeat=False, interval = 20)"
   ]
  },
  {
   "cell_type": "code",
   "execution_count": 224,
   "id": "3939a48e-b2a5-4e4f-ac5c-393ffc5da16f",
   "metadata": {},
   "outputs": [],
   "source": [
    "plt.close('all')"
   ]
  },
  {
   "cell_type": "markdown",
   "id": "f8651156-3aeb-4742-bb98-a34812569811",
   "metadata": {},
   "source": [
    "$\\color{red}{Создайте}$ аналогичную анимацию для функции  $x=x(t)$, $y=y(t)$ из Задания 3.1b"
   ]
  },
  {
   "cell_type": "code",
   "execution_count": 227,
   "id": "ccab78ad-7e8a-419a-a333-a5ce8b0402c6",
   "metadata": {},
   "outputs": [
    {
     "data": {
      "application/vnd.jupyter.widget-view+json": {
       "model_id": "bed578e463af471ea464c1f2244f0d0d",
       "version_major": 2,
       "version_minor": 0
      },
      "image/png": "[encoded data removed]",
      "text/html": [
       "\n",
       "            <div style=\"display: inline-block;\">\n",
       "                <div class=\"jupyter-widgets widget-label\" style=\"text-align: center;\">\n",
       "                    Figure\n",
       "                </div>\n",
       "                <img src='data:image/png;base64,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' width=640.0/>\n",
       "            </div>\n",
       "        "
      ],
      "text/plain": [
       "Canvas(toolbar=Toolbar(toolitems=[('Home', 'Reset original view', 'home', 'home'), ('Back', 'Back to previous …"
      ]
     },
     "metadata": {},
     "output_type": "display_data"
    }
   ],
   "source": [
    "fig2 = plt.figure()\n",
    "ax2 = plt.axes()\n",
    "plt.axis([x_min1-0.5, x_max1+0.5, y_min1-0.5, y_max1+0.5])\n",
    "line1, = ax2.plot(x_array1, y_array1,'b')\n",
    "line2, = ax2.plot([], [],'go')"
   ]
  },
  {
   "cell_type": "code",
   "execution_count": 229,
   "id": "e87c60b4-3abe-4f31-b6e7-0323b7f94db4",
   "metadata": {},
   "outputs": [],
   "source": [
    "def at_frame2(point):\n",
    "    line2.set_data([point[0]], [point[1]])"
   ]
  },
  {
   "cell_type": "code",
   "execution_count": 231,
   "id": "f42957c3-f8ed-4da3-9193-b0f99babaa5f",
   "metadata": {},
   "outputs": [
    {
     "data": {
      "text/plain": [
       "<matplotlib.animation.FuncAnimation at 0x1d36c76a3c0>"
      ]
     },
     "execution_count": 231,
     "metadata": {},
     "output_type": "execute_result"
    },
    {
     "data": {
      "application/vnd.jupyter.widget-view+json": {
       "model_id": "5f12794ddc6e46afb8b714639f47bffc",
       "version_major": 2,
       "version_minor": 0
      },
      "image/png": "[encoded data removed]",
      "text/html": [
       "\n",
       "            <div style=\"display: inline-block;\">\n",
       "                <div class=\"jupyter-widgets widget-label\" style=\"text-align: center;\">\n",
       "                    Figure\n",
       "                </div>\n",
       "                <img src='data:image/png;base64,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' width=640.0/>\n",
       "            </div>\n",
       "        "
      ],
      "text/plain": [
       "Canvas(toolbar=Toolbar(toolitems=[('Home', 'Reset original view', 'home', 'home'), ('Back', 'Back to previous …"
      ]
     },
     "metadata": {},
     "output_type": "display_data"
    }
   ],
   "source": [
    "fig2 = plt.figure()\n",
    "ax2 = plt.axes()\n",
    "plt.axis([x_min1-0.5, x_max1+0.5, y_min1-0.5, y_max1+0.5])\n",
    "def init():\n",
    "    global line2\n",
    "    line1, = ax2.plot(x_array1, y_array1,'b') \n",
    "    line2, = ax2.plot([], [],'go')\n",
    "    plt.legend([r'$x = \\ln\\sqrt{\\frac{1-t}{1+t}} , y = \\sqrt{1-t^2}$','Мovable point'])\n",
    "FuncAnimation(fig2, at_frame2, frames=matrix1, init_func=init, repeat=False, interval = 20)\n"
   ]
  },
  {
   "cell_type": "code",
   "execution_count": 233,
   "id": "18f175cd-217c-4363-b407-35bb9c26ef0c",
   "metadata": {},
   "outputs": [],
   "source": [
    "plt.close('all')"
   ]
  },
  {
   "cell_type": "markdown",
   "id": "8266f94b-4f3b-470f-8e2d-367b89e92746",
   "metadata": {},
   "source": [
    "## Задание 3.3. Движение секущей прямой к заданной линии на плоскости (версия 1)"
   ]
  },
  {
   "cell_type": "markdown",
   "id": "d1738231-9049-4cd3-82c2-c47a11995cfd",
   "metadata": {},
   "source": [
    "Линия на плоскости задана графиком параметрической функции $x=x(t)$, $y=y(t)$ для $t \\in [t_{min},t_{max}]$\n",
    "из Задания 3.1b. Начальная точка $A$ с координатами $(x(t_{min}),y(t_{min}))$\n",
    "является неподвижной точкой. Точка $B$ движется последовательно по линии от\n",
    "конечной точки кривой с координатами $(x(t_{max}),y(t_{max}))$ к неподвижной точке $A$.\n",
    "\n",
    "$\\color{red}{Создайте}$ $\\color{red}{анимацию}$ движения секущей прямой, проходящей через точки $A$ и $B$ до\n",
    "момента совпадении координат точек $A$ и $B$, когда секущая прямая становится\n",
    "касательной прямой к заданной линии в начальной точке $A$."
   ]
  },
  {
   "cell_type": "markdown",
   "id": "0b03bd12-ce23-4b02-9fc8-47c771aa917c",
   "metadata": {},
   "source": [
    "Перед началом анимации графическая область должна содержать следующие\n",
    "графические объекты:\n",
    "\n",
    "• график заданной функции, которая определяет траекторию движения подвижной\n",
    "точки $B$;\n",
    "\n",
    "• неподвижную точку $A$;\n",
    "\n",
    "• начальное положение подвижной точки $B$;\n",
    "\n",
    "• cекущую прямую, проходящую через точки $A$ и $B$.\n",
    "Начальное состояние графической области реализуем с помощью пользовательской\n",
    "функции init ."
   ]
  },
  {
   "cell_type": "markdown",
   "id": "3792df69-9cc6-4157-8bd2-f370c1b046ba",
   "metadata": {},
   "source": [
    "### Реализация Задания 3.3 для функции $y(x) = sin(x)^4$"
   ]
  },
  {
   "cell_type": "code",
   "execution_count": null,
   "id": "75950ec1-29ff-432e-994e-7b66103a7a53",
   "metadata": {},
   "outputs": [
    {
     "data": {
      "text/plain": [
       "<matplotlib.animation.FuncAnimation at 0x1d36bfc7da0>"
      ]
     },
     "execution_count": 239,
     "metadata": {},
     "output_type": "execute_result"
    },
    {
     "data": {
      "application/vnd.jupyter.widget-view+json": {
       "model_id": "676351416bd1475d986aebb91537f611",
       "version_major": 2,
       "version_minor": 0
      },
      "image/png": "[encoded data removed]",
      "text/html": [
       "\n",
       "            <div style=\"display: inline-block;\">\n",
       "                <div class=\"jupyter-widgets widget-label\" style=\"text-align: center;\">\n",
       "                    Figure\n",
       "                </div>\n",
       "                <img src='data:image/png;base64,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' width=640.0/>\n",
       "            </div>\n",
       "        "
      ],
      "text/plain": [
       "Canvas(toolbar=Toolbar(toolitems=[('Home', 'Reset original view', 'home', 'home'), ('Back', 'Back to previous …"
      ]
     },
     "metadata": {},
     "output_type": "display_data"
    }
   ],
   "source": [
    "import numpy as np\n",
    "import matplotlib.pyplot as plt\n",
    "from matplotlib.animation import FuncAnimation\n",
    "import sympy as sp\n",
    "\n",
    "x_min = 1.; x_max = 5.; step = 0.05\n",
    "x_array = np.arange(x_min, x_max, step)\n",
    "y_array = np.sin(x_array)**4\n",
    "y_min, y_max = np.min(y_array), np.max(y_array)\n",
    "x_min, x_max = np.min(x_array), np.max(x_array)\n",
    "\n",
    "x_sym = sp.symbols('x')\n",
    "f_sym = sp.sin(x_sym)**4\n",
    "f_prime_sym = sp.diff(f_sym, x_sym)\n",
    "\n",
    "f_prime = sp.lambdify(x_sym, f_prime_sym, 'numpy')\n",
    "\n",
    "# Создание фигуры и осей\n",
    "fig3 = plt.figure()\n",
    "ax3 = plt.axes()\n",
    "plt.axis([x_min - 1, x_max + 1, y_min - 1, y_max + 1])\n",
    "\n",
    "def init():\n",
    "    \"\"\"Создает начальное состояние графической области перед началом анимации.\"\"\"\n",
    "    global point_A, point_B, secant_line, tangent_line  # Глобальные переменные\n",
    "\n",
    "    curve, = ax3.plot(x_array, y_array, 'b')  # График исходной функции\n",
    "\n",
    "    A = np.array([x_array[0], y_array[0]])\n",
    "    point_A, = ax3.plot(A[0], A[1], 'ro')\n",
    "\n",
    "    B = np.array([x_array[-1], y_array[-1]])\n",
    "    point_B, = ax3.plot(B[0], B[1], 'go')\n",
    "\n",
    "    # Секущая линия\n",
    "    secant_p = [A + (B - A) * t for t in [-2, 2]]\n",
    "    secant_p = np.array(secant_p)\n",
    "    secant_line, = ax3.plot(secant_p[:, 0], secant_p[:, 1], 'g')\n",
    "\n",
    "    tangent_line, = ax3.plot([], [], 'r')\n",
    "\n",
    "    plt.legend([r'$y(x) = \\sin(x)^4$','Unmovable point A','Мovable point B','Seс'])\n",
    "  \n",
    "def at_frame3(point):\n",
    "    \"\"\"Обновляет положение точки B и линии (секущей или касательной) на каждом кадре.\"\"\"\n",
    "    global secant_line, tangent_line\n",
    "\n",
    "    # Обновляем точки А и В\n",
    "    point_B.set_data([point[0]], [point[1]])\n",
    "    A = np.array([x_array[0], y_array[0]])\n",
    "\n",
    "    # Если точки совпадают\n",
    "    if np.allclose(A, point):\n",
    "        k = f_prime(A[0])\n",
    "        tangent_p = [A + np.array([1, k]) * t for t in [-100, 100]]  # Две точки касательной\n",
    "        tangent_p = np.array(tangent_p)\n",
    "\n",
    "        tangent_line.set_data(tangent_p[:, 0], tangent_p[:, 1])\n",
    "        secant_line.set_data([], [])\n",
    "    # Если точки не совпадают\n",
    "    else:\n",
    "        secant_p = [A + (point - A) * t for t in [-100, 100]]\n",
    "        secant_p = np.array(secant_p)\n",
    "        secant_line.set_data(secant_p[:, 0], secant_p[:, 1])\n",
    "        tangent_line.set_data([], [])\n",
    "\n",
    "FuncAnimation(fig3, at_frame3, frames=matrix[::-1], \n",
    "              init_func=init, repeat=False, interval=20)"
   ]
  },
  {
   "cell_type": "code",
   "execution_count": 241,
   "id": "8f1d63c4-5073-40b6-bc27-cb9ca3ac5284",
   "metadata": {},
   "outputs": [],
   "source": [
    "plt.close('all')"
   ]
  },
  {
   "cell_type": "markdown",
   "id": "23e74c53-feea-4d10-a544-06fe686b7476",
   "metadata": {},
   "source": [
    "### Реализация Задания 3.3 для функции $ x=x(t), y=y(t) $"
   ]
  },
  {
   "cell_type": "code",
   "execution_count": 268,
   "id": "704dc555-c51a-4a11-8e72-24f6fc1a900c",
   "metadata": {},
   "outputs": [
    {
     "data": {
      "text/plain": [
       "<matplotlib.animation.FuncAnimation at 0x1d36f08a3c0>"
      ]
     },
     "execution_count": 268,
     "metadata": {},
     "output_type": "execute_result"
    },
    {
     "data": {
      "application/vnd.jupyter.widget-view+json": {
       "model_id": "5462f1a835f64957a1b1f2eefea4b185",
       "version_major": 2,
       "version_minor": 0
      },
      "image/png": "[encoded data removed]",
      "text/html": [
       "\n",
       "            <div style=\"display: inline-block;\">\n",
       "                <div class=\"jupyter-widgets widget-label\" style=\"text-align: center;\">\n",
       "                    Figure\n",
       "                </div>\n",
       "                <img src='data:image/png;base64,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' width=640.0/>\n",
       "            </div>\n",
       "        "
      ],
      "text/plain": [
       "Canvas(toolbar=Toolbar(toolitems=[('Home', 'Reset original view', 'home', 'home'), ('Back', 'Back to previous …"
      ]
     },
     "metadata": {},
     "output_type": "display_data"
    }
   ],
   "source": [
    "import numpy as np\n",
    "import matplotlib.pyplot as plt\n",
    "from matplotlib.animation import FuncAnimation\n",
    "import sympy as sp\n",
    "\n",
    "def x(t):\n",
    "    return np.log(np.sqrt((1 - t) / (1 + t)))\n",
    "\n",
    "def y(t):\n",
    "    return np.sqrt(1 - t**2)\n",
    "\n",
    "t_min = -0.9\n",
    "t_max = 0.9\n",
    "step = (t_max - t_min) / 100\n",
    "t_array = np.arange(t_min, t_max, step)\n",
    "x_array1 = x(t_array)\n",
    "y_array1 = y(t_array)\n",
    "\n",
    "matrix1 = np.transpose([x_array1, y_array1])\n",
    "\n",
    "x_min1, x_max1 = np.min(x_array1), np.max(x_array1)\n",
    "y_min1, y_max1 = np.min(y_array1), np.max(y_array1)\n",
    "\n",
    "t = sp.symbols('t')\n",
    "x_expr = sp.log(sp.sqrt((1-t)/(1+t)))\n",
    "y_expr = sp.sqrt(1-t**2)\n",
    "\n",
    "dx_dt = sp.diff(x_expr, t)\n",
    "dy_dt = sp.diff(y_expr, t)\n",
    "dy_dx = dy_dt / dx_dt\n",
    "\n",
    "dy_dx_func = sp.lambdify(t, dy_dx, 'numpy')\n",
    "\n",
    "fig3 = plt.figure()\n",
    "ax3 = plt.axes()\n",
    "plt.axis([x_min1-1, x_max1+1, y_min1-1, y_max1+1])\n",
    "\n",
    "def init():\n",
    "    \"\"\"Создает начальное состояние графической области перед началом анимации.\"\"\"\n",
    "    global point_A, point_B, secant_line, tangent_line\n",
    "    \n",
    "    curve, = ax3.plot(x_array1, y_array1, 'b') # график исходной функции\n",
    "    \n",
    "    A = np.array([x_array1[0], y_array1[0]])\n",
    "    point_A, = ax3.plot(A[0], A[1], 'ro') # неподвижная точка A\n",
    "    \n",
    "    B = np.array([x_array1[-1], y_array1[-1]])\n",
    "    point_B, = ax3.plot(B[0], B[1], 'go') # подвижная точка B\n",
    "    \n",
    "    # Секущая линия через A и B\n",
    "    secant_p = [A + (B - A)*t for t in [-2, 2]]\n",
    "    secant_p = np.array(secant_p)\n",
    "    secant_line, = ax3.plot(secant_p[:,0], secant_p[:,1], 'g')\n",
    "    \n",
    "    # Касательная линия (пока пустая)\n",
    "    tangent_line, = ax3.plot([], [], 'r')\n",
    "    \n",
    "    plt.legend([r'$x = \\ln\\sqrt{\\frac{1-t}{1+t}}, y = \\sqrt{1-t^2}$',\n",
    "               'Unmovable point A', \n",
    "               'Movable point B',\n",
    "               'Secant line',\n",
    "               'Tangent line'])\n",
    "\n",
    "def at_frame3(point):\n",
    "    \"\"\"Обновляет положение точки B и линии (секущей или касательной) на каждом кадре.\"\"\"\n",
    "    global secant_line, tangent_line\n",
    "    \n",
    "    # Обновляем положение точки B\n",
    "    point_B.set_data([point[0]], [point[1]])\n",
    "    \n",
    "    A = np.array([x_array1[0], y_array1[0]])\n",
    "    \n",
    "    # Проверяем, совпадают ли точки\n",
    "    if np.allclose(A, point):\n",
    "        k = dy_dx_func(t_array[0])\n",
    "        tangent_p = [A + np.array([1, k]) * t for t in [-100, 100]]  # Две точки касательной\n",
    "        tangent_p = np.array(tangent_p)\n",
    "\n",
    "        tangent_line.set_data(tangent_p[:, 0], tangent_p[:, 1])\n",
    "        secant_line.set_data([], [])\n",
    "    # Если точки не совпадают\n",
    "    else:\n",
    "        secant_p = [A + (point - A) * t for t in [-100, 100]]\n",
    "        secant_p = np.array(secant_p)\n",
    "        secant_line.set_data(secant_p[:, 0], secant_p[:, 1])\n",
    "        tangent_line.set_data([], [])\n",
    "\n",
    "FuncAnimation(fig3, at_frame3, frames=matrix1[::-1], \n",
    "                   init_func=init, repeat=False, interval=20)"
   ]
  },
  {
   "cell_type": "code",
   "execution_count": 270,
   "id": "f229900e-3623-4198-8471-282608f7433f",
   "metadata": {},
   "outputs": [],
   "source": [
    "plt.close('all')"
   ]
  },
  {
   "cell_type": "markdown",
   "id": "30c2b44b-2a9d-4472-885e-8910e86a0a78",
   "metadata": {},
   "source": [
    "$\\color{red}{Напишите}$ пользовательскую функцию `at_frame3(t)` , которая будет вызываться\n",
    "в каждом кадре анимации, полагая, что аргумент `point` является массивом\n",
    "координат подвижной точки. $\\color{red}{Напишите}$ строки документации для\n",
    "пользовательской функции `at_frame3` .\n",
    "\n",
    "*Обратите внимание*, что при совпадении координат неподвижной точки $A$ и\n",
    "подвижной точки $B$ уравнение для задания секущей прямой через две точки\n",
    "возвращает только точку $A$. В этом случае векторно-параметрическое уравнение\n",
    "прямой должно быть заменено на уравнение касательной прямой в точке $A$ .\n",
    "Вычисление производной в точке $A$, необходимое для построения касательной\n",
    "прямой, осуществите с помощью возможностей модуля `sympy` . Касательную\n",
    "прямую изобразите красным цветом.\n"
   ]
  },
  {
   "cell_type": "markdown",
   "id": "914dd49b-2a47-4165-a01d-ddd138a9a8e2",
   "metadata": {},
   "source": [
    "## Задание 3.4. Движение секущей прямой к заданной линии на плоскости (версия 2)"
   ]
  },
  {
   "cell_type": "markdown",
   "id": "c9bd9061-9679-42ba-bfbd-2768bf2a5919",
   "metadata": {},
   "source": [
    "Линия на плоскости задана графиком параметрической функции $x=x(t)$, $y=y(t)$ для $t \\in [t_{min},t_{max}]$\n",
    "из Задания 3.1b. Точка $A$ с координатами $(x(t_{min}),y(t_{min}))$\n",
    "является подвижной точкой на заданной линии, точка $B$ является неподвижной точкой с координатами $(x(t_{min}),y(t_{min}))$. Точка $A$  движется\n",
    "последовательно по кривой до неподвижной точки $B$\n",
    "\n",
    "$\\color{red}{Создайте}$ $\\color{red}{анимацию}$ движения секущей прямой, проходящей через точки $A$ и $B$\n",
    "до момента совпадении координат точек $A$ и $B$, когда секущая прямая становится\n",
    "касательной прямой к заданной линии в конечной точке $B$. Вычисление\n",
    "производной в точке $B$, необходимое для построения касательной прямой,\n",
    "осуществите с помощью возможностей модуля sympy . Касательную прямую\n",
    "изобразите красным цветом"
   ]
  },
  {
   "cell_type": "code",
   "execution_count": 275,
   "id": "ff6538de-6819-401b-bcf3-32de1acd298a",
   "metadata": {},
   "outputs": [
    {
     "data": {
      "text/plain": [
       "<matplotlib.animation.FuncAnimation at 0x1d36f1242c0>"
      ]
     },
     "execution_count": 275,
     "metadata": {},
     "output_type": "execute_result"
    },
    {
     "data": {
      "application/vnd.jupyter.widget-view+json": {
       "model_id": "eff912003cf242d397c0daccc9c85a84",
       "version_major": 2,
       "version_minor": 0
      },
      "image/png": "[encoded data removed]",
      "text/html": [
       "\n",
       "            <div style=\"display: inline-block;\">\n",
       "                <div class=\"jupyter-widgets widget-label\" style=\"text-align: center;\">\n",
       "                    Figure\n",
       "                </div>\n",
       "                <img src='data:image/png;base64,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' width=640.0/>\n",
       "            </div>\n",
       "        "
      ],
      "text/plain": [
       "Canvas(toolbar=Toolbar(toolitems=[('Home', 'Reset original view', 'home', 'home'), ('Back', 'Back to previous …"
      ]
     },
     "metadata": {},
     "output_type": "display_data"
    }
   ],
   "source": [
    "import numpy as np\n",
    "import matplotlib.pyplot as plt\n",
    "from matplotlib.animation import FuncAnimation\n",
    "import sympy as sp\n",
    "\n",
    "def x(t):\n",
    "    return np.log(np.sqrt((1 - t) / (1 + t)))\n",
    "\n",
    "def y(t):\n",
    "    return np.sqrt(1 - t**2)\n",
    "\n",
    "t_min = -0.9\n",
    "t_max = 0.9\n",
    "step = (t_max - t_min) / 100\n",
    "t_array = np.arange(t_min, t_max, step)\n",
    "x_array1 = x(t_array)\n",
    "y_array1 = y(t_array)\n",
    "\n",
    "matrix1 = np.transpose([x_array1, y_array1])\n",
    "\n",
    "x_min1, x_max1 = np.min(x_array1), np.max(x_array1)\n",
    "y_min1, y_max1 = np.min(y_array1), np.max(y_array1)\n",
    "\n",
    "t = sp.symbols('t')\n",
    "x_expr = sp.log(sp.sqrt((1-t)/(1+t)))\n",
    "y_expr = sp.sqrt(1-t**2)\n",
    "\n",
    "dx_dt = sp.diff(x_expr, t)\n",
    "dy_dt = sp.diff(y_expr, t)\n",
    "dy_dx = dy_dt / dx_dt\n",
    "\n",
    "dy_dx_func = sp.lambdify(t, dy_dx, 'numpy')\n",
    "\n",
    "fig3 = plt.figure()\n",
    "ax3 = plt.axes()\n",
    "plt.axis([x_min1-1, x_max1+1, y_min1-1, y_max1+1])\n",
    "\n",
    "def init():\n",
    "    \"\"\"Создает начальное состояние графической области перед началом анимации.\"\"\"\n",
    "    global point_A, point_B, secant_line, tangent_line\n",
    "    \n",
    "    curve, = ax3.plot(x_array1, y_array1, 'b') # график исходной функции\n",
    "    \n",
    "    # Теперь B - неподвижная точка (последняя точка кривой)\n",
    "    B = np.array([x_array1[-1], y_array1[-1]])\n",
    "    point_B, = ax3.plot(B[0], B[1], 'go') \n",
    "    \n",
    "    # A - подвижная точка (первая точка кривой)\n",
    "    A = np.array([x_array1[0], y_array1[0]])\n",
    "    point_A, = ax3.plot(A[0], A[1], 'ro') \n",
    "    \n",
    "    # Секущая линия через A и B\n",
    "    secant_p = [B + (A - B)*t for t in [-2, 2]]  # Обратное направление\n",
    "    secant_p = np.array(secant_p)\n",
    "    secant_line, = ax3.plot(secant_p[:,0], secant_p[:,1], 'g')\n",
    "    \n",
    "    # Касательная линия (пока пустая)\n",
    "    tangent_line, = ax3.plot([], [], 'r')\n",
    "    \n",
    "    plt.legend([r'$x = \\ln\\sqrt{\\frac{1-t}{1+t}}, y = \\sqrt{1-t^2}$',\n",
    "               'Unmovable point B',  \n",
    "               'Movable point A',  \n",
    "               'Secant line',\n",
    "               'Tangent line'])\n",
    "\n",
    "def at_frame3(point):\n",
    "    \"\"\"Обновляет положение точки A и линии (секущей или касательной) на каждом кадре.\"\"\"\n",
    "    global secant_line, tangent_line\n",
    "    \n",
    "    # Обновляем положение точки A (теперь она подвижная)\n",
    "    point_A.set_data([point[0]], [point[1]])\n",
    "    \n",
    "    # B теперь неподвижная точка (последняя точка кривой)\n",
    "    B = np.array([x_array1[-1], y_array1[-1]])\n",
    "    \n",
    "    # Проверяем, совпадают ли точки\n",
    "    if np.allclose(B, point):\n",
    "        k = dy_dx_func(t_array[-1])  # Производная в точке B\n",
    "        tangent_p = [B + np.array([1, k]) * t for t in [-100, 100]]\n",
    "        tangent_p = np.array(tangent_p)\n",
    "\n",
    "        tangent_line.set_data(tangent_p[:, 0], tangent_p[:, 1])\n",
    "        secant_line.set_data([], [])\n",
    "    # Если точки не совпадают\n",
    "    else:\n",
    "        secant_p = [B + (point - B) * t for t in [-100, 100]]\n",
    "        secant_p = np.array(secant_p)\n",
    "        secant_line.set_data(secant_p[:, 0], secant_p[:, 1])\n",
    "        tangent_line.set_data([], [])\n",
    "\n",
    "\n",
    "FuncAnimation(fig3, at_frame3, frames=matrix1, \n",
    "                   init_func=init, repeat=False, interval=20)\n"
   ]
  },
  {
   "cell_type": "code",
   "execution_count": 277,
   "id": "0c131e4a-f9e2-4ec0-baf9-23d167c09ce1",
   "metadata": {},
   "outputs": [],
   "source": [
    "plt.close('all')"
   ]
  },
  {
   "cell_type": "code",
   "execution_count": null,
   "id": "d01e1fef-eeda-421c-bc6d-946656c15d97",
   "metadata": {},
   "outputs": [],
   "source": []
  }
 ],
 "metadata": {
  "kernelspec": {
   "display_name": "Python [conda env:base] *",
   "language": "python",
   "name": "conda-base-py"
  },
  "language_info": {
   "codemirror_mode": {
    "name": "ipython",
    "version": 3
   },
   "file_extension": ".py",
   "mimetype": "text/x-python",
   "name": "python",
   "nbconvert_exporter": "python",
   "pygments_lexer": "ipython3",
   "version": "3.12.3"
  }
 },
 "nbformat": 4,
 "nbformat_minor": 5
}
