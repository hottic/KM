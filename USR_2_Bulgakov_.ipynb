{
 "cells": [
  {
   "cell_type": "markdown",
   "id": "3b5f8e49-3e9a-444b-ae67-3d4b6625361a",
   "metadata": {},
   "source": [
    "# УСР 2"
   ]
  },
  {
   "cell_type": "markdown",
   "id": "e18d4664-054a-4421-a2dd-f1e2173f978d",
   "metadata": {},
   "source": [
    "Булгаков А.Е. 13.03.2025"
   ]
  },
  {
   "cell_type": "markdown",
   "id": "ed17e612",
   "metadata": {},
   "source": [
    "## Задание №1 "
   ]
  },
  {
   "cell_type": "markdown",
   "id": "59186ffe",
   "metadata": {},
   "source": [
    "Для чего используются имена **self** и **cls** при определении класса? Каковы соглашения относительно имён **self** и **cls** при создании метода класса и при вызове метода класса?"
   ]
  },
  {
   "cell_type": "markdown",
   "id": "bf0be3d2",
   "metadata": {},
   "source": [
    "1. **self** используется для ссылки на экземпляр класса внутри метода это первый элемент в методах экземпляра.\n",
    "\n",
    "2. **cls** используется для методов класса для ссылок на сам класс при вызове метода класса метод вызывается через класс и **cls** передаётся первым аргументом "
   ]
  },
  {
   "cell_type": "markdown",
   "id": "58d57fbc",
   "metadata": {},
   "source": [
    "## Задание №2"
   ]
  },
  {
   "cell_type": "markdown",
   "id": "f2497007",
   "metadata": {},
   "source": [
    "Определите три пустых пользовательских класса, свзяанных на основе множественного наследования. Создайте экземпляр для каждого из трех классов"
   ]
  },
  {
   "cell_type": "code",
   "execution_count": 1,
   "id": "8b482465",
   "metadata": {},
   "outputs": [
    {
     "name": "stdout",
     "output_type": "stream",
     "text": [
      "(<class 'object'>,)\n",
      "(<class '__main__.A'>, <class '__main__.B'>)\n",
      "<class '__main__.A'>\n",
      "<class '__main__.C'>\n"
     ]
    }
   ],
   "source": [
    "class A:\n",
    "    pass\n",
    "\n",
    "class B:\n",
    "    pass\n",
    "\n",
    "class C(A, B):\n",
    "    pass\n",
    "\n",
    "a = A()\n",
    "b = B()\n",
    "c = C()\n",
    "\n",
    "print(A.__bases__)    \n",
    "print(C.__bases__)    \n",
    "\n",
    "print(a.__class__)    \n",
    "print(c.__class__)   "
   ]
  },
  {
   "cell_type": "markdown",
   "id": "1aa9d485",
   "metadata": {},
   "source": [
    "## Задание №4"
   ]
  },
  {
   "cell_type": "markdown",
   "id": "cea7630e",
   "metadata": {},
   "source": [
    "Для работы со структурой данных стек определите класс **Stack** на основе встроенного класа **list** с одним методом push вставки элемента в стек. Создайте экземпляр класса **Stack** и осуществие вставку элементов, генерируемых функцией **range(100)**. Приведите пояснения для каждой строки кода."
   ]
  },
  {
   "cell_type": "code",
   "execution_count": 18,
   "id": "117aa551",
   "metadata": {},
   "outputs": [
    {
     "name": "stdout",
     "output_type": "stream",
     "text": [
      "Вершина стека (последний добавленный элемент): 99\n",
      "Все элементы стека: [0, 1, 2, 3, 4, 5, 6, 7, 8, 9, 10, 11, 12, 13, 14, 15, 16, 17, 18, 19, 20, 21, 22, 23, 24, 25, 26, 27, 28, 29, 30, 31, 32, 33, 34, 35, 36, 37, 38, 39, 40, 41, 42, 43, 44, 45, 46, 47, 48, 49, 50, 51, 52, 53, 54, 55, 56, 57, 58, 59, 60, 61, 62, 63, 64, 65, 66, 67, 68, 69, 70, 71, 72, 73, 74, 75, 76, 77, 78, 79, 80, 81, 82, 83, 84, 85, 86, 87, 88, 89, 90, 91, 92, 93, 94, 95, 96, 97, 98, 99]\n"
     ]
    }
   ],
   "source": [
    "class Stack(list):  # Класс Stack, реализующий структуру данных стек на основе списка\n",
    "    \n",
    "    def push(self, item):  # Добавляет элемент в стек параментр item: Элемент для добавления в стек\n",
    "        self.append(item)  # Используем встроенный метод append списка\n",
    "\n",
    "\n",
    "\n",
    "my_stack = Stack()   # Создаём экземпляр стека\n",
    "\n",
    "\n",
    "\n",
    "for number in range(100): # Добавляем элементы от 0 до 99 в стек\n",
    "    my_stack.push(number)\n",
    "\n",
    "print(\"Вершина стека (последний добавленный элемент):\", my_stack[-1])\n",
    "print(\"Все элементы стека:\", my_stack)"
   ]
  },
  {
   "cell_type": "markdown",
   "id": "c542b007",
   "metadata": {},
   "source": [
    "## Задание №6"
   ]
  },
  {
   "cell_type": "markdown",
   "id": "84b9c89b",
   "metadata": {},
   "source": [
    "Определите пользовательский класс, который содержит атрибут класса, атрибут-свойство, статический метод и классовый метод. Осуществите доступ к атрибуту класса, атрибуту-свойству и вызов каждого метода. Приведите пояснения для каждой строки кода."
   ]
  },
  {
   "cell_type": "code",
   "execution_count": 14,
   "id": "48ee99eb",
   "metadata": {},
   "outputs": [
    {
     "name": "stdout",
     "output_type": "stream",
     "text": [
      "Атрибут класса\n",
      "42\n",
      "Статический метод\n",
      "Метод класса MyClass.\n"
     ]
    }
   ],
   "source": [
    "class MyClass:\n",
    "    class_attr = \"Атрибут класса\"  # Атрибут класса \n",
    "\n",
    "    def __init__(self, value):\n",
    "        self._value = value  # Приватный атрибут \n",
    "\n",
    "    @property\n",
    "    def value(self):  # Атрибут-свойство (геттер)\n",
    "        return self._value\n",
    "\n",
    "    @staticmethod\n",
    "    def static_method():  # Статический метод \n",
    "        print(\"Статический метод\")\n",
    "\n",
    "    @classmethod\n",
    "    def class_method(cls):  # Классовый метод \n",
    "        print(f\"Метод класса {cls.__name__}.\")\n",
    "\n",
    "\n",
    "\n",
    "print(MyClass.class_attr)  # Доступ к атрибуту класса Class Attribute\n",
    "\n",
    "obj = MyClass(42)\n",
    "print(obj.value)  # Доступ к свойству: 42\n",
    "\n",
    "MyClass.static_method()  # Вызов статического метода\n",
    "MyClass.class_method()  # Вызов классового метода"
   ]
  }
 ],
 "metadata": {
  "kernelspec": {
   "display_name": "Python 3",
   "language": "python",
   "name": "python3"
  },
  "language_info": {
   "codemirror_mode": {
    "name": "ipython",
    "version": 3
   },
   "file_extension": ".py",
   "mimetype": "text/x-python",
   "name": "python",
   "nbconvert_exporter": "python",
   "pygments_lexer": "ipython3",
   "version": "3.13.3"
  }
 },
 "nbformat": 4,
 "nbformat_minor": 5
}
